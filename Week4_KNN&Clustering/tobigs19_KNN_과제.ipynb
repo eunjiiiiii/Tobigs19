{
 "cells": [
  {
   "cell_type": "markdown",
   "metadata": {
    "id": "_PTZ7GaPe4PF"
   },
   "source": [
    "# 19기 KNN 정규세션 과제 - 19기 김은지"
   ]
  },
  {
   "cell_type": "markdown",
   "metadata": {
    "id": "3OFNeO0Ie4PH"
   },
   "source": [
    "## KNN 구현해보기\n",
    "### 1. Preprocssing / EDA\n",
    "지금까지 배운 내용을 토대로 해당 데이터에 대해 자유롭게 전처리와 EDA를 진행해주세요.\n",
    "### 2. KNN 구현 & 파라미터 튜닝\n",
    "수업 내용 및 실습 자료를 참고하여 KNN을 구현하고 파라미터 튜닝을 하며 결과를 비교해주세요.\n",
    "### 3. Evaluation\n",
    "결과에 대한 평가를 진행하고, 나름의 해석을 달아주세요."
   ]
  },
  {
   "cell_type": "markdown",
   "metadata": {
    "id": "k_IkS8Ybe4PI"
   },
   "source": [
    "**데이터:** [blackfriday | Kaggle](https://www.kaggle.com/llopesolivei/blackfriday)"
   ]
  },
  {
   "cell_type": "markdown",
   "metadata": {
    "id": "ZvUdeo2he4PI"
   },
   "source": [
    "---"
   ]
  },
  {
   "cell_type": "markdown",
   "metadata": {
    "id": "lTlQgiSie4PI"
   },
   "source": [
    "## 0. 데이터 불러오기"
   ]
  },
  {
   "cell_type": "code",
   "execution_count": 2,
   "metadata": {
    "id": "eNTRK8Ete4PJ",
    "outputId": "de247747-4645-49a6-c5d2-38cc1a381d42",
    "scrolled": false
   },
   "outputs": [
    {
     "data": {
      "text/html": [
       "<div>\n",
       "<style scoped>\n",
       "    .dataframe tbody tr th:only-of-type {\n",
       "        vertical-align: middle;\n",
       "    }\n",
       "\n",
       "    .dataframe tbody tr th {\n",
       "        vertical-align: top;\n",
       "    }\n",
       "\n",
       "    .dataframe thead th {\n",
       "        text-align: right;\n",
       "    }\n",
       "</style>\n",
       "<table border=\"1\" class=\"dataframe\">\n",
       "  <thead>\n",
       "    <tr style=\"text-align: right;\">\n",
       "      <th></th>\n",
       "      <th>User_ID</th>\n",
       "      <th>Product_ID</th>\n",
       "      <th>Gender</th>\n",
       "      <th>Age</th>\n",
       "      <th>Occupation</th>\n",
       "      <th>City_Category</th>\n",
       "      <th>Stay_In_Current_City_Years</th>\n",
       "      <th>Marital_Status</th>\n",
       "      <th>Product_Category_1</th>\n",
       "      <th>Product_Category_2</th>\n",
       "      <th>Product_Category_3</th>\n",
       "      <th>Purchase</th>\n",
       "    </tr>\n",
       "  </thead>\n",
       "  <tbody>\n",
       "    <tr>\n",
       "      <th>0</th>\n",
       "      <td>1001088</td>\n",
       "      <td>P00046042</td>\n",
       "      <td>F</td>\n",
       "      <td>0-17</td>\n",
       "      <td>10</td>\n",
       "      <td>A</td>\n",
       "      <td>3</td>\n",
       "      <td>0</td>\n",
       "      <td>5</td>\n",
       "      <td>17.0</td>\n",
       "      <td>NaN</td>\n",
       "      <td>2010</td>\n",
       "    </tr>\n",
       "    <tr>\n",
       "      <th>1</th>\n",
       "      <td>1004493</td>\n",
       "      <td>P00347742</td>\n",
       "      <td>F</td>\n",
       "      <td>0-17</td>\n",
       "      <td>10</td>\n",
       "      <td>A</td>\n",
       "      <td>1</td>\n",
       "      <td>0</td>\n",
       "      <td>7</td>\n",
       "      <td>NaN</td>\n",
       "      <td>NaN</td>\n",
       "      <td>4483</td>\n",
       "    </tr>\n",
       "    <tr>\n",
       "      <th>2</th>\n",
       "      <td>1005302</td>\n",
       "      <td>P00048942</td>\n",
       "      <td>F</td>\n",
       "      <td>0-17</td>\n",
       "      <td>10</td>\n",
       "      <td>A</td>\n",
       "      <td>1</td>\n",
       "      <td>0</td>\n",
       "      <td>1</td>\n",
       "      <td>4.0</td>\n",
       "      <td>NaN</td>\n",
       "      <td>7696</td>\n",
       "    </tr>\n",
       "    <tr>\n",
       "      <th>3</th>\n",
       "      <td>1001348</td>\n",
       "      <td>P00145242</td>\n",
       "      <td>F</td>\n",
       "      <td>0-17</td>\n",
       "      <td>10</td>\n",
       "      <td>A</td>\n",
       "      <td>3</td>\n",
       "      <td>0</td>\n",
       "      <td>2</td>\n",
       "      <td>4.0</td>\n",
       "      <td>NaN</td>\n",
       "      <td>16429</td>\n",
       "    </tr>\n",
       "    <tr>\n",
       "      <th>4</th>\n",
       "      <td>1001348</td>\n",
       "      <td>P00106742</td>\n",
       "      <td>F</td>\n",
       "      <td>0-17</td>\n",
       "      <td>10</td>\n",
       "      <td>A</td>\n",
       "      <td>3</td>\n",
       "      <td>0</td>\n",
       "      <td>3</td>\n",
       "      <td>5.0</td>\n",
       "      <td>NaN</td>\n",
       "      <td>5780</td>\n",
       "    </tr>\n",
       "  </tbody>\n",
       "</table>\n",
       "</div>"
      ],
      "text/plain": [
       "   User_ID Product_ID Gender   Age  Occupation City_Category  \\\n",
       "0  1001088  P00046042      F  0-17          10             A   \n",
       "1  1004493  P00347742      F  0-17          10             A   \n",
       "2  1005302  P00048942      F  0-17          10             A   \n",
       "3  1001348  P00145242      F  0-17          10             A   \n",
       "4  1001348  P00106742      F  0-17          10             A   \n",
       "\n",
       "  Stay_In_Current_City_Years  Marital_Status  Product_Category_1  \\\n",
       "0                          3               0                   5   \n",
       "1                          1               0                   7   \n",
       "2                          1               0                   1   \n",
       "3                          3               0                   2   \n",
       "4                          3               0                   3   \n",
       "\n",
       "   Product_Category_2  Product_Category_3  Purchase  \n",
       "0                17.0                 NaN      2010  \n",
       "1                 NaN                 NaN      4483  \n",
       "2                 4.0                 NaN      7696  \n",
       "3                 4.0                 NaN     16429  \n",
       "4                 5.0                 NaN      5780  "
      ]
     },
     "execution_count": 2,
     "metadata": {},
     "output_type": "execute_result"
    }
   ],
   "source": [
    "import pandas as pd\n",
    "df = pd.read_csv(\"blackfriday.csv\", index_col = 0)\n",
    "df.head()"
   ]
  },
  {
   "cell_type": "markdown",
   "metadata": {},
   "source": [
    "## 1. 데이터 파악"
   ]
  },
  {
   "cell_type": "code",
   "execution_count": 3,
   "metadata": {
    "id": "B5lgFAh8jDzq"
   },
   "outputs": [
    {
     "name": "stdout",
     "output_type": "stream",
     "text": [
      "<class 'pandas.core.frame.DataFrame'>\n",
      "Int64Index: 4998 entries, 0 to 4997\n",
      "Data columns (total 12 columns):\n",
      " #   Column                      Non-Null Count  Dtype  \n",
      "---  ------                      --------------  -----  \n",
      " 0   User_ID                     4998 non-null   int64  \n",
      " 1   Product_ID                  4998 non-null   object \n",
      " 2   Gender                      4998 non-null   object \n",
      " 3   Age                         4998 non-null   object \n",
      " 4   Occupation                  4998 non-null   int64  \n",
      " 5   City_Category               4998 non-null   object \n",
      " 6   Stay_In_Current_City_Years  4998 non-null   object \n",
      " 7   Marital_Status              4998 non-null   int64  \n",
      " 8   Product_Category_1          4998 non-null   int64  \n",
      " 9   Product_Category_2          3465 non-null   float64\n",
      " 10  Product_Category_3          1544 non-null   float64\n",
      " 11  Purchase                    4998 non-null   int64  \n",
      "dtypes: float64(2), int64(5), object(5)\n",
      "memory usage: 507.6+ KB\n"
     ]
    }
   ],
   "source": [
    "df.info()"
   ]
  },
  {
   "cell_type": "code",
   "execution_count": 6,
   "metadata": {},
   "outputs": [
    {
     "data": {
      "text/html": [
       "<div>\n",
       "<style scoped>\n",
       "    .dataframe tbody tr th:only-of-type {\n",
       "        vertical-align: middle;\n",
       "    }\n",
       "\n",
       "    .dataframe tbody tr th {\n",
       "        vertical-align: top;\n",
       "    }\n",
       "\n",
       "    .dataframe thead th {\n",
       "        text-align: right;\n",
       "    }\n",
       "</style>\n",
       "<table border=\"1\" class=\"dataframe\">\n",
       "  <thead>\n",
       "    <tr style=\"text-align: right;\">\n",
       "      <th></th>\n",
       "      <th>결측치 개수</th>\n",
       "    </tr>\n",
       "  </thead>\n",
       "  <tbody>\n",
       "    <tr>\n",
       "      <th>User_ID</th>\n",
       "      <td>0.000000</td>\n",
       "    </tr>\n",
       "    <tr>\n",
       "      <th>Product_ID</th>\n",
       "      <td>0.000000</td>\n",
       "    </tr>\n",
       "    <tr>\n",
       "      <th>Gender</th>\n",
       "      <td>0.000000</td>\n",
       "    </tr>\n",
       "    <tr>\n",
       "      <th>Age</th>\n",
       "      <td>0.000000</td>\n",
       "    </tr>\n",
       "    <tr>\n",
       "      <th>Occupation</th>\n",
       "      <td>0.000000</td>\n",
       "    </tr>\n",
       "    <tr>\n",
       "      <th>City_Category</th>\n",
       "      <td>0.000000</td>\n",
       "    </tr>\n",
       "    <tr>\n",
       "      <th>Stay_In_Current_City_Years</th>\n",
       "      <td>0.000000</td>\n",
       "    </tr>\n",
       "    <tr>\n",
       "      <th>Marital_Status</th>\n",
       "      <td>0.000000</td>\n",
       "    </tr>\n",
       "    <tr>\n",
       "      <th>Product_Category_1</th>\n",
       "      <td>0.000000</td>\n",
       "    </tr>\n",
       "    <tr>\n",
       "      <th>Product_Category_2</th>\n",
       "      <td>0.306723</td>\n",
       "    </tr>\n",
       "    <tr>\n",
       "      <th>Product_Category_3</th>\n",
       "      <td>0.691076</td>\n",
       "    </tr>\n",
       "    <tr>\n",
       "      <th>Purchase</th>\n",
       "      <td>0.000000</td>\n",
       "    </tr>\n",
       "  </tbody>\n",
       "</table>\n",
       "</div>"
      ],
      "text/plain": [
       "                              결측치 개수\n",
       "User_ID                     0.000000\n",
       "Product_ID                  0.000000\n",
       "Gender                      0.000000\n",
       "Age                         0.000000\n",
       "Occupation                  0.000000\n",
       "City_Category               0.000000\n",
       "Stay_In_Current_City_Years  0.000000\n",
       "Marital_Status              0.000000\n",
       "Product_Category_1          0.000000\n",
       "Product_Category_2          0.306723\n",
       "Product_Category_3          0.691076\n",
       "Purchase                    0.000000"
      ]
     },
     "execution_count": 6,
     "metadata": {},
     "output_type": "execute_result"
    }
   ],
   "source": [
    "pd.DataFrame(df.isna().sum()/len(df), columns=['결측치 개수'])"
   ]
  },
  {
   "cell_type": "markdown",
   "metadata": {},
   "source": [
    "Product_Category_3의 결측치 비율은 약 69%, Product_Category_2의 결측치 비율은 약 31%"
   ]
  },
  {
   "cell_type": "code",
   "execution_count": 13,
   "metadata": {},
   "outputs": [],
   "source": [
    "import numpy as np"
   ]
  },
  {
   "cell_type": "code",
   "execution_count": 26,
   "metadata": {},
   "outputs": [
    {
     "data": {
      "text/plain": [
       "array(['Marital_Status', 'Occupation', 'Product_Category_1',\n",
       "       'Product_Category_2', 'Product_Category_3', 'Purchase'],\n",
       "      dtype='<U18')"
      ]
     },
     "execution_count": 26,
     "metadata": {},
     "output_type": "execute_result"
    }
   ],
   "source": [
    "category_feature = [ col for col in df.columns if df[col].dtypes == \"object\"]\n",
    "#category_feature\n",
    "numerical_feature = list(set(df.columns) - set(category_feature) - set(['User_ID']))\n",
    "numerical_feature = np.sort(numerical_feature)\n",
    "numerical_feature"
   ]
  },
  {
   "cell_type": "code",
   "execution_count": 15,
   "metadata": {},
   "outputs": [
    {
     "data": {
      "text/plain": [
       "['Product_ID', 'Gender', 'Age', 'City_Category', 'Stay_In_Current_City_Years']"
      ]
     },
     "execution_count": 15,
     "metadata": {},
     "output_type": "execute_result"
    }
   ],
   "source": [
    "category_feature"
   ]
  },
  {
   "cell_type": "code",
   "execution_count": 9,
   "metadata": {},
   "outputs": [
    {
     "data": {
      "text/plain": [
       "2656"
      ]
     },
     "execution_count": 9,
     "metadata": {},
     "output_type": "execute_result"
    }
   ],
   "source": [
    "len(df['User_ID'].unique()) # User_ID의 종류는 2656개"
   ]
  },
  {
   "cell_type": "code",
   "execution_count": 10,
   "metadata": {},
   "outputs": [
    {
     "data": {
      "text/plain": [
       "1797"
      ]
     },
     "execution_count": 10,
     "metadata": {},
     "output_type": "execute_result"
    }
   ],
   "source": [
    "len(df['Product_ID'].unique()) # Product_ID의 종류는 1797개"
   ]
  },
  {
   "cell_type": "code",
   "execution_count": 16,
   "metadata": {},
   "outputs": [
    {
     "data": {
      "text/plain": [
       "7"
      ]
     },
     "execution_count": 16,
     "metadata": {},
     "output_type": "execute_result"
    }
   ],
   "source": [
    "len(df['Age'].unique()) # Age의 종류는 7개"
   ]
  },
  {
   "cell_type": "code",
   "execution_count": 20,
   "metadata": {},
   "outputs": [
    {
     "data": {
      "text/plain": [
       "array(['0-17', '18-25', '26-35', '36-45', '46-50', '51-55', '55+'],\n",
       "      dtype=object)"
      ]
     },
     "execution_count": 20,
     "metadata": {},
     "output_type": "execute_result"
    }
   ],
   "source": [
    "df['Age'].unique()"
   ]
  },
  {
   "cell_type": "code",
   "execution_count": 19,
   "metadata": {},
   "outputs": [
    {
     "name": "stdout",
     "output_type": "stream",
     "text": [
      "3\n"
     ]
    },
    {
     "data": {
      "text/plain": [
       "array(['A', 'B', 'C'], dtype=object)"
      ]
     },
     "execution_count": 19,
     "metadata": {},
     "output_type": "execute_result"
    }
   ],
   "source": [
    "print(len(df['City_Category'].unique())) # Age의 종류는 7개\n",
    "df['City_Category'].unique()"
   ]
  },
  {
   "cell_type": "code",
   "execution_count": 21,
   "metadata": {},
   "outputs": [
    {
     "name": "stdout",
     "output_type": "stream",
     "text": [
      "5\n"
     ]
    },
    {
     "data": {
      "text/plain": [
       "array(['3', '1', '2', '4+', '0'], dtype=object)"
      ]
     },
     "execution_count": 21,
     "metadata": {},
     "output_type": "execute_result"
    }
   ],
   "source": [
    "print(len(df['Stay_In_Current_City_Years'].unique())) # Age의 종류는 7개\n",
    "df['Stay_In_Current_City_Years'].unique()"
   ]
  },
  {
   "cell_type": "markdown",
   "metadata": {},
   "source": [
    "## 2. EDA"
   ]
  },
  {
   "cell_type": "markdown",
   "metadata": {},
   "source": [
    "### 1. 단일변수 시각화\n",
    "#### 1. 수치형 변수 histogram"
   ]
  },
  {
   "cell_type": "code",
   "execution_count": 22,
   "metadata": {},
   "outputs": [],
   "source": [
    "import matplotlib.pyplot as plt\n",
    "import seaborn as sns\n",
    "from scipy import stats"
   ]
  },
  {
   "cell_type": "code",
   "execution_count": 23,
   "metadata": {},
   "outputs": [],
   "source": [
    "# 한글깨짐 방지\n",
    "from matplotlib import rc\n",
    "import matplotlib.font_manager as fm\n",
    "\n",
    "fm._rebuild()\n",
    "fm.get_fontconfig_fonts()\n",
    "\n",
    "# 디렉토리 및 파일 이름에 맞추어 변경\n",
    "font_location = 'C:/Windows/Fonts/NanumGothic.ttf'\n",
    "\n",
    "font_name = fm.FontProperties(fname=font_location).get_name()\n",
    "rc('font', family=font_name)"
   ]
  },
  {
   "cell_type": "code",
   "execution_count": 27,
   "metadata": {},
   "outputs": [
    {
     "data": {
      "text/plain": [
       "array(['Marital_Status', 'Occupation', 'Product_Category_1',\n",
       "       'Product_Category_2', 'Product_Category_3', 'Purchase'],\n",
       "      dtype='<U18')"
      ]
     },
     "execution_count": 27,
     "metadata": {},
     "output_type": "execute_result"
    }
   ],
   "source": [
    "numerical_feature"
   ]
  },
  {
   "cell_type": "code",
   "execution_count": 28,
   "metadata": {},
   "outputs": [
    {
     "name": "stderr",
     "output_type": "stream",
     "text": [
      "C:\\Users\\User\\DataScience\\lib\\site-packages\\matplotlib\\backends\\backend_agg.py:214: RuntimeWarning: Glyph 8722 missing from current font.\n",
      "  font.set_text(s, 0.0, flags=flags)\n",
      "C:\\Users\\User\\DataScience\\lib\\site-packages\\matplotlib\\backends\\backend_agg.py:183: RuntimeWarning: Glyph 8722 missing from current font.\n",
      "  font.set_text(s, 0, flags=flags)\n"
     ]
    },
    {
     "data": {
      "image/png": "[encoded data removed]",
      "text/plain": [
       "<Figure size 432x288 with 1 Axes>"
      ]
     },
     "metadata": {
      "needs_background": "light"
     },
     "output_type": "display_data"
    },
    {
     "name": "stderr",
     "output_type": "stream",
     "text": [
      "C:\\Users\\User\\DataScience\\lib\\site-packages\\matplotlib\\backends\\backend_agg.py:214: RuntimeWarning: Glyph 8722 missing from current font.\n",
      "  font.set_text(s, 0.0, flags=flags)\n",
      "C:\\Users\\User\\DataScience\\lib\\site-packages\\matplotlib\\backends\\backend_agg.py:183: RuntimeWarning: Glyph 8722 missing from current font.\n",
      "  font.set_text(s, 0, flags=flags)\n"
     ]
    },
    {
     "data": {
      "image/png": "[encoded data removed]",
      "text/plain": [
       "<Figure size 432x288 with 1 Axes>"
      ]
     },
     "metadata": {
      "needs_background": "light"
     },
     "output_type": "display_data"
    },
    {
     "data": {
      "image/png": "[encoded data removed]",
      "text/plain": [
       "<Figure size 432x288 with 1 Axes>"
      ]
     },
     "metadata": {
      "needs_background": "light"
     },
     "output_type": "display_data"
    },
    {
     "data": {
      "image/png": "[encoded data removed]",
      "text/plain": [
       "<Figure size 432x288 with 1 Axes>"
      ]
     },
     "metadata": {
      "needs_background": "light"
     },
     "output_type": "display_data"
    },
    {
     "data": {
      "image/png": "[encoded data removed]",
      "text/plain": [
       "<Figure size 432x288 with 1 Axes>"
      ]
     },
     "metadata": {
      "needs_background": "light"
     },
     "output_type": "display_data"
    },
    {
     "data": {
      "image/png": "[encoded data removed]",
      "text/plain": [
       "<Figure size 432x288 with 1 Axes>"
      ]
     },
     "metadata": {
      "needs_background": "light"
     },
     "output_type": "display_data"
    }
   ],
   "source": [
    "for i,col in enumerate(numerical_feature):\n",
    "    sns.distplot(df.loc[df[col].notnull(), col], kde=True, kde_kws = {'color': 'g', 'alpha':0.3,\n",
    "                                              'linewidth':5, 'shade':True})\n",
    "    plt.title(\"%s histogram\"%col, fontsize=20)\n",
    "    plt.title(col)\n",
    "    plt.show()"
   ]
  },
  {
   "cell_type": "markdown",
   "metadata": {},
   "source": [
    "#### 2. 수치형 변수 boxplot"
   ]
  },
  {
   "cell_type": "code",
   "execution_count": 29,
   "metadata": {},
   "outputs": [
    {
     "data": {
      "image/png": "[encoded data removed]",
      "text/plain": [
       "<Figure size 432x288 with 1 Axes>"
      ]
     },
     "metadata": {
      "needs_background": "light"
     },
     "output_type": "display_data"
    },
    {
     "data": {
      "image/png": "[encoded data removed]",
      "text/plain": [
       "<Figure size 432x288 with 1 Axes>"
      ]
     },
     "metadata": {
      "needs_background": "light"
     },
     "output_type": "display_data"
    },
    {
     "data": {
      "image/png": "[encoded data removed]",
      "text/plain": [
       "<Figure size 432x288 with 1 Axes>"
      ]
     },
     "metadata": {
      "needs_background": "light"
     },
     "output_type": "display_data"
    },
    {
     "data": {
      "image/png": "[encoded data removed]",
      "text/plain": [
       "<Figure size 432x288 with 1 Axes>"
      ]
     },
     "metadata": {
      "needs_background": "light"
     },
     "output_type": "display_data"
    },
    {
     "data": {
      "image/png": "[encoded data removed]",
      "text/plain": [
       "<Figure size 432x288 with 1 Axes>"
      ]
     },
     "metadata": {
      "needs_background": "light"
     },
     "output_type": "display_data"
    },
    {
     "data": {
      "image/png": "[encoded data removed]",
      "text/plain": [
       "<Figure size 432x288 with 1 Axes>"
      ]
     },
     "metadata": {
      "needs_background": "light"
     },
     "output_type": "display_data"
    }
   ],
   "source": [
    "for i,col in enumerate(numerical_feature):\n",
    "    sns.boxplot(df.loc[df[col].notnull(), col])\n",
    "    plt.title(\"%s boxplot\"%col, fontsize=20)\n",
    "    plt.title(col)\n",
    "    plt.show()"
   ]
  },
  {
   "cell_type": "markdown",
   "metadata": {},
   "source": [
    "#### 3. 범주형 변수 barplot"
   ]
  },
  {
   "cell_type": "code",
   "execution_count": 30,
   "metadata": {},
   "outputs": [
    {
     "data": {
      "text/plain": [
       "['Product_ID', 'Gender', 'Age', 'City_Category', 'Stay_In_Current_City_Years']"
      ]
     },
     "execution_count": 30,
     "metadata": {},
     "output_type": "execute_result"
    }
   ],
   "source": [
    "category_feature"
   ]
  },
  {
   "cell_type": "code",
   "execution_count": 33,
   "metadata": {},
   "outputs": [],
   "source": [
    "sns.set(font_scale = 5)"
   ]
  },
  {
   "cell_type": "code",
   "execution_count": 37,
   "metadata": {
    "scrolled": true
   },
   "outputs": [
    {
     "data": {
      "image/png": "[encoded data removed]",
      "text/plain": [
       "<Figure size 2880x1440 with 1 Axes>"
      ]
     },
     "metadata": {},
     "output_type": "display_data"
    }
   ],
   "source": [
    "# Gender\n",
    "vc_tmp = pd.DataFrame(df['Gender'].value_counts())\n",
    "plt.figure(figsize=(40, 20), facecolor='white')\n",
    "sns.barplot(x= vc_tmp.index, y=vc_tmp['Gender'] / sum(vc_tmp['Gender']))\n",
    "plt.title(\"%s(count)\"%'Gender', fontsize=50)\n",
    "plt.show()"
   ]
  },
  {
   "cell_type": "code",
   "execution_count": 38,
   "metadata": {},
   "outputs": [
    {
     "data": {
      "image/png": "[encoded data removed]",
      "text/plain": [
       "<Figure size 2880x1440 with 1 Axes>"
      ]
     },
     "metadata": {},
     "output_type": "display_data"
    }
   ],
   "source": [
    "# Age\n",
    "vc_tmp = pd.DataFrame(df['Age'].value_counts())\n",
    "plt.figure(figsize=(40, 20), facecolor='white')\n",
    "sns.barplot(x= vc_tmp.index, y=vc_tmp['Age'] / sum(vc_tmp['Age']))\n",
    "plt.title(\"%s(count)\"%'Age', fontsize=50)\n",
    "plt.show()"
   ]
  },
  {
   "cell_type": "code",
   "execution_count": 39,
   "metadata": {},
   "outputs": [
    {
     "data": {
      "image/png": "[encoded data removed]",
      "text/plain": [
       "<Figure size 2880x1440 with 1 Axes>"
      ]
     },
     "metadata": {},
     "output_type": "display_data"
    }
   ],
   "source": [
    "# City_Category\n",
    "vc_tmp = pd.DataFrame(df['City_Category'].value_counts())\n",
    "plt.figure(figsize=(40, 20), facecolor='white')\n",
    "sns.barplot(x= vc_tmp.index, y=vc_tmp['City_Category'] / sum(vc_tmp['City_Category']))\n",
    "plt.title(\"%s(count)\"%'City_Category', fontsize=50)\n",
    "plt.show()"
   ]
  },
  {
   "cell_type": "code",
   "execution_count": 40,
   "metadata": {},
   "outputs": [
    {
     "data": {
      "image/png": "[encoded data removed]",
      "text/plain": [
       "<Figure size 2880x1440 with 1 Axes>"
      ]
     },
     "metadata": {},
     "output_type": "display_data"
    }
   ],
   "source": [
    "# Stay_In_Current_City_Years\n",
    "vc_tmp = pd.DataFrame(df['Stay_In_Current_City_Years'].value_counts())\n",
    "plt.figure(figsize=(40, 20), facecolor='white')\n",
    "sns.barplot(x= vc_tmp.index, y=vc_tmp['Stay_In_Current_City_Years'] / sum(vc_tmp['Stay_In_Current_City_Years']))\n",
    "plt.title(\"%s(count)\"%'Stay_In_Current_City_Years', fontsize=50)\n",
    "plt.show()"
   ]
  },
  {
   "cell_type": "markdown",
   "metadata": {},
   "source": [
    "## 3. Preprocessing\n",
    "전처리 단계에서는 먼저 범주가 많은 User_ID와 Product_ID를 제거하고 train, test split을 한다. <br>\n",
    "train, test data를 나눈 후 결측치 대체를 진행한다.\n",
    "결측치 대체는 평균으로 대체.\n"
   ]
  },
  {
   "cell_type": "markdown",
   "metadata": {},
   "source": [
    "#### 1. User_ID, Product_ID 제거"
   ]
  },
  {
   "cell_type": "code",
   "execution_count": 45,
   "metadata": {},
   "outputs": [
    {
     "data": {
      "text/html": [
       "<div>\n",
       "<style scoped>\n",
       "    .dataframe tbody tr th:only-of-type {\n",
       "        vertical-align: middle;\n",
       "    }\n",
       "\n",
       "    .dataframe tbody tr th {\n",
       "        vertical-align: top;\n",
       "    }\n",
       "\n",
       "    .dataframe thead th {\n",
       "        text-align: right;\n",
       "    }\n",
       "</style>\n",
       "<table border=\"1\" class=\"dataframe\">\n",
       "  <thead>\n",
       "    <tr style=\"text-align: right;\">\n",
       "      <th></th>\n",
       "      <th>Gender</th>\n",
       "      <th>Age</th>\n",
       "      <th>Occupation</th>\n",
       "      <th>City_Category</th>\n",
       "      <th>Stay_In_Current_City_Years</th>\n",
       "      <th>Marital_Status</th>\n",
       "      <th>Product_Category_1</th>\n",
       "      <th>Product_Category_2</th>\n",
       "      <th>Product_Category_3</th>\n",
       "      <th>Purchase</th>\n",
       "    </tr>\n",
       "  </thead>\n",
       "  <tbody>\n",
       "    <tr>\n",
       "      <th>0</th>\n",
       "      <td>F</td>\n",
       "      <td>0-17</td>\n",
       "      <td>10</td>\n",
       "      <td>A</td>\n",
       "      <td>3</td>\n",
       "      <td>0</td>\n",
       "      <td>5</td>\n",
       "      <td>17.0</td>\n",
       "      <td>NaN</td>\n",
       "      <td>2010</td>\n",
       "    </tr>\n",
       "    <tr>\n",
       "      <th>1</th>\n",
       "      <td>F</td>\n",
       "      <td>0-17</td>\n",
       "      <td>10</td>\n",
       "      <td>A</td>\n",
       "      <td>1</td>\n",
       "      <td>0</td>\n",
       "      <td>7</td>\n",
       "      <td>NaN</td>\n",
       "      <td>NaN</td>\n",
       "      <td>4483</td>\n",
       "    </tr>\n",
       "    <tr>\n",
       "      <th>2</th>\n",
       "      <td>F</td>\n",
       "      <td>0-17</td>\n",
       "      <td>10</td>\n",
       "      <td>A</td>\n",
       "      <td>1</td>\n",
       "      <td>0</td>\n",
       "      <td>1</td>\n",
       "      <td>4.0</td>\n",
       "      <td>NaN</td>\n",
       "      <td>7696</td>\n",
       "    </tr>\n",
       "    <tr>\n",
       "      <th>3</th>\n",
       "      <td>F</td>\n",
       "      <td>0-17</td>\n",
       "      <td>10</td>\n",
       "      <td>A</td>\n",
       "      <td>3</td>\n",
       "      <td>0</td>\n",
       "      <td>2</td>\n",
       "      <td>4.0</td>\n",
       "      <td>NaN</td>\n",
       "      <td>16429</td>\n",
       "    </tr>\n",
       "    <tr>\n",
       "      <th>4</th>\n",
       "      <td>F</td>\n",
       "      <td>0-17</td>\n",
       "      <td>10</td>\n",
       "      <td>A</td>\n",
       "      <td>3</td>\n",
       "      <td>0</td>\n",
       "      <td>3</td>\n",
       "      <td>5.0</td>\n",
       "      <td>NaN</td>\n",
       "      <td>5780</td>\n",
       "    </tr>\n",
       "    <tr>\n",
       "      <th>...</th>\n",
       "      <td>...</td>\n",
       "      <td>...</td>\n",
       "      <td>...</td>\n",
       "      <td>...</td>\n",
       "      <td>...</td>\n",
       "      <td>...</td>\n",
       "      <td>...</td>\n",
       "      <td>...</td>\n",
       "      <td>...</td>\n",
       "      <td>...</td>\n",
       "    </tr>\n",
       "    <tr>\n",
       "      <th>4993</th>\n",
       "      <td>M</td>\n",
       "      <td>55+</td>\n",
       "      <td>7</td>\n",
       "      <td>C</td>\n",
       "      <td>1</td>\n",
       "      <td>1</td>\n",
       "      <td>1</td>\n",
       "      <td>16.0</td>\n",
       "      <td>NaN</td>\n",
       "      <td>11701</td>\n",
       "    </tr>\n",
       "    <tr>\n",
       "      <th>4994</th>\n",
       "      <td>M</td>\n",
       "      <td>55+</td>\n",
       "      <td>1</td>\n",
       "      <td>C</td>\n",
       "      <td>1</td>\n",
       "      <td>1</td>\n",
       "      <td>8</td>\n",
       "      <td>NaN</td>\n",
       "      <td>NaN</td>\n",
       "      <td>2045</td>\n",
       "    </tr>\n",
       "    <tr>\n",
       "      <th>4995</th>\n",
       "      <td>M</td>\n",
       "      <td>55+</td>\n",
       "      <td>13</td>\n",
       "      <td>C</td>\n",
       "      <td>3</td>\n",
       "      <td>1</td>\n",
       "      <td>1</td>\n",
       "      <td>6.0</td>\n",
       "      <td>14.0</td>\n",
       "      <td>4505</td>\n",
       "    </tr>\n",
       "    <tr>\n",
       "      <th>4996</th>\n",
       "      <td>M</td>\n",
       "      <td>55+</td>\n",
       "      <td>0</td>\n",
       "      <td>C</td>\n",
       "      <td>2</td>\n",
       "      <td>1</td>\n",
       "      <td>12</td>\n",
       "      <td>NaN</td>\n",
       "      <td>NaN</td>\n",
       "      <td>1413</td>\n",
       "    </tr>\n",
       "    <tr>\n",
       "      <th>4997</th>\n",
       "      <td>M</td>\n",
       "      <td>55+</td>\n",
       "      <td>6</td>\n",
       "      <td>C</td>\n",
       "      <td>0</td>\n",
       "      <td>1</td>\n",
       "      <td>5</td>\n",
       "      <td>14.0</td>\n",
       "      <td>NaN</td>\n",
       "      <td>7182</td>\n",
       "    </tr>\n",
       "  </tbody>\n",
       "</table>\n",
       "<p>4998 rows × 10 columns</p>\n",
       "</div>"
      ],
      "text/plain": [
       "     Gender   Age  Occupation City_Category Stay_In_Current_City_Years  \\\n",
       "0         F  0-17          10             A                          3   \n",
       "1         F  0-17          10             A                          1   \n",
       "2         F  0-17          10             A                          1   \n",
       "3         F  0-17          10             A                          3   \n",
       "4         F  0-17          10             A                          3   \n",
       "...     ...   ...         ...           ...                        ...   \n",
       "4993      M   55+           7             C                          1   \n",
       "4994      M   55+           1             C                          1   \n",
       "4995      M   55+          13             C                          3   \n",
       "4996      M   55+           0             C                          2   \n",
       "4997      M   55+           6             C                          0   \n",
       "\n",
       "      Marital_Status  Product_Category_1  Product_Category_2  \\\n",
       "0                  0                   5                17.0   \n",
       "1                  0                   7                 NaN   \n",
       "2                  0                   1                 4.0   \n",
       "3                  0                   2                 4.0   \n",
       "4                  0                   3                 5.0   \n",
       "...              ...                 ...                 ...   \n",
       "4993               1                   1                16.0   \n",
       "4994               1                   8                 NaN   \n",
       "4995               1                   1                 6.0   \n",
       "4996               1                  12                 NaN   \n",
       "4997               1                   5                14.0   \n",
       "\n",
       "      Product_Category_3  Purchase  \n",
       "0                    NaN      2010  \n",
       "1                    NaN      4483  \n",
       "2                    NaN      7696  \n",
       "3                    NaN     16429  \n",
       "4                    NaN      5780  \n",
       "...                  ...       ...  \n",
       "4993                 NaN     11701  \n",
       "4994                 NaN      2045  \n",
       "4995                14.0      4505  \n",
       "4996                 NaN      1413  \n",
       "4997                 NaN      7182  \n",
       "\n",
       "[4998 rows x 10 columns]"
      ]
     },
     "execution_count": 45,
     "metadata": {},
     "output_type": "execute_result"
    }
   ],
   "source": [
    "df.drop(['User_ID','Product_ID'], axis=1, inplace=True)\n",
    "df"
   ]
  },
  {
   "cell_type": "markdown",
   "metadata": {},
   "source": [
    "#### 2. train, test data split"
   ]
  },
  {
   "cell_type": "code",
   "execution_count": 46,
   "metadata": {},
   "outputs": [],
   "source": [
    "from sklearn.model_selection import train_test_split"
   ]
  },
  {
   "cell_type": "code",
   "execution_count": 47,
   "metadata": {},
   "outputs": [
    {
     "data": {
      "text/html": [
       "<div>\n",
       "<style scoped>\n",
       "    .dataframe tbody tr th:only-of-type {\n",
       "        vertical-align: middle;\n",
       "    }\n",
       "\n",
       "    .dataframe tbody tr th {\n",
       "        vertical-align: top;\n",
       "    }\n",
       "\n",
       "    .dataframe thead th {\n",
       "        text-align: right;\n",
       "    }\n",
       "</style>\n",
       "<table border=\"1\" class=\"dataframe\">\n",
       "  <thead>\n",
       "    <tr style=\"text-align: right;\">\n",
       "      <th></th>\n",
       "      <th>Gender</th>\n",
       "      <th>Age</th>\n",
       "      <th>Occupation</th>\n",
       "      <th>City_Category</th>\n",
       "      <th>Stay_In_Current_City_Years</th>\n",
       "      <th>Marital_Status</th>\n",
       "      <th>Product_Category_1</th>\n",
       "      <th>Product_Category_2</th>\n",
       "      <th>Product_Category_3</th>\n",
       "      <th>Purchase</th>\n",
       "    </tr>\n",
       "  </thead>\n",
       "  <tbody>\n",
       "    <tr>\n",
       "      <th>83</th>\n",
       "      <td>M</td>\n",
       "      <td>0-17</td>\n",
       "      <td>10</td>\n",
       "      <td>B</td>\n",
       "      <td>2</td>\n",
       "      <td>0</td>\n",
       "      <td>8</td>\n",
       "      <td>NaN</td>\n",
       "      <td>NaN</td>\n",
       "      <td>7787</td>\n",
       "    </tr>\n",
       "    <tr>\n",
       "      <th>2497</th>\n",
       "      <td>M</td>\n",
       "      <td>26-35</td>\n",
       "      <td>7</td>\n",
       "      <td>B</td>\n",
       "      <td>1</td>\n",
       "      <td>1</td>\n",
       "      <td>3</td>\n",
       "      <td>4.0</td>\n",
       "      <td>5.0</td>\n",
       "      <td>13541</td>\n",
       "    </tr>\n",
       "    <tr>\n",
       "      <th>102</th>\n",
       "      <td>M</td>\n",
       "      <td>0-17</td>\n",
       "      <td>10</td>\n",
       "      <td>C</td>\n",
       "      <td>4+</td>\n",
       "      <td>0</td>\n",
       "      <td>17</td>\n",
       "      <td>NaN</td>\n",
       "      <td>NaN</td>\n",
       "      <td>7702</td>\n",
       "    </tr>\n",
       "    <tr>\n",
       "      <th>4777</th>\n",
       "      <td>M</td>\n",
       "      <td>51-55</td>\n",
       "      <td>18</td>\n",
       "      <td>C</td>\n",
       "      <td>1</td>\n",
       "      <td>0</td>\n",
       "      <td>1</td>\n",
       "      <td>15.0</td>\n",
       "      <td>16.0</td>\n",
       "      <td>19260</td>\n",
       "    </tr>\n",
       "    <tr>\n",
       "      <th>2620</th>\n",
       "      <td>M</td>\n",
       "      <td>26-35</td>\n",
       "      <td>0</td>\n",
       "      <td>B</td>\n",
       "      <td>3</td>\n",
       "      <td>0</td>\n",
       "      <td>1</td>\n",
       "      <td>6.0</td>\n",
       "      <td>16.0</td>\n",
       "      <td>15828</td>\n",
       "    </tr>\n",
       "    <tr>\n",
       "      <th>...</th>\n",
       "      <td>...</td>\n",
       "      <td>...</td>\n",
       "      <td>...</td>\n",
       "      <td>...</td>\n",
       "      <td>...</td>\n",
       "      <td>...</td>\n",
       "      <td>...</td>\n",
       "      <td>...</td>\n",
       "      <td>...</td>\n",
       "      <td>...</td>\n",
       "    </tr>\n",
       "    <tr>\n",
       "      <th>84</th>\n",
       "      <td>M</td>\n",
       "      <td>0-17</td>\n",
       "      <td>10</td>\n",
       "      <td>B</td>\n",
       "      <td>2</td>\n",
       "      <td>0</td>\n",
       "      <td>2</td>\n",
       "      <td>4.0</td>\n",
       "      <td>9.0</td>\n",
       "      <td>6682</td>\n",
       "    </tr>\n",
       "    <tr>\n",
       "      <th>471</th>\n",
       "      <td>M</td>\n",
       "      <td>18-25</td>\n",
       "      <td>4</td>\n",
       "      <td>A</td>\n",
       "      <td>1</td>\n",
       "      <td>0</td>\n",
       "      <td>1</td>\n",
       "      <td>2.0</td>\n",
       "      <td>15.0</td>\n",
       "      <td>7590</td>\n",
       "    </tr>\n",
       "    <tr>\n",
       "      <th>4085</th>\n",
       "      <td>F</td>\n",
       "      <td>46-50</td>\n",
       "      <td>1</td>\n",
       "      <td>B</td>\n",
       "      <td>1</td>\n",
       "      <td>0</td>\n",
       "      <td>10</td>\n",
       "      <td>13.0</td>\n",
       "      <td>16.0</td>\n",
       "      <td>23904</td>\n",
       "    </tr>\n",
       "    <tr>\n",
       "      <th>3317</th>\n",
       "      <td>M</td>\n",
       "      <td>36-45</td>\n",
       "      <td>0</td>\n",
       "      <td>A</td>\n",
       "      <td>1</td>\n",
       "      <td>1</td>\n",
       "      <td>2</td>\n",
       "      <td>6.0</td>\n",
       "      <td>15.0</td>\n",
       "      <td>16126</td>\n",
       "    </tr>\n",
       "    <tr>\n",
       "      <th>2510</th>\n",
       "      <td>M</td>\n",
       "      <td>26-35</td>\n",
       "      <td>17</td>\n",
       "      <td>B</td>\n",
       "      <td>0</td>\n",
       "      <td>0</td>\n",
       "      <td>1</td>\n",
       "      <td>15.0</td>\n",
       "      <td>NaN</td>\n",
       "      <td>11664</td>\n",
       "    </tr>\n",
       "  </tbody>\n",
       "</table>\n",
       "<p>3998 rows × 10 columns</p>\n",
       "</div>"
      ],
      "text/plain": [
       "     Gender    Age  Occupation City_Category Stay_In_Current_City_Years  \\\n",
       "83        M   0-17          10             B                          2   \n",
       "2497      M  26-35           7             B                          1   \n",
       "102       M   0-17          10             C                         4+   \n",
       "4777      M  51-55          18             C                          1   \n",
       "2620      M  26-35           0             B                          3   \n",
       "...     ...    ...         ...           ...                        ...   \n",
       "84        M   0-17          10             B                          2   \n",
       "471       M  18-25           4             A                          1   \n",
       "4085      F  46-50           1             B                          1   \n",
       "3317      M  36-45           0             A                          1   \n",
       "2510      M  26-35          17             B                          0   \n",
       "\n",
       "      Marital_Status  Product_Category_1  Product_Category_2  \\\n",
       "83                 0                   8                 NaN   \n",
       "2497               1                   3                 4.0   \n",
       "102                0                  17                 NaN   \n",
       "4777               0                   1                15.0   \n",
       "2620               0                   1                 6.0   \n",
       "...              ...                 ...                 ...   \n",
       "84                 0                   2                 4.0   \n",
       "471                0                   1                 2.0   \n",
       "4085               0                  10                13.0   \n",
       "3317               1                   2                 6.0   \n",
       "2510               0                   1                15.0   \n",
       "\n",
       "      Product_Category_3  Purchase  \n",
       "83                   NaN      7787  \n",
       "2497                 5.0     13541  \n",
       "102                  NaN      7702  \n",
       "4777                16.0     19260  \n",
       "2620                16.0     15828  \n",
       "...                  ...       ...  \n",
       "84                   9.0      6682  \n",
       "471                 15.0      7590  \n",
       "4085                16.0     23904  \n",
       "3317                15.0     16126  \n",
       "2510                 NaN     11664  \n",
       "\n",
       "[3998 rows x 10 columns]"
      ]
     },
     "execution_count": 47,
     "metadata": {},
     "output_type": "execute_result"
    }
   ],
   "source": [
    "train_df, test_df = train_test_split(df, test_size = 0.2, random_state = 808)\n",
    "train_df"
   ]
  },
  {
   "cell_type": "code",
   "execution_count": 48,
   "metadata": {
    "scrolled": false
   },
   "outputs": [
    {
     "data": {
      "text/html": [
       "<div>\n",
       "<style scoped>\n",
       "    .dataframe tbody tr th:only-of-type {\n",
       "        vertical-align: middle;\n",
       "    }\n",
       "\n",
       "    .dataframe tbody tr th {\n",
       "        vertical-align: top;\n",
       "    }\n",
       "\n",
       "    .dataframe thead th {\n",
       "        text-align: right;\n",
       "    }\n",
       "</style>\n",
       "<table border=\"1\" class=\"dataframe\">\n",
       "  <thead>\n",
       "    <tr style=\"text-align: right;\">\n",
       "      <th></th>\n",
       "      <th>Gender</th>\n",
       "      <th>Age</th>\n",
       "      <th>Occupation</th>\n",
       "      <th>City_Category</th>\n",
       "      <th>Stay_In_Current_City_Years</th>\n",
       "      <th>Marital_Status</th>\n",
       "      <th>Product_Category_1</th>\n",
       "      <th>Product_Category_2</th>\n",
       "      <th>Product_Category_3</th>\n",
       "      <th>Purchase</th>\n",
       "    </tr>\n",
       "  </thead>\n",
       "  <tbody>\n",
       "    <tr>\n",
       "      <th>480</th>\n",
       "      <td>M</td>\n",
       "      <td>18-25</td>\n",
       "      <td>6</td>\n",
       "      <td>A</td>\n",
       "      <td>4+</td>\n",
       "      <td>0</td>\n",
       "      <td>5</td>\n",
       "      <td>11.0</td>\n",
       "      <td>NaN</td>\n",
       "      <td>2004</td>\n",
       "    </tr>\n",
       "    <tr>\n",
       "      <th>4115</th>\n",
       "      <td>F</td>\n",
       "      <td>46-50</td>\n",
       "      <td>7</td>\n",
       "      <td>C</td>\n",
       "      <td>4+</td>\n",
       "      <td>1</td>\n",
       "      <td>8</td>\n",
       "      <td>13.0</td>\n",
       "      <td>NaN</td>\n",
       "      <td>6016</td>\n",
       "    </tr>\n",
       "    <tr>\n",
       "      <th>1398</th>\n",
       "      <td>F</td>\n",
       "      <td>26-35</td>\n",
       "      <td>1</td>\n",
       "      <td>C</td>\n",
       "      <td>2</td>\n",
       "      <td>1</td>\n",
       "      <td>5</td>\n",
       "      <td>14.0</td>\n",
       "      <td>NaN</td>\n",
       "      <td>7075</td>\n",
       "    </tr>\n",
       "    <tr>\n",
       "      <th>320</th>\n",
       "      <td>F</td>\n",
       "      <td>18-25</td>\n",
       "      <td>0</td>\n",
       "      <td>C</td>\n",
       "      <td>2</td>\n",
       "      <td>0</td>\n",
       "      <td>8</td>\n",
       "      <td>16.0</td>\n",
       "      <td>NaN</td>\n",
       "      <td>3891</td>\n",
       "    </tr>\n",
       "    <tr>\n",
       "      <th>1424</th>\n",
       "      <td>F</td>\n",
       "      <td>26-35</td>\n",
       "      <td>0</td>\n",
       "      <td>C</td>\n",
       "      <td>4+</td>\n",
       "      <td>0</td>\n",
       "      <td>1</td>\n",
       "      <td>16.0</td>\n",
       "      <td>NaN</td>\n",
       "      <td>11603</td>\n",
       "    </tr>\n",
       "  </tbody>\n",
       "</table>\n",
       "</div>"
      ],
      "text/plain": [
       "     Gender    Age  Occupation City_Category Stay_In_Current_City_Years  \\\n",
       "480       M  18-25           6             A                         4+   \n",
       "4115      F  46-50           7             C                         4+   \n",
       "1398      F  26-35           1             C                          2   \n",
       "320       F  18-25           0             C                          2   \n",
       "1424      F  26-35           0             C                         4+   \n",
       "\n",
       "      Marital_Status  Product_Category_1  Product_Category_2  \\\n",
       "480                0                   5                11.0   \n",
       "4115               1                   8                13.0   \n",
       "1398               1                   5                14.0   \n",
       "320                0                   8                16.0   \n",
       "1424               0                   1                16.0   \n",
       "\n",
       "      Product_Category_3  Purchase  \n",
       "480                  NaN      2004  \n",
       "4115                 NaN      6016  \n",
       "1398                 NaN      7075  \n",
       "320                  NaN      3891  \n",
       "1424                 NaN     11603  "
      ]
     },
     "execution_count": 48,
     "metadata": {},
     "output_type": "execute_result"
    }
   ],
   "source": [
    "test_df.head()"
   ]
  },
  {
   "cell_type": "markdown",
   "metadata": {},
   "source": [
    "#### 2. one-hot encoding"
   ]
  },
  {
   "cell_type": "code",
   "execution_count": 49,
   "metadata": {
    "scrolled": true
   },
   "outputs": [
    {
     "data": {
      "text/html": [
       "<div>\n",
       "<style scoped>\n",
       "    .dataframe tbody tr th:only-of-type {\n",
       "        vertical-align: middle;\n",
       "    }\n",
       "\n",
       "    .dataframe tbody tr th {\n",
       "        vertical-align: top;\n",
       "    }\n",
       "\n",
       "    .dataframe thead th {\n",
       "        text-align: right;\n",
       "    }\n",
       "</style>\n",
       "<table border=\"1\" class=\"dataframe\">\n",
       "  <thead>\n",
       "    <tr style=\"text-align: right;\">\n",
       "      <th></th>\n",
       "      <th>Gender</th>\n",
       "      <th>Age</th>\n",
       "      <th>Occupation</th>\n",
       "      <th>City_Category</th>\n",
       "      <th>Stay_In_Current_City_Years</th>\n",
       "      <th>Marital_Status</th>\n",
       "      <th>Product_Category_1</th>\n",
       "      <th>Product_Category_2</th>\n",
       "      <th>Product_Category_3</th>\n",
       "      <th>Purchase</th>\n",
       "    </tr>\n",
       "  </thead>\n",
       "  <tbody>\n",
       "    <tr>\n",
       "      <th>83</th>\n",
       "      <td>M</td>\n",
       "      <td>0-17</td>\n",
       "      <td>10</td>\n",
       "      <td>B</td>\n",
       "      <td>2</td>\n",
       "      <td>0</td>\n",
       "      <td>8</td>\n",
       "      <td>NaN</td>\n",
       "      <td>NaN</td>\n",
       "      <td>7787</td>\n",
       "    </tr>\n",
       "    <tr>\n",
       "      <th>2497</th>\n",
       "      <td>M</td>\n",
       "      <td>26-35</td>\n",
       "      <td>7</td>\n",
       "      <td>B</td>\n",
       "      <td>1</td>\n",
       "      <td>1</td>\n",
       "      <td>3</td>\n",
       "      <td>4.0</td>\n",
       "      <td>5.0</td>\n",
       "      <td>13541</td>\n",
       "    </tr>\n",
       "    <tr>\n",
       "      <th>102</th>\n",
       "      <td>M</td>\n",
       "      <td>0-17</td>\n",
       "      <td>10</td>\n",
       "      <td>C</td>\n",
       "      <td>4+</td>\n",
       "      <td>0</td>\n",
       "      <td>17</td>\n",
       "      <td>NaN</td>\n",
       "      <td>NaN</td>\n",
       "      <td>7702</td>\n",
       "    </tr>\n",
       "    <tr>\n",
       "      <th>4777</th>\n",
       "      <td>M</td>\n",
       "      <td>51-55</td>\n",
       "      <td>18</td>\n",
       "      <td>C</td>\n",
       "      <td>1</td>\n",
       "      <td>0</td>\n",
       "      <td>1</td>\n",
       "      <td>15.0</td>\n",
       "      <td>16.0</td>\n",
       "      <td>19260</td>\n",
       "    </tr>\n",
       "    <tr>\n",
       "      <th>2620</th>\n",
       "      <td>M</td>\n",
       "      <td>26-35</td>\n",
       "      <td>0</td>\n",
       "      <td>B</td>\n",
       "      <td>3</td>\n",
       "      <td>0</td>\n",
       "      <td>1</td>\n",
       "      <td>6.0</td>\n",
       "      <td>16.0</td>\n",
       "      <td>15828</td>\n",
       "    </tr>\n",
       "    <tr>\n",
       "      <th>...</th>\n",
       "      <td>...</td>\n",
       "      <td>...</td>\n",
       "      <td>...</td>\n",
       "      <td>...</td>\n",
       "      <td>...</td>\n",
       "      <td>...</td>\n",
       "      <td>...</td>\n",
       "      <td>...</td>\n",
       "      <td>...</td>\n",
       "      <td>...</td>\n",
       "    </tr>\n",
       "    <tr>\n",
       "      <th>84</th>\n",
       "      <td>M</td>\n",
       "      <td>0-17</td>\n",
       "      <td>10</td>\n",
       "      <td>B</td>\n",
       "      <td>2</td>\n",
       "      <td>0</td>\n",
       "      <td>2</td>\n",
       "      <td>4.0</td>\n",
       "      <td>9.0</td>\n",
       "      <td>6682</td>\n",
       "    </tr>\n",
       "    <tr>\n",
       "      <th>471</th>\n",
       "      <td>M</td>\n",
       "      <td>18-25</td>\n",
       "      <td>4</td>\n",
       "      <td>A</td>\n",
       "      <td>1</td>\n",
       "      <td>0</td>\n",
       "      <td>1</td>\n",
       "      <td>2.0</td>\n",
       "      <td>15.0</td>\n",
       "      <td>7590</td>\n",
       "    </tr>\n",
       "    <tr>\n",
       "      <th>4085</th>\n",
       "      <td>F</td>\n",
       "      <td>46-50</td>\n",
       "      <td>1</td>\n",
       "      <td>B</td>\n",
       "      <td>1</td>\n",
       "      <td>0</td>\n",
       "      <td>10</td>\n",
       "      <td>13.0</td>\n",
       "      <td>16.0</td>\n",
       "      <td>23904</td>\n",
       "    </tr>\n",
       "    <tr>\n",
       "      <th>3317</th>\n",
       "      <td>M</td>\n",
       "      <td>36-45</td>\n",
       "      <td>0</td>\n",
       "      <td>A</td>\n",
       "      <td>1</td>\n",
       "      <td>1</td>\n",
       "      <td>2</td>\n",
       "      <td>6.0</td>\n",
       "      <td>15.0</td>\n",
       "      <td>16126</td>\n",
       "    </tr>\n",
       "    <tr>\n",
       "      <th>2510</th>\n",
       "      <td>M</td>\n",
       "      <td>26-35</td>\n",
       "      <td>17</td>\n",
       "      <td>B</td>\n",
       "      <td>0</td>\n",
       "      <td>0</td>\n",
       "      <td>1</td>\n",
       "      <td>15.0</td>\n",
       "      <td>NaN</td>\n",
       "      <td>11664</td>\n",
       "    </tr>\n",
       "  </tbody>\n",
       "</table>\n",
       "<p>3998 rows × 10 columns</p>\n",
       "</div>"
      ],
      "text/plain": [
       "     Gender    Age  Occupation City_Category Stay_In_Current_City_Years  \\\n",
       "83        M   0-17          10             B                          2   \n",
       "2497      M  26-35           7             B                          1   \n",
       "102       M   0-17          10             C                         4+   \n",
       "4777      M  51-55          18             C                          1   \n",
       "2620      M  26-35           0             B                          3   \n",
       "...     ...    ...         ...           ...                        ...   \n",
       "84        M   0-17          10             B                          2   \n",
       "471       M  18-25           4             A                          1   \n",
       "4085      F  46-50           1             B                          1   \n",
       "3317      M  36-45           0             A                          1   \n",
       "2510      M  26-35          17             B                          0   \n",
       "\n",
       "      Marital_Status  Product_Category_1  Product_Category_2  \\\n",
       "83                 0                   8                 NaN   \n",
       "2497               1                   3                 4.0   \n",
       "102                0                  17                 NaN   \n",
       "4777               0                   1                15.0   \n",
       "2620               0                   1                 6.0   \n",
       "...              ...                 ...                 ...   \n",
       "84                 0                   2                 4.0   \n",
       "471                0                   1                 2.0   \n",
       "4085               0                  10                13.0   \n",
       "3317               1                   2                 6.0   \n",
       "2510               0                   1                15.0   \n",
       "\n",
       "      Product_Category_3  Purchase  \n",
       "83                   NaN      7787  \n",
       "2497                 5.0     13541  \n",
       "102                  NaN      7702  \n",
       "4777                16.0     19260  \n",
       "2620                16.0     15828  \n",
       "...                  ...       ...  \n",
       "84                   9.0      6682  \n",
       "471                 15.0      7590  \n",
       "4085                16.0     23904  \n",
       "3317                15.0     16126  \n",
       "2510                 NaN     11664  \n",
       "\n",
       "[3998 rows x 10 columns]"
      ]
     },
     "execution_count": 49,
     "metadata": {},
     "output_type": "execute_result"
    }
   ],
   "source": [
    "train_df"
   ]
  },
  {
   "cell_type": "code",
   "execution_count": 53,
   "metadata": {},
   "outputs": [
    {
     "data": {
      "text/plain": [
       "['Product_ID', 'Gender', 'Age', 'City_Category', 'Stay_In_Current_City_Years']"
      ]
     },
     "execution_count": 53,
     "metadata": {},
     "output_type": "execute_result"
    }
   ],
   "source": [
    "category_feature"
   ]
  },
  {
   "cell_type": "code",
   "execution_count": 54,
   "metadata": {},
   "outputs": [
    {
     "data": {
      "text/html": [
       "<div>\n",
       "<style scoped>\n",
       "    .dataframe tbody tr th:only-of-type {\n",
       "        vertical-align: middle;\n",
       "    }\n",
       "\n",
       "    .dataframe tbody tr th {\n",
       "        vertical-align: top;\n",
       "    }\n",
       "\n",
       "    .dataframe thead th {\n",
       "        text-align: right;\n",
       "    }\n",
       "</style>\n",
       "<table border=\"1\" class=\"dataframe\">\n",
       "  <thead>\n",
       "    <tr style=\"text-align: right;\">\n",
       "      <th></th>\n",
       "      <th>Occupation</th>\n",
       "      <th>Marital_Status</th>\n",
       "      <th>Product_Category_1</th>\n",
       "      <th>Product_Category_2</th>\n",
       "      <th>Product_Category_3</th>\n",
       "      <th>Purchase</th>\n",
       "      <th>Gender_F</th>\n",
       "      <th>Gender_M</th>\n",
       "      <th>Age_0-17</th>\n",
       "      <th>Age_18-25</th>\n",
       "      <th>...</th>\n",
       "      <th>Age_51-55</th>\n",
       "      <th>Age_55+</th>\n",
       "      <th>City_Category_A</th>\n",
       "      <th>City_Category_B</th>\n",
       "      <th>City_Category_C</th>\n",
       "      <th>Stay_In_Current_City_Years_0</th>\n",
       "      <th>Stay_In_Current_City_Years_1</th>\n",
       "      <th>Stay_In_Current_City_Years_2</th>\n",
       "      <th>Stay_In_Current_City_Years_3</th>\n",
       "      <th>Stay_In_Current_City_Years_4+</th>\n",
       "    </tr>\n",
       "  </thead>\n",
       "  <tbody>\n",
       "    <tr>\n",
       "      <th>83</th>\n",
       "      <td>10</td>\n",
       "      <td>0</td>\n",
       "      <td>8</td>\n",
       "      <td>NaN</td>\n",
       "      <td>NaN</td>\n",
       "      <td>7787</td>\n",
       "      <td>0</td>\n",
       "      <td>1</td>\n",
       "      <td>1</td>\n",
       "      <td>0</td>\n",
       "      <td>...</td>\n",
       "      <td>0</td>\n",
       "      <td>0</td>\n",
       "      <td>0</td>\n",
       "      <td>1</td>\n",
       "      <td>0</td>\n",
       "      <td>0</td>\n",
       "      <td>0</td>\n",
       "      <td>1</td>\n",
       "      <td>0</td>\n",
       "      <td>0</td>\n",
       "    </tr>\n",
       "    <tr>\n",
       "      <th>2497</th>\n",
       "      <td>7</td>\n",
       "      <td>1</td>\n",
       "      <td>3</td>\n",
       "      <td>4.0</td>\n",
       "      <td>5.0</td>\n",
       "      <td>13541</td>\n",
       "      <td>0</td>\n",
       "      <td>1</td>\n",
       "      <td>0</td>\n",
       "      <td>0</td>\n",
       "      <td>...</td>\n",
       "      <td>0</td>\n",
       "      <td>0</td>\n",
       "      <td>0</td>\n",
       "      <td>1</td>\n",
       "      <td>0</td>\n",
       "      <td>0</td>\n",
       "      <td>1</td>\n",
       "      <td>0</td>\n",
       "      <td>0</td>\n",
       "      <td>0</td>\n",
       "    </tr>\n",
       "    <tr>\n",
       "      <th>102</th>\n",
       "      <td>10</td>\n",
       "      <td>0</td>\n",
       "      <td>17</td>\n",
       "      <td>NaN</td>\n",
       "      <td>NaN</td>\n",
       "      <td>7702</td>\n",
       "      <td>0</td>\n",
       "      <td>1</td>\n",
       "      <td>1</td>\n",
       "      <td>0</td>\n",
       "      <td>...</td>\n",
       "      <td>0</td>\n",
       "      <td>0</td>\n",
       "      <td>0</td>\n",
       "      <td>0</td>\n",
       "      <td>1</td>\n",
       "      <td>0</td>\n",
       "      <td>0</td>\n",
       "      <td>0</td>\n",
       "      <td>0</td>\n",
       "      <td>1</td>\n",
       "    </tr>\n",
       "    <tr>\n",
       "      <th>4777</th>\n",
       "      <td>18</td>\n",
       "      <td>0</td>\n",
       "      <td>1</td>\n",
       "      <td>15.0</td>\n",
       "      <td>16.0</td>\n",
       "      <td>19260</td>\n",
       "      <td>0</td>\n",
       "      <td>1</td>\n",
       "      <td>0</td>\n",
       "      <td>0</td>\n",
       "      <td>...</td>\n",
       "      <td>1</td>\n",
       "      <td>0</td>\n",
       "      <td>0</td>\n",
       "      <td>0</td>\n",
       "      <td>1</td>\n",
       "      <td>0</td>\n",
       "      <td>1</td>\n",
       "      <td>0</td>\n",
       "      <td>0</td>\n",
       "      <td>0</td>\n",
       "    </tr>\n",
       "    <tr>\n",
       "      <th>2620</th>\n",
       "      <td>0</td>\n",
       "      <td>0</td>\n",
       "      <td>1</td>\n",
       "      <td>6.0</td>\n",
       "      <td>16.0</td>\n",
       "      <td>15828</td>\n",
       "      <td>0</td>\n",
       "      <td>1</td>\n",
       "      <td>0</td>\n",
       "      <td>0</td>\n",
       "      <td>...</td>\n",
       "      <td>0</td>\n",
       "      <td>0</td>\n",
       "      <td>0</td>\n",
       "      <td>1</td>\n",
       "      <td>0</td>\n",
       "      <td>0</td>\n",
       "      <td>0</td>\n",
       "      <td>0</td>\n",
       "      <td>1</td>\n",
       "      <td>0</td>\n",
       "    </tr>\n",
       "    <tr>\n",
       "      <th>...</th>\n",
       "      <td>...</td>\n",
       "      <td>...</td>\n",
       "      <td>...</td>\n",
       "      <td>...</td>\n",
       "      <td>...</td>\n",
       "      <td>...</td>\n",
       "      <td>...</td>\n",
       "      <td>...</td>\n",
       "      <td>...</td>\n",
       "      <td>...</td>\n",
       "      <td>...</td>\n",
       "      <td>...</td>\n",
       "      <td>...</td>\n",
       "      <td>...</td>\n",
       "      <td>...</td>\n",
       "      <td>...</td>\n",
       "      <td>...</td>\n",
       "      <td>...</td>\n",
       "      <td>...</td>\n",
       "      <td>...</td>\n",
       "      <td>...</td>\n",
       "    </tr>\n",
       "    <tr>\n",
       "      <th>84</th>\n",
       "      <td>10</td>\n",
       "      <td>0</td>\n",
       "      <td>2</td>\n",
       "      <td>4.0</td>\n",
       "      <td>9.0</td>\n",
       "      <td>6682</td>\n",
       "      <td>0</td>\n",
       "      <td>1</td>\n",
       "      <td>1</td>\n",
       "      <td>0</td>\n",
       "      <td>...</td>\n",
       "      <td>0</td>\n",
       "      <td>0</td>\n",
       "      <td>0</td>\n",
       "      <td>1</td>\n",
       "      <td>0</td>\n",
       "      <td>0</td>\n",
       "      <td>0</td>\n",
       "      <td>1</td>\n",
       "      <td>0</td>\n",
       "      <td>0</td>\n",
       "    </tr>\n",
       "    <tr>\n",
       "      <th>471</th>\n",
       "      <td>4</td>\n",
       "      <td>0</td>\n",
       "      <td>1</td>\n",
       "      <td>2.0</td>\n",
       "      <td>15.0</td>\n",
       "      <td>7590</td>\n",
       "      <td>0</td>\n",
       "      <td>1</td>\n",
       "      <td>0</td>\n",
       "      <td>1</td>\n",
       "      <td>...</td>\n",
       "      <td>0</td>\n",
       "      <td>0</td>\n",
       "      <td>1</td>\n",
       "      <td>0</td>\n",
       "      <td>0</td>\n",
       "      <td>0</td>\n",
       "      <td>1</td>\n",
       "      <td>0</td>\n",
       "      <td>0</td>\n",
       "      <td>0</td>\n",
       "    </tr>\n",
       "    <tr>\n",
       "      <th>4085</th>\n",
       "      <td>1</td>\n",
       "      <td>0</td>\n",
       "      <td>10</td>\n",
       "      <td>13.0</td>\n",
       "      <td>16.0</td>\n",
       "      <td>23904</td>\n",
       "      <td>1</td>\n",
       "      <td>0</td>\n",
       "      <td>0</td>\n",
       "      <td>0</td>\n",
       "      <td>...</td>\n",
       "      <td>0</td>\n",
       "      <td>0</td>\n",
       "      <td>0</td>\n",
       "      <td>1</td>\n",
       "      <td>0</td>\n",
       "      <td>0</td>\n",
       "      <td>1</td>\n",
       "      <td>0</td>\n",
       "      <td>0</td>\n",
       "      <td>0</td>\n",
       "    </tr>\n",
       "    <tr>\n",
       "      <th>3317</th>\n",
       "      <td>0</td>\n",
       "      <td>1</td>\n",
       "      <td>2</td>\n",
       "      <td>6.0</td>\n",
       "      <td>15.0</td>\n",
       "      <td>16126</td>\n",
       "      <td>0</td>\n",
       "      <td>1</td>\n",
       "      <td>0</td>\n",
       "      <td>0</td>\n",
       "      <td>...</td>\n",
       "      <td>0</td>\n",
       "      <td>0</td>\n",
       "      <td>1</td>\n",
       "      <td>0</td>\n",
       "      <td>0</td>\n",
       "      <td>0</td>\n",
       "      <td>1</td>\n",
       "      <td>0</td>\n",
       "      <td>0</td>\n",
       "      <td>0</td>\n",
       "    </tr>\n",
       "    <tr>\n",
       "      <th>2510</th>\n",
       "      <td>17</td>\n",
       "      <td>0</td>\n",
       "      <td>1</td>\n",
       "      <td>15.0</td>\n",
       "      <td>NaN</td>\n",
       "      <td>11664</td>\n",
       "      <td>0</td>\n",
       "      <td>1</td>\n",
       "      <td>0</td>\n",
       "      <td>0</td>\n",
       "      <td>...</td>\n",
       "      <td>0</td>\n",
       "      <td>0</td>\n",
       "      <td>0</td>\n",
       "      <td>1</td>\n",
       "      <td>0</td>\n",
       "      <td>1</td>\n",
       "      <td>0</td>\n",
       "      <td>0</td>\n",
       "      <td>0</td>\n",
       "      <td>0</td>\n",
       "    </tr>\n",
       "  </tbody>\n",
       "</table>\n",
       "<p>3998 rows × 23 columns</p>\n",
       "</div>"
      ],
      "text/plain": [
       "      Occupation  Marital_Status  Product_Category_1  Product_Category_2  \\\n",
       "83            10               0                   8                 NaN   \n",
       "2497           7               1                   3                 4.0   \n",
       "102           10               0                  17                 NaN   \n",
       "4777          18               0                   1                15.0   \n",
       "2620           0               0                   1                 6.0   \n",
       "...          ...             ...                 ...                 ...   \n",
       "84            10               0                   2                 4.0   \n",
       "471            4               0                   1                 2.0   \n",
       "4085           1               0                  10                13.0   \n",
       "3317           0               1                   2                 6.0   \n",
       "2510          17               0                   1                15.0   \n",
       "\n",
       "      Product_Category_3  Purchase  Gender_F  Gender_M  Age_0-17  Age_18-25  \\\n",
       "83                   NaN      7787         0         1         1          0   \n",
       "2497                 5.0     13541         0         1         0          0   \n",
       "102                  NaN      7702         0         1         1          0   \n",
       "4777                16.0     19260         0         1         0          0   \n",
       "2620                16.0     15828         0         1         0          0   \n",
       "...                  ...       ...       ...       ...       ...        ...   \n",
       "84                   9.0      6682         0         1         1          0   \n",
       "471                 15.0      7590         0         1         0          1   \n",
       "4085                16.0     23904         1         0         0          0   \n",
       "3317                15.0     16126         0         1         0          0   \n",
       "2510                 NaN     11664         0         1         0          0   \n",
       "\n",
       "      ...  Age_51-55  Age_55+  City_Category_A  City_Category_B  \\\n",
       "83    ...          0        0                0                1   \n",
       "2497  ...          0        0                0                1   \n",
       "102   ...          0        0                0                0   \n",
       "4777  ...          1        0                0                0   \n",
       "2620  ...          0        0                0                1   \n",
       "...   ...        ...      ...              ...              ...   \n",
       "84    ...          0        0                0                1   \n",
       "471   ...          0        0                1                0   \n",
       "4085  ...          0        0                0                1   \n",
       "3317  ...          0        0                1                0   \n",
       "2510  ...          0        0                0                1   \n",
       "\n",
       "      City_Category_C  Stay_In_Current_City_Years_0  \\\n",
       "83                  0                             0   \n",
       "2497                0                             0   \n",
       "102                 1                             0   \n",
       "4777                1                             0   \n",
       "2620                0                             0   \n",
       "...               ...                           ...   \n",
       "84                  0                             0   \n",
       "471                 0                             0   \n",
       "4085                0                             0   \n",
       "3317                0                             0   \n",
       "2510                0                             1   \n",
       "\n",
       "      Stay_In_Current_City_Years_1  Stay_In_Current_City_Years_2  \\\n",
       "83                               0                             1   \n",
       "2497                             1                             0   \n",
       "102                              0                             0   \n",
       "4777                             1                             0   \n",
       "2620                             0                             0   \n",
       "...                            ...                           ...   \n",
       "84                               0                             1   \n",
       "471                              1                             0   \n",
       "4085                             1                             0   \n",
       "3317                             1                             0   \n",
       "2510                             0                             0   \n",
       "\n",
       "      Stay_In_Current_City_Years_3  Stay_In_Current_City_Years_4+  \n",
       "83                               0                              0  \n",
       "2497                             0                              0  \n",
       "102                              0                              1  \n",
       "4777                             0                              0  \n",
       "2620                             1                              0  \n",
       "...                            ...                            ...  \n",
       "84                               0                              0  \n",
       "471                              0                              0  \n",
       "4085                             0                              0  \n",
       "3317                             0                              0  \n",
       "2510                             0                              0  \n",
       "\n",
       "[3998 rows x 23 columns]"
      ]
     },
     "execution_count": 54,
     "metadata": {},
     "output_type": "execute_result"
    }
   ],
   "source": [
    "train_df = pd.get_dummies(train_df, columns = [\"Gender\",'Age','City_Category','Stay_In_Current_City_Years'])\n",
    "test_df = pd.get_dummies(test_df, columns = [\"Gender\",'Age','City_Category','Stay_In_Current_City_Years'])\n",
    "train_df"
   ]
  },
  {
   "cell_type": "code",
   "execution_count": 55,
   "metadata": {},
   "outputs": [
    {
     "data": {
      "text/html": [
       "<div>\n",
       "<style scoped>\n",
       "    .dataframe tbody tr th:only-of-type {\n",
       "        vertical-align: middle;\n",
       "    }\n",
       "\n",
       "    .dataframe tbody tr th {\n",
       "        vertical-align: top;\n",
       "    }\n",
       "\n",
       "    .dataframe thead th {\n",
       "        text-align: right;\n",
       "    }\n",
       "</style>\n",
       "<table border=\"1\" class=\"dataframe\">\n",
       "  <thead>\n",
       "    <tr style=\"text-align: right;\">\n",
       "      <th></th>\n",
       "      <th>Occupation</th>\n",
       "      <th>Marital_Status</th>\n",
       "      <th>Product_Category_1</th>\n",
       "      <th>Product_Category_2</th>\n",
       "      <th>Product_Category_3</th>\n",
       "      <th>Purchase</th>\n",
       "      <th>Gender_F</th>\n",
       "      <th>Gender_M</th>\n",
       "      <th>Age_0-17</th>\n",
       "      <th>Age_18-25</th>\n",
       "      <th>...</th>\n",
       "      <th>Age_51-55</th>\n",
       "      <th>Age_55+</th>\n",
       "      <th>City_Category_A</th>\n",
       "      <th>City_Category_B</th>\n",
       "      <th>City_Category_C</th>\n",
       "      <th>Stay_In_Current_City_Years_0</th>\n",
       "      <th>Stay_In_Current_City_Years_1</th>\n",
       "      <th>Stay_In_Current_City_Years_2</th>\n",
       "      <th>Stay_In_Current_City_Years_3</th>\n",
       "      <th>Stay_In_Current_City_Years_4+</th>\n",
       "    </tr>\n",
       "  </thead>\n",
       "  <tbody>\n",
       "    <tr>\n",
       "      <th>480</th>\n",
       "      <td>6</td>\n",
       "      <td>0</td>\n",
       "      <td>5</td>\n",
       "      <td>11.0</td>\n",
       "      <td>NaN</td>\n",
       "      <td>2004</td>\n",
       "      <td>0</td>\n",
       "      <td>1</td>\n",
       "      <td>0</td>\n",
       "      <td>1</td>\n",
       "      <td>...</td>\n",
       "      <td>0</td>\n",
       "      <td>0</td>\n",
       "      <td>1</td>\n",
       "      <td>0</td>\n",
       "      <td>0</td>\n",
       "      <td>0</td>\n",
       "      <td>0</td>\n",
       "      <td>0</td>\n",
       "      <td>0</td>\n",
       "      <td>1</td>\n",
       "    </tr>\n",
       "    <tr>\n",
       "      <th>4115</th>\n",
       "      <td>7</td>\n",
       "      <td>1</td>\n",
       "      <td>8</td>\n",
       "      <td>13.0</td>\n",
       "      <td>NaN</td>\n",
       "      <td>6016</td>\n",
       "      <td>1</td>\n",
       "      <td>0</td>\n",
       "      <td>0</td>\n",
       "      <td>0</td>\n",
       "      <td>...</td>\n",
       "      <td>0</td>\n",
       "      <td>0</td>\n",
       "      <td>0</td>\n",
       "      <td>0</td>\n",
       "      <td>1</td>\n",
       "      <td>0</td>\n",
       "      <td>0</td>\n",
       "      <td>0</td>\n",
       "      <td>0</td>\n",
       "      <td>1</td>\n",
       "    </tr>\n",
       "    <tr>\n",
       "      <th>1398</th>\n",
       "      <td>1</td>\n",
       "      <td>1</td>\n",
       "      <td>5</td>\n",
       "      <td>14.0</td>\n",
       "      <td>NaN</td>\n",
       "      <td>7075</td>\n",
       "      <td>1</td>\n",
       "      <td>0</td>\n",
       "      <td>0</td>\n",
       "      <td>0</td>\n",
       "      <td>...</td>\n",
       "      <td>0</td>\n",
       "      <td>0</td>\n",
       "      <td>0</td>\n",
       "      <td>0</td>\n",
       "      <td>1</td>\n",
       "      <td>0</td>\n",
       "      <td>0</td>\n",
       "      <td>1</td>\n",
       "      <td>0</td>\n",
       "      <td>0</td>\n",
       "    </tr>\n",
       "    <tr>\n",
       "      <th>320</th>\n",
       "      <td>0</td>\n",
       "      <td>0</td>\n",
       "      <td>8</td>\n",
       "      <td>16.0</td>\n",
       "      <td>NaN</td>\n",
       "      <td>3891</td>\n",
       "      <td>1</td>\n",
       "      <td>0</td>\n",
       "      <td>0</td>\n",
       "      <td>1</td>\n",
       "      <td>...</td>\n",
       "      <td>0</td>\n",
       "      <td>0</td>\n",
       "      <td>0</td>\n",
       "      <td>0</td>\n",
       "      <td>1</td>\n",
       "      <td>0</td>\n",
       "      <td>0</td>\n",
       "      <td>1</td>\n",
       "      <td>0</td>\n",
       "      <td>0</td>\n",
       "    </tr>\n",
       "    <tr>\n",
       "      <th>1424</th>\n",
       "      <td>0</td>\n",
       "      <td>0</td>\n",
       "      <td>1</td>\n",
       "      <td>16.0</td>\n",
       "      <td>NaN</td>\n",
       "      <td>11603</td>\n",
       "      <td>1</td>\n",
       "      <td>0</td>\n",
       "      <td>0</td>\n",
       "      <td>0</td>\n",
       "      <td>...</td>\n",
       "      <td>0</td>\n",
       "      <td>0</td>\n",
       "      <td>0</td>\n",
       "      <td>0</td>\n",
       "      <td>1</td>\n",
       "      <td>0</td>\n",
       "      <td>0</td>\n",
       "      <td>0</td>\n",
       "      <td>0</td>\n",
       "      <td>1</td>\n",
       "    </tr>\n",
       "    <tr>\n",
       "      <th>...</th>\n",
       "      <td>...</td>\n",
       "      <td>...</td>\n",
       "      <td>...</td>\n",
       "      <td>...</td>\n",
       "      <td>...</td>\n",
       "      <td>...</td>\n",
       "      <td>...</td>\n",
       "      <td>...</td>\n",
       "      <td>...</td>\n",
       "      <td>...</td>\n",
       "      <td>...</td>\n",
       "      <td>...</td>\n",
       "      <td>...</td>\n",
       "      <td>...</td>\n",
       "      <td>...</td>\n",
       "      <td>...</td>\n",
       "      <td>...</td>\n",
       "      <td>...</td>\n",
       "      <td>...</td>\n",
       "      <td>...</td>\n",
       "      <td>...</td>\n",
       "    </tr>\n",
       "    <tr>\n",
       "      <th>4975</th>\n",
       "      <td>14</td>\n",
       "      <td>1</td>\n",
       "      <td>5</td>\n",
       "      <td>8.0</td>\n",
       "      <td>14.0</td>\n",
       "      <td>5348</td>\n",
       "      <td>0</td>\n",
       "      <td>1</td>\n",
       "      <td>0</td>\n",
       "      <td>0</td>\n",
       "      <td>...</td>\n",
       "      <td>0</td>\n",
       "      <td>1</td>\n",
       "      <td>0</td>\n",
       "      <td>0</td>\n",
       "      <td>1</td>\n",
       "      <td>0</td>\n",
       "      <td>1</td>\n",
       "      <td>0</td>\n",
       "      <td>0</td>\n",
       "      <td>0</td>\n",
       "    </tr>\n",
       "    <tr>\n",
       "      <th>1242</th>\n",
       "      <td>1</td>\n",
       "      <td>1</td>\n",
       "      <td>1</td>\n",
       "      <td>2.0</td>\n",
       "      <td>5.0</td>\n",
       "      <td>8087</td>\n",
       "      <td>1</td>\n",
       "      <td>0</td>\n",
       "      <td>0</td>\n",
       "      <td>0</td>\n",
       "      <td>...</td>\n",
       "      <td>0</td>\n",
       "      <td>0</td>\n",
       "      <td>0</td>\n",
       "      <td>1</td>\n",
       "      <td>0</td>\n",
       "      <td>0</td>\n",
       "      <td>1</td>\n",
       "      <td>0</td>\n",
       "      <td>0</td>\n",
       "      <td>0</td>\n",
       "    </tr>\n",
       "    <tr>\n",
       "      <th>4161</th>\n",
       "      <td>2</td>\n",
       "      <td>1</td>\n",
       "      <td>8</td>\n",
       "      <td>14.0</td>\n",
       "      <td>NaN</td>\n",
       "      <td>2225</td>\n",
       "      <td>0</td>\n",
       "      <td>1</td>\n",
       "      <td>0</td>\n",
       "      <td>0</td>\n",
       "      <td>...</td>\n",
       "      <td>0</td>\n",
       "      <td>0</td>\n",
       "      <td>1</td>\n",
       "      <td>0</td>\n",
       "      <td>0</td>\n",
       "      <td>0</td>\n",
       "      <td>1</td>\n",
       "      <td>0</td>\n",
       "      <td>0</td>\n",
       "      <td>0</td>\n",
       "    </tr>\n",
       "    <tr>\n",
       "      <th>174</th>\n",
       "      <td>2</td>\n",
       "      <td>1</td>\n",
       "      <td>8</td>\n",
       "      <td>14.0</td>\n",
       "      <td>NaN</td>\n",
       "      <td>7823</td>\n",
       "      <td>1</td>\n",
       "      <td>0</td>\n",
       "      <td>0</td>\n",
       "      <td>1</td>\n",
       "      <td>...</td>\n",
       "      <td>0</td>\n",
       "      <td>0</td>\n",
       "      <td>1</td>\n",
       "      <td>0</td>\n",
       "      <td>0</td>\n",
       "      <td>0</td>\n",
       "      <td>0</td>\n",
       "      <td>1</td>\n",
       "      <td>0</td>\n",
       "      <td>0</td>\n",
       "    </tr>\n",
       "    <tr>\n",
       "      <th>878</th>\n",
       "      <td>2</td>\n",
       "      <td>1</td>\n",
       "      <td>2</td>\n",
       "      <td>3.0</td>\n",
       "      <td>4.0</td>\n",
       "      <td>10126</td>\n",
       "      <td>0</td>\n",
       "      <td>1</td>\n",
       "      <td>0</td>\n",
       "      <td>1</td>\n",
       "      <td>...</td>\n",
       "      <td>0</td>\n",
       "      <td>0</td>\n",
       "      <td>0</td>\n",
       "      <td>0</td>\n",
       "      <td>1</td>\n",
       "      <td>0</td>\n",
       "      <td>1</td>\n",
       "      <td>0</td>\n",
       "      <td>0</td>\n",
       "      <td>0</td>\n",
       "    </tr>\n",
       "  </tbody>\n",
       "</table>\n",
       "<p>1000 rows × 23 columns</p>\n",
       "</div>"
      ],
      "text/plain": [
       "      Occupation  Marital_Status  Product_Category_1  Product_Category_2  \\\n",
       "480            6               0                   5                11.0   \n",
       "4115           7               1                   8                13.0   \n",
       "1398           1               1                   5                14.0   \n",
       "320            0               0                   8                16.0   \n",
       "1424           0               0                   1                16.0   \n",
       "...          ...             ...                 ...                 ...   \n",
       "4975          14               1                   5                 8.0   \n",
       "1242           1               1                   1                 2.0   \n",
       "4161           2               1                   8                14.0   \n",
       "174            2               1                   8                14.0   \n",
       "878            2               1                   2                 3.0   \n",
       "\n",
       "      Product_Category_3  Purchase  Gender_F  Gender_M  Age_0-17  Age_18-25  \\\n",
       "480                  NaN      2004         0         1         0          1   \n",
       "4115                 NaN      6016         1         0         0          0   \n",
       "1398                 NaN      7075         1         0         0          0   \n",
       "320                  NaN      3891         1         0         0          1   \n",
       "1424                 NaN     11603         1         0         0          0   \n",
       "...                  ...       ...       ...       ...       ...        ...   \n",
       "4975                14.0      5348         0         1         0          0   \n",
       "1242                 5.0      8087         1         0         0          0   \n",
       "4161                 NaN      2225         0         1         0          0   \n",
       "174                  NaN      7823         1         0         0          1   \n",
       "878                  4.0     10126         0         1         0          1   \n",
       "\n",
       "      ...  Age_51-55  Age_55+  City_Category_A  City_Category_B  \\\n",
       "480   ...          0        0                1                0   \n",
       "4115  ...          0        0                0                0   \n",
       "1398  ...          0        0                0                0   \n",
       "320   ...          0        0                0                0   \n",
       "1424  ...          0        0                0                0   \n",
       "...   ...        ...      ...              ...              ...   \n",
       "4975  ...          0        1                0                0   \n",
       "1242  ...          0        0                0                1   \n",
       "4161  ...          0        0                1                0   \n",
       "174   ...          0        0                1                0   \n",
       "878   ...          0        0                0                0   \n",
       "\n",
       "      City_Category_C  Stay_In_Current_City_Years_0  \\\n",
       "480                 0                             0   \n",
       "4115                1                             0   \n",
       "1398                1                             0   \n",
       "320                 1                             0   \n",
       "1424                1                             0   \n",
       "...               ...                           ...   \n",
       "4975                1                             0   \n",
       "1242                0                             0   \n",
       "4161                0                             0   \n",
       "174                 0                             0   \n",
       "878                 1                             0   \n",
       "\n",
       "      Stay_In_Current_City_Years_1  Stay_In_Current_City_Years_2  \\\n",
       "480                              0                             0   \n",
       "4115                             0                             0   \n",
       "1398                             0                             1   \n",
       "320                              0                             1   \n",
       "1424                             0                             0   \n",
       "...                            ...                           ...   \n",
       "4975                             1                             0   \n",
       "1242                             1                             0   \n",
       "4161                             1                             0   \n",
       "174                              0                             1   \n",
       "878                              1                             0   \n",
       "\n",
       "      Stay_In_Current_City_Years_3  Stay_In_Current_City_Years_4+  \n",
       "480                              0                              1  \n",
       "4115                             0                              1  \n",
       "1398                             0                              0  \n",
       "320                              0                              0  \n",
       "1424                             0                              1  \n",
       "...                            ...                            ...  \n",
       "4975                             0                              0  \n",
       "1242                             0                              0  \n",
       "4161                             0                              0  \n",
       "174                              0                              0  \n",
       "878                              0                              0  \n",
       "\n",
       "[1000 rows x 23 columns]"
      ]
     },
     "execution_count": 55,
     "metadata": {},
     "output_type": "execute_result"
    }
   ],
   "source": [
    "test_df"
   ]
  },
  {
   "cell_type": "code",
   "execution_count": 57,
   "metadata": {},
   "outputs": [
    {
     "name": "stdout",
     "output_type": "stream",
     "text": [
      "<class 'pandas.core.frame.DataFrame'>\n",
      "Int64Index: 3998 entries, 83 to 2510\n",
      "Data columns (total 23 columns):\n",
      " #   Column                         Non-Null Count  Dtype  \n",
      "---  ------                         --------------  -----  \n",
      " 0   Occupation                     3998 non-null   int64  \n",
      " 1   Marital_Status                 3998 non-null   int64  \n",
      " 2   Product_Category_1             3998 non-null   int64  \n",
      " 3   Product_Category_2             2770 non-null   float64\n",
      " 4   Product_Category_3             1241 non-null   float64\n",
      " 5   Purchase                       3998 non-null   int64  \n",
      " 6   Gender_F                       3998 non-null   uint8  \n",
      " 7   Gender_M                       3998 non-null   uint8  \n",
      " 8   Age_0-17                       3998 non-null   uint8  \n",
      " 9   Age_18-25                      3998 non-null   uint8  \n",
      " 10  Age_26-35                      3998 non-null   uint8  \n",
      " 11  Age_36-45                      3998 non-null   uint8  \n",
      " 12  Age_46-50                      3998 non-null   uint8  \n",
      " 13  Age_51-55                      3998 non-null   uint8  \n",
      " 14  Age_55+                        3998 non-null   uint8  \n",
      " 15  City_Category_A                3998 non-null   uint8  \n",
      " 16  City_Category_B                3998 non-null   uint8  \n",
      " 17  City_Category_C                3998 non-null   uint8  \n",
      " 18  Stay_In_Current_City_Years_0   3998 non-null   uint8  \n",
      " 19  Stay_In_Current_City_Years_1   3998 non-null   uint8  \n",
      " 20  Stay_In_Current_City_Years_2   3998 non-null   uint8  \n",
      " 21  Stay_In_Current_City_Years_3   3998 non-null   uint8  \n",
      " 22  Stay_In_Current_City_Years_4+  3998 non-null   uint8  \n",
      "dtypes: float64(2), int64(4), uint8(17)\n",
      "memory usage: 285.0 KB\n"
     ]
    }
   ],
   "source": [
    "train_df.info()"
   ]
  },
  {
   "cell_type": "code",
   "execution_count": 60,
   "metadata": {
    "scrolled": true
   },
   "outputs": [
    {
     "data": {
      "text/plain": [
       "9.752707581227437"
      ]
     },
     "execution_count": 60,
     "metadata": {},
     "output_type": "execute_result"
    }
   ],
   "source": [
    "train_df[\"Product_Category_2\"].mean()"
   ]
  },
  {
   "cell_type": "code",
   "execution_count": 61,
   "metadata": {},
   "outputs": [
    {
     "data": {
      "text/plain": [
       "9.857553956834533"
      ]
     },
     "execution_count": 61,
     "metadata": {},
     "output_type": "execute_result"
    }
   ],
   "source": [
    "test_df[\"Product_Category_2\"].mean()"
   ]
  },
  {
   "cell_type": "code",
   "execution_count": 62,
   "metadata": {},
   "outputs": [],
   "source": [
    "#age_mean으로 결측치를 채워넣음 (train & test)\n",
    "train_df.loc[:, \"Product_Category_2\"] = train_df[\"Product_Category_2\"].fillna(train_df[\"Product_Category_2\"].mean())\n",
    "test_df.loc[:, \"Product_Category_2\"] = test_df[\"Product_Category_2\"].fillna(test_df[\"Product_Category_2\"].mean())"
   ]
  },
  {
   "cell_type": "code",
   "execution_count": 63,
   "metadata": {},
   "outputs": [
    {
     "name": "stdout",
     "output_type": "stream",
     "text": [
      "<class 'pandas.core.frame.DataFrame'>\n",
      "Int64Index: 3998 entries, 83 to 2510\n",
      "Data columns (total 23 columns):\n",
      " #   Column                         Non-Null Count  Dtype  \n",
      "---  ------                         --------------  -----  \n",
      " 0   Occupation                     3998 non-null   int64  \n",
      " 1   Marital_Status                 3998 non-null   int64  \n",
      " 2   Product_Category_1             3998 non-null   int64  \n",
      " 3   Product_Category_2             3998 non-null   float64\n",
      " 4   Product_Category_3             1241 non-null   float64\n",
      " 5   Purchase                       3998 non-null   int64  \n",
      " 6   Gender_F                       3998 non-null   uint8  \n",
      " 7   Gender_M                       3998 non-null   uint8  \n",
      " 8   Age_0-17                       3998 non-null   uint8  \n",
      " 9   Age_18-25                      3998 non-null   uint8  \n",
      " 10  Age_26-35                      3998 non-null   uint8  \n",
      " 11  Age_36-45                      3998 non-null   uint8  \n",
      " 12  Age_46-50                      3998 non-null   uint8  \n",
      " 13  Age_51-55                      3998 non-null   uint8  \n",
      " 14  Age_55+                        3998 non-null   uint8  \n",
      " 15  City_Category_A                3998 non-null   uint8  \n",
      " 16  City_Category_B                3998 non-null   uint8  \n",
      " 17  City_Category_C                3998 non-null   uint8  \n",
      " 18  Stay_In_Current_City_Years_0   3998 non-null   uint8  \n",
      " 19  Stay_In_Current_City_Years_1   3998 non-null   uint8  \n",
      " 20  Stay_In_Current_City_Years_2   3998 non-null   uint8  \n",
      " 21  Stay_In_Current_City_Years_3   3998 non-null   uint8  \n",
      " 22  Stay_In_Current_City_Years_4+  3998 non-null   uint8  \n",
      "dtypes: float64(2), int64(4), uint8(17)\n",
      "memory usage: 285.0 KB\n"
     ]
    }
   ],
   "source": [
    "train_df.info()"
   ]
  },
  {
   "cell_type": "code",
   "execution_count": 64,
   "metadata": {
    "scrolled": true
   },
   "outputs": [
    {
     "data": {
      "text/plain": [
       "12.825141015310233"
      ]
     },
     "execution_count": 64,
     "metadata": {},
     "output_type": "execute_result"
    }
   ],
   "source": [
    "train_df[\"Product_Category_3\"].mean()"
   ]
  },
  {
   "cell_type": "code",
   "execution_count": 65,
   "metadata": {},
   "outputs": [
    {
     "data": {
      "text/plain": [
       "12.528052805280527"
      ]
     },
     "execution_count": 65,
     "metadata": {},
     "output_type": "execute_result"
    }
   ],
   "source": [
    "test_df[\"Product_Category_3\"].mean()"
   ]
  },
  {
   "cell_type": "code",
   "execution_count": 66,
   "metadata": {},
   "outputs": [],
   "source": [
    "#age_mean으로 결측치를 채워넣음 (train & test)\n",
    "train_df.loc[:, \"Product_Category_3\"] = train_df[\"Product_Category_3\"].fillna(train_df[\"Product_Category_3\"].mean())\n",
    "test_df.loc[:, \"Product_Category_3\"] = test_df[\"Product_Category_3\"].fillna(test_df[\"Product_Category_3\"].mean())"
   ]
  },
  {
   "cell_type": "code",
   "execution_count": 67,
   "metadata": {},
   "outputs": [
    {
     "name": "stdout",
     "output_type": "stream",
     "text": [
      "<class 'pandas.core.frame.DataFrame'>\n",
      "Int64Index: 3998 entries, 83 to 2510\n",
      "Data columns (total 23 columns):\n",
      " #   Column                         Non-Null Count  Dtype  \n",
      "---  ------                         --------------  -----  \n",
      " 0   Occupation                     3998 non-null   int64  \n",
      " 1   Marital_Status                 3998 non-null   int64  \n",
      " 2   Product_Category_1             3998 non-null   int64  \n",
      " 3   Product_Category_2             3998 non-null   float64\n",
      " 4   Product_Category_3             3998 non-null   float64\n",
      " 5   Purchase                       3998 non-null   int64  \n",
      " 6   Gender_F                       3998 non-null   uint8  \n",
      " 7   Gender_M                       3998 non-null   uint8  \n",
      " 8   Age_0-17                       3998 non-null   uint8  \n",
      " 9   Age_18-25                      3998 non-null   uint8  \n",
      " 10  Age_26-35                      3998 non-null   uint8  \n",
      " 11  Age_36-45                      3998 non-null   uint8  \n",
      " 12  Age_46-50                      3998 non-null   uint8  \n",
      " 13  Age_51-55                      3998 non-null   uint8  \n",
      " 14  Age_55+                        3998 non-null   uint8  \n",
      " 15  City_Category_A                3998 non-null   uint8  \n",
      " 16  City_Category_B                3998 non-null   uint8  \n",
      " 17  City_Category_C                3998 non-null   uint8  \n",
      " 18  Stay_In_Current_City_Years_0   3998 non-null   uint8  \n",
      " 19  Stay_In_Current_City_Years_1   3998 non-null   uint8  \n",
      " 20  Stay_In_Current_City_Years_2   3998 non-null   uint8  \n",
      " 21  Stay_In_Current_City_Years_3   3998 non-null   uint8  \n",
      " 22  Stay_In_Current_City_Years_4+  3998 non-null   uint8  \n",
      "dtypes: float64(2), int64(4), uint8(17)\n",
      "memory usage: 285.0 KB\n"
     ]
    }
   ],
   "source": [
    "train_df.info()"
   ]
  },
  {
   "cell_type": "code",
   "execution_count": 68,
   "metadata": {},
   "outputs": [],
   "source": [
    "train_target = train_df['Purchase']\n",
    "test_target = test_df['Purchase']\n",
    "train_data = train_df.drop('Purchase', axis=1)\n",
    "test_data = test_df.drop('Purchase', axis=1)"
   ]
  },
  {
   "cell_type": "code",
   "execution_count": 99,
   "metadata": {},
   "outputs": [
    {
     "data": {
      "text/plain": [
       "83       7787\n",
       "2497    13541\n",
       "102      7702\n",
       "4777    19260\n",
       "2620    15828\n",
       "        ...  \n",
       "84       6682\n",
       "471      7590\n",
       "4085    23904\n",
       "3317    16126\n",
       "2510    11664\n",
       "Name: Purchase, Length: 3998, dtype: int64"
      ]
     },
     "execution_count": 99,
     "metadata": {},
     "output_type": "execute_result"
    }
   ],
   "source": [
    "train_target"
   ]
  },
  {
   "cell_type": "code",
   "execution_count": 102,
   "metadata": {},
   "outputs": [
    {
     "name": "stdout",
     "output_type": "stream",
     "text": [
      "<class 'pandas.core.frame.DataFrame'>\n",
      "Int64Index: 3998 entries, 83 to 2510\n",
      "Data columns (total 22 columns):\n",
      " #   Column                         Non-Null Count  Dtype  \n",
      "---  ------                         --------------  -----  \n",
      " 0   Occupation                     3998 non-null   int64  \n",
      " 1   Marital_Status                 3998 non-null   int64  \n",
      " 2   Product_Category_1             3998 non-null   int64  \n",
      " 3   Product_Category_2             3998 non-null   float64\n",
      " 4   Product_Category_3             3998 non-null   float64\n",
      " 5   Gender_F                       3998 non-null   uint8  \n",
      " 6   Gender_M                       3998 non-null   uint8  \n",
      " 7   Age_0-17                       3998 non-null   uint8  \n",
      " 8   Age_18-25                      3998 non-null   uint8  \n",
      " 9   Age_26-35                      3998 non-null   uint8  \n",
      " 10  Age_36-45                      3998 non-null   uint8  \n",
      " 11  Age_46-50                      3998 non-null   uint8  \n",
      " 12  Age_51-55                      3998 non-null   uint8  \n",
      " 13  Age_55+                        3998 non-null   uint8  \n",
      " 14  City_Category_A                3998 non-null   uint8  \n",
      " 15  City_Category_B                3998 non-null   uint8  \n",
      " 16  City_Category_C                3998 non-null   uint8  \n",
      " 17  Stay_In_Current_City_Years_0   3998 non-null   uint8  \n",
      " 18  Stay_In_Current_City_Years_1   3998 non-null   uint8  \n",
      " 19  Stay_In_Current_City_Years_2   3998 non-null   uint8  \n",
      " 20  Stay_In_Current_City_Years_3   3998 non-null   uint8  \n",
      " 21  Stay_In_Current_City_Years_4+  3998 non-null   uint8  \n",
      "dtypes: float64(2), int64(3), uint8(17)\n",
      "memory usage: 253.8 KB\n"
     ]
    }
   ],
   "source": [
    "train_data.info()"
   ]
  },
  {
   "cell_type": "code",
   "execution_count": 103,
   "metadata": {},
   "outputs": [
    {
     "name": "stdout",
     "output_type": "stream",
     "text": [
      "<class 'pandas.core.frame.DataFrame'>\n",
      "Int64Index: 1000 entries, 480 to 878\n",
      "Data columns (total 22 columns):\n",
      " #   Column                         Non-Null Count  Dtype  \n",
      "---  ------                         --------------  -----  \n",
      " 0   Occupation                     1000 non-null   int64  \n",
      " 1   Marital_Status                 1000 non-null   int64  \n",
      " 2   Product_Category_1             1000 non-null   int64  \n",
      " 3   Product_Category_2             1000 non-null   float64\n",
      " 4   Product_Category_3             1000 non-null   float64\n",
      " 5   Gender_F                       1000 non-null   uint8  \n",
      " 6   Gender_M                       1000 non-null   uint8  \n",
      " 7   Age_0-17                       1000 non-null   uint8  \n",
      " 8   Age_18-25                      1000 non-null   uint8  \n",
      " 9   Age_26-35                      1000 non-null   uint8  \n",
      " 10  Age_36-45                      1000 non-null   uint8  \n",
      " 11  Age_46-50                      1000 non-null   uint8  \n",
      " 12  Age_51-55                      1000 non-null   uint8  \n",
      " 13  Age_55+                        1000 non-null   uint8  \n",
      " 14  City_Category_A                1000 non-null   uint8  \n",
      " 15  City_Category_B                1000 non-null   uint8  \n",
      " 16  City_Category_C                1000 non-null   uint8  \n",
      " 17  Stay_In_Current_City_Years_0   1000 non-null   uint8  \n",
      " 18  Stay_In_Current_City_Years_1   1000 non-null   uint8  \n",
      " 19  Stay_In_Current_City_Years_2   1000 non-null   uint8  \n",
      " 20  Stay_In_Current_City_Years_3   1000 non-null   uint8  \n",
      " 21  Stay_In_Current_City_Years_4+  1000 non-null   uint8  \n",
      "dtypes: float64(2), int64(3), uint8(17)\n",
      "memory usage: 63.5 KB\n"
     ]
    }
   ],
   "source": [
    "test_data.info()"
   ]
  },
  {
   "cell_type": "markdown",
   "metadata": {},
   "source": [
    "## 3. KNN"
   ]
  },
  {
   "cell_type": "markdown",
   "metadata": {
    "id": "BShp1cry9wcu"
   },
   "source": [
    "####  기본 KNN"
   ]
  },
  {
   "cell_type": "code",
   "execution_count": 106,
   "metadata": {
    "id": "8MelJD4D0G6s"
   },
   "outputs": [],
   "source": [
    "#knn 시작\n",
    "from sklearn.neighbors import KNeighborsRegressor\n",
    "from sklearn.model_selection import GridSearchCV\n",
    "\n",
    "knn = KNeighborsRegressor()"
   ]
  },
  {
   "cell_type": "code",
   "execution_count": 107,
   "metadata": {
    "id": "bLyzlFNr1zsF"
   },
   "outputs": [],
   "source": [
    "#그리드서치를 위한 파라미터 설정\n",
    "params_1 = {\n",
    "    \"n_neighbors\": [i for i in range(1, 20, 2)],\n",
    "    \"p\": [1, 2], #1은 맨하탄, 2는 유클리드\n",
    "    \"weights\": ['uniform']\n",
    "}"
   ]
  },
  {
   "cell_type": "code",
   "execution_count": 108,
   "metadata": {
    "colab": {
     "base_uri": "https://localhost:8080/"
    },
    "id": "oUQArxBV2TaK",
    "outputId": "affc41ec-e000-41f3-9dc5-f0d3f95364ee"
   },
   "outputs": [
    {
     "data": {
      "text/plain": [
       "{'n_neighbors': [1, 3, 5, 7, 9, 11, 13, 15, 17, 19],\n",
       " 'p': [1, 2],\n",
       " 'weights': ['uniform']}"
      ]
     },
     "execution_count": 108,
     "metadata": {},
     "output_type": "execute_result"
    }
   ],
   "source": [
    "params_1"
   ]
  },
  {
   "cell_type": "code",
   "execution_count": 109,
   "metadata": {
    "id": "y-WezdR62Yl3"
   },
   "outputs": [],
   "source": [
    "grid_cv = GridSearchCV(knn, param_grid = params_1, cv = 3)"
   ]
  },
  {
   "cell_type": "code",
   "execution_count": 110,
   "metadata": {
    "colab": {
     "base_uri": "https://localhost:8080/"
    },
    "id": "BS6TSY-73teq",
    "outputId": "21d1cf40-183e-41e6-ae49-84c52442347d"
   },
   "outputs": [
    {
     "data": {
      "text/plain": [
       "GridSearchCV(cv=3, estimator=KNeighborsRegressor(),\n",
       "             param_grid={'n_neighbors': [1, 3, 5, 7, 9, 11, 13, 15, 17, 19],\n",
       "                         'p': [1, 2], 'weights': ['uniform']})"
      ]
     },
     "execution_count": 110,
     "metadata": {},
     "output_type": "execute_result"
    }
   ],
   "source": [
    "grid_cv.fit(train_data, train_target)"
   ]
  },
  {
   "cell_type": "code",
   "execution_count": 111,
   "metadata": {
    "colab": {
     "base_uri": "https://localhost:8080/"
    },
    "id": "1Ag6WJye3xnl",
    "outputId": "41a66504-4f90-431b-934a-70c35777e5b6"
   },
   "outputs": [
    {
     "data": {
      "text/plain": [
       "{'n_neighbors': 13, 'p': 1, 'weights': 'uniform'}"
      ]
     },
     "execution_count": 111,
     "metadata": {},
     "output_type": "execute_result"
    }
   ],
   "source": [
    "grid_cv.best_params_"
   ]
  },
  {
   "cell_type": "code",
   "execution_count": 133,
   "metadata": {
    "colab": {
     "base_uri": "https://localhost:8080/"
    },
    "id": "9tItvw-e36FP",
    "outputId": "5c2584e2-71d9-4520-c10f-08626e6f281d"
   },
   "outputs": [
    {
     "data": {
      "text/plain": [
       "KNeighborsRegressor(n_neighbors=13, p=1)"
      ]
     },
     "execution_count": 133,
     "metadata": {},
     "output_type": "execute_result"
    }
   ],
   "source": [
    "knn_1 = KNeighborsRegressor(n_neighbors = 13, p = 1, weights = 'uniform')\n",
    "knn_1.fit(train_data, train_target)"
   ]
  },
  {
   "cell_type": "code",
   "execution_count": 134,
   "metadata": {
    "id": "IoGEPcaG5TfV"
   },
   "outputs": [],
   "source": [
    "#예측 진행\n",
    "test_pred = knn_1.predict(test_data)"
   ]
  },
  {
   "cell_type": "code",
   "execution_count": 135,
   "metadata": {},
   "outputs": [
    {
     "data": {
      "text/plain": [
       "array([ 7008.23076923,  7125.61538462,  8027.61538462,  9421.76923077,\n",
       "       14188.23076923, 13538.        ,  7311.69230769,  6638.46153846,\n",
       "        8281.15384615, 14724.53846154,  8607.15384615, 13196.84615385,\n",
       "        9116.61538462,  6219.30769231,  7167.53846154,  7783.15384615,\n",
       "       14700.46153846, 14701.76923077, 13774.46153846,  7935.07692308,\n",
       "        4856.61538462,  5229.84615385,  8038.46153846,  7542.07692308,\n",
       "        4861.30769231,  5302.23076923, 15224.84615385,  6044.38461538,\n",
       "        8305.23076923,  6897.23076923,  6637.38461538,  8641.        ,\n",
       "        7028.38461538,  7689.84615385, 11528.30769231,  9771.53846154,\n",
       "        7338.84615385,  9028.61538462,  7157.38461538,  8648.84615385,\n",
       "       12050.15384615,  7519.07692308, 10634.        , 15532.07692308,\n",
       "        7843.        ,  6016.76923077,  7802.23076923,  7875.69230769,\n",
       "        3985.        ,  5335.92307692, 11916.07692308, 12455.76923077,\n",
       "        6739.84615385,  6801.38461538,  6353.76923077,  8750.46153846,\n",
       "       16292.61538462, 10216.69230769, 12224.        ,  6677.76923077,\n",
       "       16118.        ,  6732.92307692,  6476.69230769,  9324.07692308,\n",
       "        7208.        ,  6312.84615385,  6632.07692308,  8905.38461538,\n",
       "        9786.38461538,  7140.38461538, 12101.53846154, 15000.07692308,\n",
       "        8134.92307692,  9200.53846154, 14316.38461538,  7412.30769231,\n",
       "        7734.        , 12212.38461538,  7519.84615385,  8051.92307692,\n",
       "        6769.15384615,  5557.76923077,  5740.15384615, 14169.30769231,\n",
       "        7108.76923077,  8813.07692308,  6914.15384615, 11572.84615385,\n",
       "        8632.30769231, 14798.61538462,  7497.61538462, 14351.46153846,\n",
       "        5524.84615385,  6628.69230769,  8525.53846154,  7491.76923077,\n",
       "       13159.30769231,  9131.        ,  6988.92307692, 14417.92307692,\n",
       "       14006.84615385, 13766.38461538, 13218.38461538,  7424.        ,\n",
       "        6206.07692308, 13505.30769231,  9934.61538462, 11848.69230769,\n",
       "       14585.        , 15325.53846154,  6302.61538462, 10962.07692308,\n",
       "       13594.53846154,  6666.23076923, 11191.38461538, 11628.15384615,\n",
       "        8123.15384615,  5746.92307692,  6443.        ,  6317.92307692,\n",
       "        5923.46153846,  5589.30769231, 14336.84615385,  8751.        ,\n",
       "        8434.69230769, 11717.53846154,  6077.76923077, 11744.69230769,\n",
       "       12391.53846154,  5446.15384615,  6613.30769231, 13495.15384615,\n",
       "        5599.61538462,  7669.92307692, 15395.69230769,  9118.69230769,\n",
       "       10634.23076923, 11533.92307692,  7666.15384615, 10599.        ,\n",
       "        8469.76923077,  6769.15384615,  7386.76923077,  8730.69230769,\n",
       "       14599.84615385, 10578.61538462,  9968.69230769,  6946.84615385,\n",
       "        6812.92307692, 12591.61538462,  7116.84615385, 12404.07692308,\n",
       "       12720.69230769,  1241.76923077, 11723.76923077,  5449.84615385,\n",
       "        3876.53846154,  7481.84615385,  9404.15384615, 10991.46153846,\n",
       "        8019.23076923,  9983.84615385, 14615.30769231, 15944.30769231,\n",
       "        9050.23076923,  9364.38461538, 13393.07692308,  8647.23076923,\n",
       "        6416.15384615, 11635.23076923,  6942.69230769,  7325.46153846,\n",
       "        8333.53846154,  6846.84615385,  6696.38461538,  7797.07692308,\n",
       "        6579.15384615, 13669.        ,  7654.76923077, 10225.69230769,\n",
       "       14362.        , 13868.23076923, 14341.46153846,  6496.30769231,\n",
       "        6685.53846154, 14163.61538462,  3409.61538462,  8448.92307692,\n",
       "       13160.61538462, 11900.53846154, 15498.61538462,  6531.69230769,\n",
       "        5539.84615385,  7564.76923077, 13442.38461538,  8532.76923077,\n",
       "       14060.53846154,  5232.23076923, 15831.30769231,  5141.69230769,\n",
       "        6840.76923077,  6478.        , 15165.61538462,  6583.61538462,\n",
       "       11824.07692308,  8469.30769231,  6779.84615385, 10948.        ,\n",
       "        7612.23076923, 13491.61538462,  7663.07692308,  7300.69230769,\n",
       "       11218.30769231,  8818.76923077, 11168.53846154, 10242.07692308,\n",
       "        6552.84615385, 12066.76923077,  5166.38461538, 13743.61538462,\n",
       "        7778.07692308,  9163.07692308, 14400.76923077,  7559.69230769,\n",
       "        6988.92307692, 15968.76923077, 14332.69230769, 13962.69230769,\n",
       "        7576.07692308, 14288.53846154, 13480.07692308,  7971.61538462,\n",
       "        7664.84615385,  5532.        ,  9677.46153846,  9232.53846154,\n",
       "        5577.69230769, 12132.92307692,  6469.76923077,  6742.07692308,\n",
       "        5852.        ,  7688.84615385,  6192.30769231,  7949.30769231,\n",
       "        6862.53846154, 14076.92307692,  7518.76923077,  8114.07692308,\n",
       "        9608.84615385,  7741.69230769,  6512.76923077,  7334.23076923,\n",
       "       10949.46153846, 12919.38461538,  6863.69230769,  6316.61538462,\n",
       "        5534.92307692,  7778.84615385, 10272.07692308, 12809.30769231,\n",
       "       14316.38461538,  5576.53846154,  9441.38461538,  6636.23076923,\n",
       "        6986.30769231,  7589.        , 11948.46153846,  7293.61538462,\n",
       "        6205.38461538, 13525.07692308,  7511.69230769, 11096.61538462,\n",
       "       11533.92307692,  8400.15384615,  6804.53846154, 14573.92307692,\n",
       "        5962.07692308,  9041.69230769, 11358.53846154, 13764.92307692,\n",
       "        7895.69230769, 13125.53846154, 10330.        ,  6582.84615385,\n",
       "        5893.07692308, 15270.38461538, 13143.76923077,  7092.30769231,\n",
       "        4947.46153846,  7047.30769231,  6408.15384615, 13124.23076923,\n",
       "       10323.53846154,  5549.23076923, 10238.        , 13785.69230769,\n",
       "       10683.30769231, 11973.84615385,  7709.46153846,  7745.61538462,\n",
       "        5448.84615385,  5700.23076923,  6022.46153846,  6522.61538462,\n",
       "        7645.23076923,  6425.84615385,  7735.38461538,  7234.92307692,\n",
       "        8430.92307692, 10002.53846154, 13261.53846154,  5539.07692308,\n",
       "        7006.69230769,  6894.07692308, 15051.92307692,  5381.        ,\n",
       "        7407.84615385,  7952.46153846,  6500.15384615, 13539.        ,\n",
       "        5735.38461538,  6009.23076923, 12314.46153846,  7704.23076923,\n",
       "       14634.53846154, 12716.92307692,  7584.30769231, 11609.23076923,\n",
       "        7797.        ,  9718.61538462,  6738.23076923,  7928.69230769,\n",
       "        8717.23076923, 14027.84615385,  6461.84615385,  6020.38461538,\n",
       "        5372.76923077,  7027.46153846, 16056.84615385,  6027.30769231,\n",
       "       13469.46153846,  9245.46153846,  6585.61538462,  5542.61538462,\n",
       "        5102.92307692, 13198.53846154,  9326.61538462, 11010.76923077,\n",
       "       12967.15384615,  7074.84615385,  7644.23076923,  7412.30769231,\n",
       "       12705.69230769,  9403.30769231, 12026.92307692, 13679.69230769,\n",
       "        9358.30769231,  8098.84615385,  7898.07692308,  5734.53846154,\n",
       "        7729.07692308,  6816.69230769,  5828.        ,  6371.38461538,\n",
       "        6868.53846154,  5871.23076923,  7782.30769231,  6377.92307692,\n",
       "       10663.53846154,  5674.07692308,  8232.23076923,  8109.23076923,\n",
       "        8996.30769231,  6053.30769231, 13569.46153846,  5969.30769231,\n",
       "       14131.07692308, 14423.30769231,  9301.46153846,  6344.69230769,\n",
       "       12084.15384615,  6905.30769231, 12622.76923077, 11159.69230769,\n",
       "        6476.15384615,  8594.84615385, 12745.        ,  8256.92307692,\n",
       "       12418.38461538,  6330.76923077,  5343.15384615, 14034.46153846,\n",
       "        7934.30769231,  5497.92307692, 14723.38461538, 12884.69230769,\n",
       "        6220.92307692, 14330.23076923,  8221.38461538,  6176.15384615,\n",
       "       10007.69230769,  7710.38461538, 10335.61538462, 10246.07692308,\n",
       "        6119.69230769, 12780.30769231, 12624.84615385,  7263.23076923,\n",
       "       13435.23076923,  9029.23076923, 15215.        ,  1199.61538462,\n",
       "        7620.46153846, 13801.84615385, 10112.30769231,  6079.61538462,\n",
       "        6262.15384615,  6256.38461538,  6109.07692308,  6656.61538462,\n",
       "       13767.46153846,  6460.84615385, 13810.46153846,  7199.38461538,\n",
       "        8044.38461538,  8736.53846154,  7318.69230769,  6484.38461538,\n",
       "        8005.92307692, 12025.23076923,  6862.15384615,  8322.38461538,\n",
       "        5987.53846154,  6637.30769231,  4595.46153846,  6916.84615385,\n",
       "        8765.46153846, 14058.07692308, 12593.84615385,  6615.07692308,\n",
       "        5041.84615385,  8834.61538462,  7852.23076923,  7252.92307692,\n",
       "        8076.07692308,  5728.38461538,  9779.15384615, 12386.15384615,\n",
       "        6426.61538462,  6195.        ,  9091.38461538,  5915.46153846,\n",
       "        7077.76923077, 12674.        , 15121.61538462,  6914.92307692,\n",
       "       13087.84615385,  8031.84615385,  6375.92307692,  8596.76923077,\n",
       "        5309.46153846, 14684.38461538,  7271.15384615,  7416.61538462,\n",
       "       13810.07692308,  6091.46153846,  7376.        ,  7462.23076923,\n",
       "       12949.69230769, 13936.61538462, 10765.38461538,  6000.84615385,\n",
       "       15218.30769231,  8961.69230769,  8575.92307692,  6319.76923077,\n",
       "        4443.07692308,  6284.53846154,  7219.92307692,  7640.07692308,\n",
       "        7823.38461538,  7046.53846154, 15202.69230769,  6653.84615385,\n",
       "        6338.76923077,  7960.07692308,  5645.76923077, 12038.46153846,\n",
       "        8463.38461538,  6748.        ,  5687.        ,  6162.46153846,\n",
       "        5737.76923077,  6859.07692308,  6222.69230769,  9793.38461538,\n",
       "        7823.92307692,  8412.46153846,  6467.92307692,  7232.84615385,\n",
       "        4669.84615385,  6461.76923077, 15239.61538462,  9375.61538462,\n",
       "        6117.69230769, 11460.76923077,  6352.76923077,  5887.07692308,\n",
       "        6022.76923077,  6281.84615385,  6722.23076923, 10102.46153846,\n",
       "       10999.07692308,  8766.38461538,  7533.30769231,  7685.07692308,\n",
       "       11713.38461538, 10086.30769231,  7213.30769231,  7958.53846154,\n",
       "        5947.53846154, 13126.38461538,  6145.76923077,  7975.61538462,\n",
       "        7122.        ,  8229.61538462,  6790.23076923, 12705.69230769,\n",
       "        7296.53846154,  6532.46153846,  6232.23076923,  6353.15384615,\n",
       "        8288.53846154, 11568.76923077,  1759.15384615,  7697.15384615,\n",
       "        7984.46153846,  6648.        , 15580.76923077, 11844.76923077,\n",
       "       10801.15384615,  6839.15384615,  5270.38461538,  6854.23076923,\n",
       "        7155.30769231,  5941.38461538, 12840.        ,  7508.53846154,\n",
       "        6840.92307692,  5574.61538462, 12616.07692308,  6516.69230769,\n",
       "        8851.92307692, 12238.84615385, 10914.30769231,  7991.46153846,\n",
       "       14383.84615385, 15142.76923077,  7470.61538462,  5941.84615385,\n",
       "        6907.23076923,  9175.76923077,  6648.61538462, 14169.07692308,\n",
       "        7049.07692308, 12010.53846154,  6806.69230769,  6473.84615385,\n",
       "       10020.46153846,  9301.38461538,  7265.        ,  5698.69230769,\n",
       "       12944.84615385,  8528.61538462,  7262.23076923,  8325.15384615,\n",
       "        7394.23076923,  8513.53846154, 11247.61538462,  5501.76923077,\n",
       "        5739.61538462,  7044.30769231, 14400.61538462, 12978.46153846,\n",
       "       14561.92307692, 11243.38461538,  9561.46153846, 11014.30769231,\n",
       "       11928.23076923, 14176.        ,  9837.        , 11354.30769231,\n",
       "        7698.76923077, 12023.69230769, 12629.84615385,  6192.30769231,\n",
       "        7351.92307692,  7665.84615385,  8700.38461538, 14118.15384615,\n",
       "        6966.69230769, 14050.38461538,  8756.92307692, 10112.84615385,\n",
       "        7576.07692308,  7797.53846154,  6087.        , 12938.07692308,\n",
       "        6920.84615385, 10320.07692308,  6765.        ,  8438.07692308,\n",
       "       12866.38461538,  9267.07692308,  8362.07692308,  7919.46153846,\n",
       "       12551.84615385, 11481.38461538,  9560.07692308, 11743.15384615,\n",
       "        6092.53846154,  6380.61538462, 10241.76923077,  7823.84615385,\n",
       "       12316.        ,  9268.07692308,  5633.07692308,  6302.53846154,\n",
       "        7706.76923077, 12204.84615385,  4919.38461538,  5428.46153846,\n",
       "        7003.07692308, 13232.07692308, 13701.61538462, 14004.23076923,\n",
       "        9245.46153846,  7316.61538462, 13148.07692308, 14900.30769231,\n",
       "       13192.15384615,  6219.46153846,  7971.53846154, 12485.15384615,\n",
       "       14740.30769231,  7377.15384615,  8911.38461538,  5888.69230769,\n",
       "        5503.07692308, 13297.76923077,  6765.53846154,  7583.23076923,\n",
       "       11270.        , 14588.07692308,  5272.84615385,  6093.23076923,\n",
       "        6225.07692308,  5872.30769231, 15049.07692308,  6397.92307692,\n",
       "        5747.92307692,  6675.        ,  6006.30769231,  8769.76923077,\n",
       "       15698.61538462,  7437.        , 12513.30769231, 12768.92307692,\n",
       "        6882.38461538,  5297.38461538, 11210.92307692, 15014.61538462,\n",
       "        6628.69230769,  7140.15384615,  6566.15384615,  7413.        ,\n",
       "        7056.38461538,  6386.84615385,  6632.46153846, 14864.53846154,\n",
       "        6349.46153846,  9086.92307692, 13713.53846154,  5480.        ,\n",
       "        7140.07692308,  5859.53846154, 10638.84615385,  7617.07692308,\n",
       "        7221.23076923, 13566.53846154,  7830.53846154, 12473.        ,\n",
       "        8631.15384615, 13384.61538462,  7533.30769231, 13647.        ,\n",
       "       14070.84615385,  8298.15384615,  8089.76923077, 13410.92307692,\n",
       "        7556.92307692,  9007.07692308,  5745.61538462,  7108.92307692,\n",
       "       13518.        ,  6883.30769231, 13126.76923077, 13434.69230769,\n",
       "        8140.30769231,  9839.61538462,  6368.30769231, 13140.38461538,\n",
       "       14062.92307692, 10603.69230769,  7298.76923077, 14313.07692308,\n",
       "       14024.84615385, 12721.23076923, 13425.53846154,  7058.23076923,\n",
       "       13948.46153846,  7573.92307692, 13011.23076923,  7408.30769231,\n",
       "        8354.07692308, 12096.92307692,  6212.30769231, 11101.53846154,\n",
       "       12816.61538462, 15185.92307692,  5706.61538462,  6384.69230769,\n",
       "        5773.53846154, 13785.23076923,  7376.61538462, 14060.69230769,\n",
       "       12610.        , 13040.46153846,  9965.07692308,  6132.69230769,\n",
       "        7965.53846154, 10612.46153846,  6806.69230769, 10905.30769231,\n",
       "       13246.38461538,  5987.53846154,  5599.61538462, 12702.69230769,\n",
       "       12941.69230769,  6284.53846154,  9568.46153846,  8485.69230769,\n",
       "        8620.69230769,  8591.        ,  6323.61538462,  9235.        ,\n",
       "        6671.92307692,  5139.15384615, 14445.07692308,  7602.38461538,\n",
       "        8540.92307692, 14888.15384615, 14966.84615385,  6938.53846154,\n",
       "        6868.84615385, 12378.61538462,  7200.46153846, 10080.61538462,\n",
       "       14024.61538462,  6000.84615385,  5304.46153846,  7386.76923077,\n",
       "        8591.        ,  8333.23076923,  9393.92307692,  8391.76923077,\n",
       "       11022.46153846,  7408.07692308, 13299.30769231,  7615.23076923,\n",
       "        7887.61538462,  4870.92307692, 14924.23076923,  7331.69230769,\n",
       "        7636.69230769, 13960.38461538, 10250.        ,  5977.92307692,\n",
       "        6993.53846154, 12131.        ,  9925.84615385,  5962.69230769,\n",
       "       14987.69230769,  6074.        ,  7342.        ,  5429.15384615,\n",
       "        7506.84615385,  7437.84615385,  8409.07692308,  6225.38461538,\n",
       "        7940.38461538, 14281.53846154,  9484.        ,  9986.07692308,\n",
       "       14303.84615385, 13256.61538462,  7683.61538462, 11544.23076923,\n",
       "       13249.92307692,  6365.23076923, 11765.        , 10744.38461538,\n",
       "        7024.15384615, 10225.23076923,  7396.        ,  6212.07692308,\n",
       "        6863.84615385, 14275.92307692,  6246.92307692,  7221.76923077,\n",
       "        5923.84615385,  8509.61538462,  8384.15384615,  5633.07692308,\n",
       "        6130.76923077, 13263.53846154,  6225.38461538,  7483.92307692,\n",
       "        7166.84615385, 12910.92307692,  7444.07692308,  9682.07692308,\n",
       "       12029.46153846, 11397.84615385,  5866.84615385,  6593.46153846,\n",
       "        6618.30769231,  5806.        ,  8971.76923077, 11593.15384615,\n",
       "        7203.69230769,  7190.46153846, 15230.84615385, 12850.46153846,\n",
       "       11016.07692308,  7338.84615385, 11181.        ,  9896.        ,\n",
       "        3893.23076923,  6125.69230769, 13458.61538462, 13135.07692308,\n",
       "        9263.23076923, 13652.46153846, 13071.69230769,  5773.53846154,\n",
       "        6391.76923077,  8428.53846154, 11828.69230769, 11152.53846154,\n",
       "        7736.61538462, 11507.76923077,  6625.69230769,  7272.92307692,\n",
       "        5818.84615385,  8649.84615385,  6010.        ,  7287.        ,\n",
       "        6204.15384615,  9064.38461538,  7215.07692308,  7137.23076923,\n",
       "        4940.15384615,  6233.53846154,  9518.61538462,  1953.84615385,\n",
       "        6582.69230769,  5318.92307692,  5524.84615385, 11824.15384615,\n",
       "        8570.61538462, 13234.        ,  8494.53846154, 15259.30769231,\n",
       "        7938.15384615,  6933.        , 12682.15384615, 12643.61538462,\n",
       "        5420.61538462,  6860.30769231,  6243.53846154,  6902.07692308,\n",
       "       14078.61538462, 11557.84615385,  5247.30769231,  7945.53846154,\n",
       "       13090.69230769,  6288.92307692,  7155.07692308,  6775.92307692,\n",
       "       12878.07692308, 10334.15384615,  8850.23076923,  7535.92307692,\n",
       "        6840.76923077, 12860.53846154,  7671.84615385, 11976.15384615,\n",
       "       12844.46153846,  7973.38461538,  6554.07692308,  7108.23076923,\n",
       "        9421.84615385, 15885.84615385,  5967.76923077,  8513.46153846,\n",
       "       12785.15384615,  9182.38461538,  8244.53846154,  9015.92307692,\n",
       "        8400.15384615, 10010.        ,  9028.38461538, 11773.        ,\n",
       "       14644.30769231,  7741.        ,  7570.15384615,  5690.46153846,\n",
       "        9257.84615385,  7257.30769231,  7240.        ,  7639.61538462,\n",
       "        5965.53846154,  5316.69230769,  7237.        ,  9569.92307692,\n",
       "        6728.07692308,  8085.30769231,  6057.46153846,  6849.07692308,\n",
       "        8752.30769231,  8368.53846154, 12479.30769231,  7038.07692308,\n",
       "        7044.15384615,  6288.92307692, 13258.53846154,  6665.        ,\n",
       "       10016.76923077,  8935.23076923, 11954.23076923,  8835.23076923,\n",
       "        5181.07692308,  8143.07692308,  7055.76923077, 11816.53846154,\n",
       "        8664.92307692, 10789.53846154,  8174.53846154,  8830.30769231,\n",
       "        6211.53846154,  5282.30769231, 14164.92307692,  5440.76923077,\n",
       "        7189.53846154,  6171.84615385, 13613.69230769,  6871.76923077,\n",
       "        8886.53846154,  8061.23076923,  7175.53846154, 12122.23076923,\n",
       "       15006.46153846, 11991.69230769,  6429.30769231,  7482.15384615,\n",
       "        8273.15384615,  8934.15384615,  7044.30769231, 11747.23076923,\n",
       "        9908.46153846,  4143.23076923, 14076.38461538, 12772.92307692,\n",
       "        6299.46153846,  7861.53846154,  6841.92307692, 13136.07692308,\n",
       "       13469.23076923,  6532.76923077, 14420.84615385,  7883.23076923,\n",
       "        6075.76923077,  6215.        ,  9085.        ,  6520.84615385,\n",
       "       11596.15384615,  6552.84615385,  8028.69230769, 12616.61538462])"
      ]
     },
     "execution_count": 135,
     "metadata": {},
     "output_type": "execute_result"
    }
   ],
   "source": [
    "test_pred"
   ]
  },
  {
   "cell_type": "code",
   "execution_count": 136,
   "metadata": {},
   "outputs": [
    {
     "data": {
      "text/plain": [
       "array([ 2004,  6016,  7075,  3891, 11603, 15168,  9745,  7063,  5966,\n",
       "       15181,  9986, 11925,  6099,  5209,  3522,  4584, 19201, 11869,\n",
       "       15321,  8025,  6042,  1731,  6048,  7132,    62,  5940, 15552,\n",
       "        5265,  7859,  9698,  7122,  7129,  8111,  9920,  5668, 11069,\n",
       "        7816,  5996,  3923,  8251, 10971,  7877, 12118, 12801,  5924,\n",
       "        3494,  8009, 20676,   767,  3570, 11422, 11677,   766,  3461,\n",
       "        6934, 13275, 19074,  6978, 11870,  8073, 11672, 10955,  5473,\n",
       "       10673,  3443,  7184,  7834,  9944,  6906,  5259, 19133,  4300,\n",
       "        7962, 23338, 19096,  7005,  7052, 15243,  9765,  2856,  5270,\n",
       "        7179,  1831,  7776,  8590,  9736,  6084,  4021,  7992, 13148,\n",
       "        8738, 15214,  7159,  6026,  6871,  9703, 11714,  5988,  6871,\n",
       "       15421, 15379, 18974, 19178,  8688,  9725, 19548,  2782,  6967,\n",
       "       11695, 11635,  7818,  4493, 15989,  5164, 11485, 19043,  7768,\n",
       "        6025,  6978,  7811,  5274,  6944, 15646,  7881,  7144, 13160,\n",
       "        6886,  3976, 16505,  1474,  3511, 11529,  8669,  3518, 11576,\n",
       "        7480, 12974, 12026,  5831, 20641,  5455,  7115,  7788,  7159,\n",
       "       15465, 10802,  5602,  5936,  5306, 16041,  5889, 11047, 12128,\n",
       "         119,  8151,   561,  4687,  9902, 13190, 11698,  1517,  8167,\n",
       "       12067, 19285,  9802,  8076, 11790,  8032,  4690, 20416,  2189,\n",
       "       10065,  9766,  1382,  8598,  7063, 10017, 12508,  9820, 20566,\n",
       "        4500, 19674, 15519,  3845,  1398, 11489,   941,  7920, 15223,\n",
       "       19300, 15278,  8639,  5312,  6852, 11794,  8089, 15620,  8684,\n",
       "       19084,  4667,  5475,  5187, 15503,  6867, 12731,  5953,  8807,\n",
       "        3036,  7858,  7841,  5404,  7770, 15569,  6881, 11403,  2914,\n",
       "        1494, 15738,  5224,  7902,  8115, 16626, 15591,  4214,  5235,\n",
       "       11924, 15346, 15342,  9854, 15859, 19303, 14703,  5480,  7182,\n",
       "       16679, 13519,  5315,  3852,  1897,  6935,  1063,  7956,  8646,\n",
       "        7799,  1918, 19434,  5941,  5896, 13485,  6060,  5202,  7074,\n",
       "       16946, 12330,  7063,  7871,  7539,  8866, 15084, 15463, 19479,\n",
       "        6859,  8270,  1594,  5236,  1808, 12678,  9919,  6902,  3918,\n",
       "        8122, 11991, 15346,  9958,  7860, 19183,  5163,  7654, 21386,\n",
       "       19608,  8135, 11704,  8144,  7169,  6888, 11972, 11962,  5170,\n",
       "          37,  6999,  5861, 12126, 19352,  5161, 10807, 19138, 11699,\n",
       "       15148, 10036,   810,  6968,  3487,  3446,  8583,  5918,  2765,\n",
       "        1504,  8032,  7806,  8365, 11838,  7091,  7055,  8819, 12127,\n",
       "        2174,  8077,  3968,  4010, 11660,  6970,  6193, 11463,  2065,\n",
       "       11388, 15551,  9832, 16258,  7997,  8467,  5147,  8030,  6044,\n",
       "       15249,  8641,  8883,  6077,  1729, 15404,  6962, 19580, 13456,\n",
       "        5978,  5301,  2812, 12061, 16138, 18986,  4130,  7076,  7909,\n",
       "        8691, 15850, 16014, 15418,  7845, 13711,  8126,  6894,  5303,\n",
       "        8694, 11058,  7084,  6984,  9929,  3736,  2122,  9946, 11754,\n",
       "        5253,  7961,  9848, 16388,  5826, 15904,  6899, 15831, 11576,\n",
       "       20394, 16710, 16397,  2223, 15538, 21055,  5317, 10057, 15709,\n",
       "        6078, 16318,  5280,  8681,  8272,  2304,  8868, 19090, 10068,\n",
       "        7176, 15880,  8017,  8764,  9788,  9914, 12582, 13581,  5349,\n",
       "       15750, 11984,  8628, 13168, 16099,  8040,   254,  8872, 18952,\n",
       "        4658,  5408,  6943,  3491,  5159,  8746, 12754,  7008, 10077,\n",
       "       12273,  7756,  8629,  5415,  7171, 16163, 13090,  6158,  5893,\n",
       "        6996,  5386,  5967,  7056,  8028, 19507,  3800,  7139,  5465,\n",
       "        7154,  6014,  8893,  6888,  6862, 13409, 19241,  7038,  8787,\n",
       "       10912,   686,  5231,  2840,  7942,  7979,  7806,  4198,  3678,\n",
       "       20344,  7055, 19462,  5935,  5241,  6766,  5447,  9894,  8737,\n",
       "       11869, 15872,  7926,  5378, 16723, 10677,  9836,  3743,  3459,\n",
       "        6912,  9914,  9753, 16558,  5958,  7898,  5356,  8793, 13631,\n",
       "        8809, 11825,  4662,  7155,  7001,  1801,  8847,  8002,  3691,\n",
       "        2755, 16995,  9946,  1486,  6885,  5325,  5443, 15344,  5940,\n",
       "        4710, 12222,  8886,   740,  7088,  7770,  6973, 11963, 11658,\n",
       "        8039,  9723,  9772,  3428, 12715,  6168,  6066,  6954, 11687,\n",
       "        7148,  8787,  9829,  8739,  3524, 15384,  5425,  7007,  9879,\n",
       "        7184,  2203, 19385,   362,  5217, 20155,  7763, 15560, 15740,\n",
       "       16581,  7190,  1434,  1609,  7055,  4564, 15810,  3603,  8691,\n",
       "        8640,  3954, 10049, 20194, 12961,  8698,  9976, 11577, 15700,\n",
       "        7160,  7004, 10686,  5993,  5280, 15622,  6056, 20212,  6891,\n",
       "        8599, 10701, 20581,  7997,  8616,  4315,  8098, 19309,  2010,\n",
       "        6869,  4046, 13128,  7594,  7056,  9769,  7640, 12111, 11559,\n",
       "       21082,  2853, 15548, 12121,  8074, 16337, 19639,  9958,  8432,\n",
       "        9697,  6976,  9753,   573,  8702,  8260,  4642, 15699,  7179,\n",
       "       13271,  6096,  8590,  6882, 16539,  5997, 15165,  5449,  7015,\n",
       "        7927, 10062,  8045, 10049, 18977, 10062,  8367, 11817,  2140,\n",
       "        8664, 12732,  9761, 15435,  8278,  8820,  5318,  9875, 15877,\n",
       "          62,  5383,  5243, 11963, 11931, 15787,  5328,  7061, 11804,\n",
       "       15750, 19502,  8866,  5415,  6575, 19335, 20441, 12330,  5981,\n",
       "        5319,  9945,  3499,  2130, 11517, 11610,   764,  2176,  1916,\n",
       "        5259, 15854,  3670,  8614,  8633,  8742,  7924, 19299,  6125,\n",
       "       16494,  3834,  8874,  5456, 12901,  8036,  7863,  7053,  5346,\n",
       "        7051,  1903,  6964,  5422,  8222,  9845, 13649, 15891, 18495,\n",
       "        8722,  3019, 10767, 16670,  2155, 19259,  8047, 12949,  3358,\n",
       "       19088,  5834, 15859,  4365,  5998,  7849, 15527,  8718, 19964,\n",
       "        8636,  9992, 11692,  5266,  8227, 11858,  8115, 21196,  8799,\n",
       "       11628, 15667, 11510,  9879, 15337, 19169, 19130, 15856,   757,\n",
       "       15879,   950, 12112,  5328,  2224, 12967,  8677,  4062, 15737,\n",
       "       19313,  5416,  7182,  6976, 11943,  8108, 12048,  7733,  7696,\n",
       "        7802,  7120, 16005, 11676,  5157,  3808,  8245,  3675,  6910,\n",
       "       19318, 15850,  7152,  8166,  7955,  6063,  5917,  5438, 20414,\n",
       "        7067,  6156, 12076,  7778,  7990, 15578, 12175,  1784,  8610,\n",
       "       11578,  7959,  3513, 19008,  1764,  9905,  7839,  2022,  7879,\n",
       "       16698,  5219, 11831,  8607, 12868,  3072,  7904,  3507, 16300,\n",
       "        5193,  7178, 11849,  3030,  5285,  1745, 12393, 12885,  3571,\n",
       "       11835,  5339,  2135,  7779, 10053,  9867,  8068,  6898,  4179,\n",
       "       15303, 15808, 13293, 10011, 15299,  4021, 12849, 16464,  6915,\n",
       "        8115, 12882,  5384, 20597,  7192,  7976,  5908, 15773,  5471,\n",
       "        7071,  5248,  8003, 19061,  7151,  7152, 19478,  5395,  7975,\n",
       "        5232,  4006,  7965,  2059, 16353,  6976,  5210,  7177,  7764,\n",
       "        5404,  9727, 19111,  7169,  8652, 19465, 15917, 16027,  9895,\n",
       "       11069,  4075,  4513,  5990, 15806, 12034, 10605, 15790, 15396,\n",
       "        8721,  8571,  8127,  2170,  7718,  8116, 11700,  5276,  9847,\n",
       "        6945,  4541,  7063,  5908,  5231, 16584,  2307,  8038, 13232,\n",
       "        7132,  8030,   372,  6964,  7095,  6993, 11556, 20202, 20618,\n",
       "        8086, 15251, 12379,  8680,  6807,  7708,  6965, 10078,  6934,\n",
       "        5416, 11876, 12023,  5451, 17050,  7820,  6118,  8031,  8878,\n",
       "        8090,  9799,  3921,  9793,  7074, 11417,  2015,  4362, 19222,\n",
       "       16855,  5897,  6985, 16200, 19425,  3580,  9922, 15212,  8040,\n",
       "        9771, 20183,  7780, 10760, 16245, 11665, 15387,  9711,  5911,\n",
       "        7026, 11013,  6946, 10001,  7894,  8842,  6140,  4091, 11982,\n",
       "        7139,  6874,  8847,  5395, 12891,  3825, 13000,  5300,  5855,\n",
       "        9971, 12198,  4696, 15788, 16348,  9918,  8002,  8814,  7479,\n",
       "        5246,  8323,  7932,  2149,  9902,  3123,  3531,  7008, 15398,\n",
       "        5315,  5210,  9998, 15633,  9755,  7010, 10075,  8715, 11795,\n",
       "        4581,  9877,  1754,  8693,  9824,  9663,  5169,  3250, 15778,\n",
       "         126, 19679, 12831,  6898,  7788,  7839,  8144, 11475,  5339,\n",
       "        4057,  8005,  1888,  3507,  7718,  5348,  8087,  2225,  7823,\n",
       "       10126], dtype=int64)"
      ]
     },
     "execution_count": 136,
     "metadata": {},
     "output_type": "execute_result"
    }
   ],
   "source": [
    "np.array(test_target)"
   ]
  },
  {
   "cell_type": "code",
   "execution_count": 137,
   "metadata": {
    "colab": {
     "base_uri": "https://localhost:8080/"
    },
    "id": "mVQTvsw659nc",
    "outputId": "bdb45cef-4d3a-4516-e63f-dfbb0c1846ee"
   },
   "outputs": [
    {
     "name": "stdout",
     "output_type": "stream",
     "text": [
      "knn1 rmse score :  3782.2330772563855\n"
     ]
    }
   ],
   "source": [
    "from sklearn.metrics import mean_squared_error \n",
    "MSE = mean_squared_error(test_target, test_pred) \n",
    "\n",
    "print(\"knn1 rmse score : \", np.sqrt(MSE))\n"
   ]
  },
  {
   "cell_type": "code",
   "execution_count": 138,
   "metadata": {},
   "outputs": [
    {
     "data": {
      "text/plain": [
       "0.3817325198112749"
      ]
     },
     "execution_count": 138,
     "metadata": {},
     "output_type": "execute_result"
    }
   ],
   "source": [
    "from sklearn.metrics import r2_score\n",
    "r2_score(test_target, test_pred)"
   ]
  },
  {
   "cell_type": "markdown",
   "metadata": {
    "id": "eUlgyNJD90bP"
   },
   "source": [
    "#### weighted KNN"
   ]
  },
  {
   "cell_type": "code",
   "execution_count": 139,
   "metadata": {
    "id": "ic28HgWx7eHW"
   },
   "outputs": [],
   "source": [
    "#가중치를 부여하는 경우 파라미터 조정 (그리드서치)\n",
    "params_2 = {\n",
    "    \"n_neighbors\": [i for i in range(1, 20, 2)],\n",
    "    \"p\": [1, 2], #1은 맨하탄, 2는 유클리드\n",
    "    \"weights\": ['distance']\n",
    "}"
   ]
  },
  {
   "cell_type": "code",
   "execution_count": 140,
   "metadata": {
    "id": "XVSwpfjW8iAz"
   },
   "outputs": [],
   "source": [
    "grid_cv = GridSearchCV(knn, param_grid = params_2, cv = 3)"
   ]
  },
  {
   "cell_type": "code",
   "execution_count": 141,
   "metadata": {
    "colab": {
     "base_uri": "https://localhost:8080/"
    },
    "id": "sEs8Q6ZW8rFa",
    "outputId": "29689be1-5081-49d3-8f3a-eb7faed33b15"
   },
   "outputs": [
    {
     "data": {
      "text/plain": [
       "{'n_neighbors': 15, 'p': 1, 'weights': 'distance'}"
      ]
     },
     "execution_count": 141,
     "metadata": {},
     "output_type": "execute_result"
    }
   ],
   "source": [
    "grid_cv.fit(train_data, train_target)\n",
    "grid_cv.best_params_"
   ]
  },
  {
   "cell_type": "code",
   "execution_count": 144,
   "metadata": {
    "colab": {
     "base_uri": "https://localhost:8080/"
    },
    "id": "aTk3mMft8tfx",
    "outputId": "852449ed-7444-4d4b-9015-af11ec062e13"
   },
   "outputs": [
    {
     "data": {
      "text/plain": [
       "KNeighborsRegressor(n_neighbors=15, p=1, weights='distance')"
      ]
     },
     "execution_count": 144,
     "metadata": {},
     "output_type": "execute_result"
    }
   ],
   "source": [
    "knn_2 = KNeighborsRegressor(n_neighbors = 15, p =1, weights = 'distance')\n",
    "knn_2.fit(train_data, train_target)"
   ]
  },
  {
   "cell_type": "code",
   "execution_count": 146,
   "metadata": {},
   "outputs": [],
   "source": [
    "#예측 진행\n",
    "test_pred = knn_2.predict(test_data)"
   ]
  },
  {
   "cell_type": "code",
   "execution_count": 147,
   "metadata": {
    "colab": {
     "base_uri": "https://localhost:8080/"
    },
    "id": "mVQTvsw659nc",
    "outputId": "bdb45cef-4d3a-4516-e63f-dfbb0c1846ee"
   },
   "outputs": [
    {
     "name": "stdout",
     "output_type": "stream",
     "text": [
      "knn1 rmse score :  3737.754821977047\n"
     ]
    }
   ],
   "source": [
    "MSE = mean_squared_error(test_target, test_pred) \n",
    "\n",
    "print(\"knn2 rmse score : \", np.sqrt(MSE))\n"
   ]
  },
  {
   "cell_type": "code",
   "execution_count": 148,
   "metadata": {},
   "outputs": [
    {
     "data": {
      "text/plain": [
       "0.39618840572181735"
      ]
     },
     "execution_count": 148,
     "metadata": {},
     "output_type": "execute_result"
    }
   ],
   "source": [
    "r2_score(test_target, test_pred)"
   ]
  },
  {
   "cell_type": "markdown",
   "metadata": {
    "id": "sC_f02U294_5"
   },
   "source": [
    "#### Scaling"
   ]
  },
  {
   "cell_type": "code",
   "execution_count": 149,
   "metadata": {
    "id": "q1pIw8lD9EzH"
   },
   "outputs": [],
   "source": [
    "#변수 스케일링을 사용하는 경우\n",
    "from sklearn.preprocessing import StandardScaler\n",
    "scaler = StandardScaler()"
   ]
  },
  {
   "cell_type": "code",
   "execution_count": 150,
   "metadata": {
    "id": "DjH6GihI9mQd"
   },
   "outputs": [],
   "source": [
    "#train과 test 모두 스케일링 진행\n",
    "scaler.fit(train_data)\n",
    "\n",
    "scaled_train_data = scaler.transform(train_data)\n",
    "scaled_test_data = scaler.transform(test_data)"
   ]
  },
  {
   "cell_type": "code",
   "execution_count": 151,
   "metadata": {
    "id": "8UatXcko-WJW"
   },
   "outputs": [],
   "source": [
    "params_3 = {\n",
    "    \"n_neighbors\": [i for i in range(1, 20, 2)],\n",
    "    \"p\": [1, 2], #1은 맨하탄, 2는 유클리드\n",
    "    \"weights\": ['uniform','distance']\n",
    "}"
   ]
  },
  {
   "cell_type": "code",
   "execution_count": 152,
   "metadata": {
    "colab": {
     "base_uri": "https://localhost:8080/"
    },
    "id": "jpIr9YEm-05U",
    "outputId": "9de1b0cf-7472-4ef0-abd3-75104094e17d"
   },
   "outputs": [
    {
     "data": {
      "text/plain": [
       "{'n_neighbors': [1, 3, 5, 7, 9, 11, 13, 15, 17, 19],\n",
       " 'p': [1, 2],\n",
       " 'weights': ['uniform', 'distance']}"
      ]
     },
     "execution_count": 152,
     "metadata": {},
     "output_type": "execute_result"
    }
   ],
   "source": [
    "params_3"
   ]
  },
  {
   "cell_type": "code",
   "execution_count": 153,
   "metadata": {
    "colab": {
     "base_uri": "https://localhost:8080/"
    },
    "id": "jiZw5koF-2v7",
    "outputId": "297baf6d-a8e1-4f99-c523-48c06d4a6837"
   },
   "outputs": [
    {
     "data": {
      "text/plain": [
       "{'n_neighbors': 19, 'p': 1, 'weights': 'distance'}"
      ]
     },
     "execution_count": 153,
     "metadata": {},
     "output_type": "execute_result"
    }
   ],
   "source": [
    "grid_cv = GridSearchCV(knn, param_grid = params_3, cv = 3)\n",
    "grid_cv.fit(scaled_train_data, train_target)\n",
    "grid_cv.best_params_"
   ]
  },
  {
   "cell_type": "code",
   "execution_count": 154,
   "metadata": {
    "colab": {
     "base_uri": "https://localhost:8080/"
    },
    "id": "ZyOxvfVR_Mfd",
    "outputId": "73da7674-b218-4ad7-91e2-95e1f7f8c100"
   },
   "outputs": [
    {
     "data": {
      "text/plain": [
       "KNeighborsRegressor(n_neighbors=19, p=1, weights='distance')"
      ]
     },
     "execution_count": 154,
     "metadata": {},
     "output_type": "execute_result"
    }
   ],
   "source": [
    "knn_3 = KNeighborsRegressor(n_neighbors = 19, p = 1, weights = 'distance')\n",
    "knn_3.fit(scaled_train_data, train_target)"
   ]
  },
  {
   "cell_type": "code",
   "execution_count": 155,
   "metadata": {
    "id": "saT_55_V_Wgj"
   },
   "outputs": [],
   "source": [
    "#예측 진행\n",
    "test_pred = knn_3.predict(scaled_test_data)"
   ]
  },
  {
   "cell_type": "code",
   "execution_count": 156,
   "metadata": {
    "colab": {
     "base_uri": "https://localhost:8080/"
    },
    "id": "mVQTvsw659nc",
    "outputId": "bdb45cef-4d3a-4516-e63f-dfbb0c1846ee"
   },
   "outputs": [
    {
     "name": "stdout",
     "output_type": "stream",
     "text": [
      "knn3 rmse score :  4518.613117122952\n"
     ]
    }
   ],
   "source": [
    "MSE = mean_squared_error(test_target, test_pred) \n",
    "\n",
    "print(\"knn3 rmse score : \", np.sqrt(MSE))\n"
   ]
  },
  {
   "cell_type": "code",
   "execution_count": 157,
   "metadata": {},
   "outputs": [
    {
     "data": {
      "text/plain": [
       "0.11754992459091573"
      ]
     },
     "execution_count": 157,
     "metadata": {},
     "output_type": "execute_result"
    }
   ],
   "source": [
    "r2_score(test_target, test_pred)"
   ]
  }
 ],
 "metadata": {
  "colab": {
   "provenance": []
  },
  "kernelspec": {
   "display_name": "Python 3",
   "language": "python",
   "name": "python3"
  },
  "language_info": {
   "codemirror_mode": {
    "name": "ipython",
    "version": 3
   },
   "file_extension": ".py",
   "mimetype": "text/x-python",
   "name": "python",
   "nbconvert_exporter": "python",
   "pygments_lexer": "ipython3",
   "version": "3.7.3"
  }
 },
 "nbformat": 4,
 "nbformat_minor": 1
}
