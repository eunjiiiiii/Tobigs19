{
 "cells": [
  {
   "cell_type": "markdown",
   "metadata": {},
   "source": [
    "## NN Adv Assignment"
   ]
  },
  {
   "cell_type": "code",
   "execution_count": 2,
   "metadata": {},
   "outputs": [
    {
     "name": "stdout",
     "output_type": "stream",
     "text": [
      "Collecting tensorflow\n",
      "  Using cached https://files.pythonhosted.org/packages/55/d1/a3631a36859ee324e1767fa7554fdf7af17965571d8537b20b311b76bcfe/tensorflow-2.11.0-cp37-cp37m-win_amd64.whl\n",
      "Collecting tensorflow-intel==2.11.0; platform_system == \"Windows\" (from tensorflow)\n",
      "  Using cached https://files.pythonhosted.org/packages/f7/8c/18288ac12dc0e1997c73f1b86dbd6f7fa3674ae5341769387e1f13b07c9e/tensorflow_intel-2.11.0-cp37-cp37m-win_amd64.whl\n",
      "Requirement already satisfied: astunparse>=1.6.0 in c:\\users\\user\\datascience\\lib\\site-packages (from tensorflow-intel==2.11.0; platform_system == \"Windows\"->tensorflow) (1.6.3)\n",
      "Requirement already satisfied: grpcio<2.0,>=1.24.3 in c:\\users\\user\\datascience\\lib\\site-packages (from tensorflow-intel==2.11.0; platform_system == \"Windows\"->tensorflow) (1.52.0)\n",
      "Requirement already satisfied: h5py>=2.9.0 in c:\\users\\user\\datascience\\lib\\site-packages (from tensorflow-intel==2.11.0; platform_system == \"Windows\"->tensorflow) (2.9.0)\n",
      "Requirement already satisfied: google-pasta>=0.1.1 in c:\\users\\user\\datascience\\lib\\site-packages (from tensorflow-intel==2.11.0; platform_system == \"Windows\"->tensorflow) (0.2.0)\n",
      "Requirement already satisfied: tensorflow-io-gcs-filesystem>=0.23.1; platform_machine != \"arm64\" or platform_system != \"Darwin\" in c:\\users\\user\\datascience\\lib\\site-packages (from tensorflow-intel==2.11.0; platform_system == \"Windows\"->tensorflow) (0.31.0)\n",
      "Requirement already satisfied: tensorboard<2.12,>=2.11 in c:\\users\\user\\datascience\\lib\\site-packages (from tensorflow-intel==2.11.0; platform_system == \"Windows\"->tensorflow) (2.11.2)\n",
      "Requirement already satisfied: termcolor>=1.1.0 in c:\\users\\user\\datascience\\lib\\site-packages (from tensorflow-intel==2.11.0; platform_system == \"Windows\"->tensorflow) (2.2.0)\n",
      "Requirement already satisfied: flatbuffers>=2.0 in c:\\users\\user\\datascience\\lib\\site-packages (from tensorflow-intel==2.11.0; platform_system == \"Windows\"->tensorflow) (23.1.21)\n",
      "Requirement already satisfied: gast<=0.4.0,>=0.2.1 in c:\\users\\user\\datascience\\lib\\site-packages (from tensorflow-intel==2.11.0; platform_system == \"Windows\"->tensorflow) (0.4.0)\n",
      "Requirement already satisfied: protobuf<3.20,>=3.9.2 in c:\\users\\user\\datascience\\lib\\site-packages (from tensorflow-intel==2.11.0; platform_system == \"Windows\"->tensorflow) (3.19.6)\n",
      "Requirement already satisfied: opt-einsum>=2.3.2 in c:\\users\\user\\datascience\\lib\\site-packages (from tensorflow-intel==2.11.0; platform_system == \"Windows\"->tensorflow) (3.3.0)\n",
      "Requirement already satisfied: keras<2.12,>=2.11.0 in c:\\users\\user\\datascience\\lib\\site-packages (from tensorflow-intel==2.11.0; platform_system == \"Windows\"->tensorflow) (2.11.0)\n",
      "Requirement already satisfied: setuptools in c:\\users\\user\\datascience\\lib\\site-packages (from tensorflow-intel==2.11.0; platform_system == \"Windows\"->tensorflow) (40.8.0)\n",
      "Requirement already satisfied: six>=1.12.0 in c:\\users\\user\\datascience\\lib\\site-packages (from tensorflow-intel==2.11.0; platform_system == \"Windows\"->tensorflow) (1.12.0)\n",
      "Requirement already satisfied: wrapt>=1.11.0 in c:\\users\\user\\datascience\\lib\\site-packages (from tensorflow-intel==2.11.0; platform_system == \"Windows\"->tensorflow) (1.11.1)\n",
      "Requirement already satisfied: tensorflow-estimator<2.12,>=2.11.0 in c:\\users\\user\\datascience\\lib\\site-packages (from tensorflow-intel==2.11.0; platform_system == \"Windows\"->tensorflow) (2.11.0)\n",
      "Requirement already satisfied: numpy>=1.20 in c:\\users\\user\\datascience\\lib\\site-packages (from tensorflow-intel==2.11.0; platform_system == \"Windows\"->tensorflow) (1.21.6)\n",
      "Requirement already satisfied: libclang>=13.0.0 in c:\\users\\user\\datascience\\lib\\site-packages (from tensorflow-intel==2.11.0; platform_system == \"Windows\"->tensorflow) (15.0.6.1)\n",
      "Requirement already satisfied: typing-extensions>=3.6.6 in c:\\users\\user\\datascience\\lib\\site-packages (from tensorflow-intel==2.11.0; platform_system == \"Windows\"->tensorflow) (4.1.1)\n",
      "Requirement already satisfied: packaging in c:\\users\\user\\datascience\\lib\\site-packages (from tensorflow-intel==2.11.0; platform_system == \"Windows\"->tensorflow) (19.0)\n",
      "Requirement already satisfied: absl-py>=1.0.0 in c:\\users\\user\\datascience\\lib\\site-packages (from tensorflow-intel==2.11.0; platform_system == \"Windows\"->tensorflow) (1.4.0)\n",
      "Requirement already satisfied: wheel<1.0,>=0.23.0 in c:\\users\\user\\datascience\\lib\\site-packages (from astunparse>=1.6.0->tensorflow-intel==2.11.0; platform_system == \"Windows\"->tensorflow) (0.33.1)\n",
      "Requirement already satisfied: requests<3,>=2.21.0 in c:\\users\\user\\datascience\\lib\\site-packages (from tensorboard<2.12,>=2.11->tensorflow-intel==2.11.0; platform_system == \"Windows\"->tensorflow) (2.27.1)\n",
      "Requirement already satisfied: tensorboard-plugin-wit>=1.6.0 in c:\\users\\user\\datascience\\lib\\site-packages (from tensorboard<2.12,>=2.11->tensorflow-intel==2.11.0; platform_system == \"Windows\"->tensorflow) (1.8.1)\n",
      "Requirement already satisfied: tensorboard-data-server<0.7.0,>=0.6.0 in c:\\users\\user\\datascience\\lib\\site-packages (from tensorboard<2.12,>=2.11->tensorflow-intel==2.11.0; platform_system == \"Windows\"->tensorflow) (0.6.1)\n",
      "Requirement already satisfied: google-auth-oauthlib<0.5,>=0.4.1 in c:\\users\\user\\datascience\\lib\\site-packages (from tensorboard<2.12,>=2.11->tensorflow-intel==2.11.0; platform_system == \"Windows\"->tensorflow) (0.4.6)\n",
      "Requirement already satisfied: markdown>=2.6.8 in c:\\users\\user\\datascience\\lib\\site-packages (from tensorboard<2.12,>=2.11->tensorflow-intel==2.11.0; platform_system == \"Windows\"->tensorflow) (3.4.1)\n",
      "Requirement already satisfied: werkzeug>=1.0.1 in c:\\users\\user\\datascience\\lib\\site-packages (from tensorboard<2.12,>=2.11->tensorflow-intel==2.11.0; platform_system == \"Windows\"->tensorflow) (2.1.0)\n",
      "Requirement already satisfied: google-auth<3,>=1.6.3 in c:\\users\\user\\datascience\\lib\\site-packages (from tensorboard<2.12,>=2.11->tensorflow-intel==2.11.0; platform_system == \"Windows\"->tensorflow) (2.16.1)\n",
      "Requirement already satisfied: pyparsing>=2.0.2 in c:\\users\\user\\datascience\\lib\\site-packages (from packaging->tensorflow-intel==2.11.0; platform_system == \"Windows\"->tensorflow) (2.3.1)\n",
      "Requirement already satisfied: charset-normalizer~=2.0.0; python_version >= \"3\" in c:\\users\\user\\datascience\\lib\\site-packages (from requests<3,>=2.21.0->tensorboard<2.12,>=2.11->tensorflow-intel==2.11.0; platform_system == \"Windows\"->tensorflow) (2.0.12)\n",
      "Requirement already satisfied: certifi>=2017.4.17 in c:\\users\\user\\datascience\\lib\\site-packages (from requests<3,>=2.21.0->tensorboard<2.12,>=2.11->tensorflow-intel==2.11.0; platform_system == \"Windows\"->tensorflow) (2019.3.9)\n",
      "Requirement already satisfied: urllib3<1.27,>=1.21.1 in c:\\users\\user\\datascience\\lib\\site-packages (from requests<3,>=2.21.0->tensorboard<2.12,>=2.11->tensorflow-intel==2.11.0; platform_system == \"Windows\"->tensorflow) (1.24.1)\n",
      "Requirement already satisfied: idna<4,>=2.5; python_version >= \"3\" in c:\\users\\user\\datascience\\lib\\site-packages (from requests<3,>=2.21.0->tensorboard<2.12,>=2.11->tensorflow-intel==2.11.0; platform_system == \"Windows\"->tensorflow) (2.8)\n",
      "Requirement already satisfied: requests-oauthlib>=0.7.0 in c:\\users\\user\\datascience\\lib\\site-packages (from google-auth-oauthlib<0.5,>=0.4.1->tensorboard<2.12,>=2.11->tensorflow-intel==2.11.0; platform_system == \"Windows\"->tensorflow) (1.3.1)\n",
      "Requirement already satisfied: importlib-metadata>=4.4; python_version < \"3.10\" in c:\\users\\user\\datascience\\lib\\site-packages (from markdown>=2.6.8->tensorboard<2.12,>=2.11->tensorflow-intel==2.11.0; platform_system == \"Windows\"->tensorflow) (6.0.0)\n",
      "Requirement already satisfied: rsa<5,>=3.1.4; python_version >= \"3.6\" in c:\\users\\user\\datascience\\lib\\site-packages (from google-auth<3,>=1.6.3->tensorboard<2.12,>=2.11->tensorflow-intel==2.11.0; platform_system == \"Windows\"->tensorflow) (4.9)\n",
      "Requirement already satisfied: cachetools<6.0,>=2.0.0 in c:\\users\\user\\datascience\\lib\\site-packages (from google-auth<3,>=1.6.3->tensorboard<2.12,>=2.11->tensorflow-intel==2.11.0; platform_system == \"Windows\"->tensorflow) (5.3.0)\n",
      "Requirement already satisfied: pyasn1-modules>=0.2.1 in c:\\users\\user\\datascience\\lib\\site-packages (from google-auth<3,>=1.6.3->tensorboard<2.12,>=2.11->tensorflow-intel==2.11.0; platform_system == \"Windows\"->tensorflow) (0.2.8)\n",
      "Requirement already satisfied: oauthlib>=3.0.0 in c:\\users\\user\\datascience\\lib\\site-packages (from requests-oauthlib>=0.7.0->google-auth-oauthlib<0.5,>=0.4.1->tensorboard<2.12,>=2.11->tensorflow-intel==2.11.0; platform_system == \"Windows\"->tensorflow) (3.2.0)\n",
      "Requirement already satisfied: zipp>=0.5 in c:\\users\\user\\datascience\\lib\\site-packages (from importlib-metadata>=4.4; python_version < \"3.10\"->markdown>=2.6.8->tensorboard<2.12,>=2.11->tensorflow-intel==2.11.0; platform_system == \"Windows\"->tensorflow) (3.15.0)\n",
      "Requirement already satisfied: pyasn1>=0.1.3 in c:\\users\\user\\datascience\\lib\\site-packages (from rsa<5,>=3.1.4; python_version >= \"3.6\"->google-auth<3,>=1.6.3->tensorboard<2.12,>=2.11->tensorflow-intel==2.11.0; platform_system == \"Windows\"->tensorflow) (0.4.8)\n",
      "Installing collected packages: tensorflow-intel, tensorflow\n",
      "Successfully installed tensorflow-2.11.0 tensorflow-intel-2.11.0\n"
     ]
    }
   ],
   "source": [
    "! pip install tensorflow"
   ]
  },
  {
   "cell_type": "code",
   "execution_count": 1,
   "metadata": {},
   "outputs": [],
   "source": [
    "import numpy as np\n",
    "import pandas as pd\n",
    "import matplotlib.pyplot as plt\n",
    "\n",
    "\n",
    "### TensorFlow\n",
    "\n",
    "import tensorflow as tf\n",
    "from tensorflow import keras\n",
    "\n",
    "import warnings\n",
    "warnings.filterwarnings(action='ignore')"
   ]
  },
  {
   "cell_type": "markdown",
   "metadata": {},
   "source": [
    "### Load Data"
   ]
  },
  {
   "cell_type": "code",
   "execution_count": 2,
   "metadata": {},
   "outputs": [],
   "source": [
    "train = pd.read_csv('Train.csv')\n",
    "test = pd.read_csv('Test.csv')"
   ]
  },
  {
   "cell_type": "code",
   "execution_count": 3,
   "metadata": {},
   "outputs": [
    {
     "data": {
      "text/html": [
       "<div>\n",
       "<style scoped>\n",
       "    .dataframe tbody tr th:only-of-type {\n",
       "        vertical-align: middle;\n",
       "    }\n",
       "\n",
       "    .dataframe tbody tr th {\n",
       "        vertical-align: top;\n",
       "    }\n",
       "\n",
       "    .dataframe thead th {\n",
       "        text-align: right;\n",
       "    }\n",
       "</style>\n",
       "<table border=\"1\" class=\"dataframe\">\n",
       "  <thead>\n",
       "    <tr style=\"text-align: right;\">\n",
       "      <th></th>\n",
       "      <th>0</th>\n",
       "      <th>1</th>\n",
       "      <th>2</th>\n",
       "      <th>3</th>\n",
       "      <th>4</th>\n",
       "      <th>5</th>\n",
       "      <th>6</th>\n",
       "      <th>7</th>\n",
       "      <th>8</th>\n",
       "      <th>9</th>\n",
       "      <th>...</th>\n",
       "      <th>775</th>\n",
       "      <th>776</th>\n",
       "      <th>777</th>\n",
       "      <th>778</th>\n",
       "      <th>779</th>\n",
       "      <th>780</th>\n",
       "      <th>781</th>\n",
       "      <th>782</th>\n",
       "      <th>783</th>\n",
       "      <th>label</th>\n",
       "    </tr>\n",
       "  </thead>\n",
       "  <tbody>\n",
       "    <tr>\n",
       "      <th>0</th>\n",
       "      <td>0</td>\n",
       "      <td>0</td>\n",
       "      <td>0</td>\n",
       "      <td>0</td>\n",
       "      <td>0</td>\n",
       "      <td>0</td>\n",
       "      <td>0</td>\n",
       "      <td>0</td>\n",
       "      <td>0</td>\n",
       "      <td>0</td>\n",
       "      <td>...</td>\n",
       "      <td>0</td>\n",
       "      <td>0</td>\n",
       "      <td>0</td>\n",
       "      <td>0</td>\n",
       "      <td>0</td>\n",
       "      <td>0</td>\n",
       "      <td>0</td>\n",
       "      <td>0</td>\n",
       "      <td>0</td>\n",
       "      <td>1</td>\n",
       "    </tr>\n",
       "    <tr>\n",
       "      <th>1</th>\n",
       "      <td>0</td>\n",
       "      <td>0</td>\n",
       "      <td>0</td>\n",
       "      <td>0</td>\n",
       "      <td>0</td>\n",
       "      <td>0</td>\n",
       "      <td>0</td>\n",
       "      <td>0</td>\n",
       "      <td>0</td>\n",
       "      <td>0</td>\n",
       "      <td>...</td>\n",
       "      <td>0</td>\n",
       "      <td>0</td>\n",
       "      <td>0</td>\n",
       "      <td>0</td>\n",
       "      <td>0</td>\n",
       "      <td>0</td>\n",
       "      <td>0</td>\n",
       "      <td>0</td>\n",
       "      <td>0</td>\n",
       "      <td>3</td>\n",
       "    </tr>\n",
       "    <tr>\n",
       "      <th>2</th>\n",
       "      <td>0</td>\n",
       "      <td>0</td>\n",
       "      <td>0</td>\n",
       "      <td>0</td>\n",
       "      <td>0</td>\n",
       "      <td>0</td>\n",
       "      <td>0</td>\n",
       "      <td>0</td>\n",
       "      <td>0</td>\n",
       "      <td>0</td>\n",
       "      <td>...</td>\n",
       "      <td>0</td>\n",
       "      <td>0</td>\n",
       "      <td>0</td>\n",
       "      <td>0</td>\n",
       "      <td>0</td>\n",
       "      <td>0</td>\n",
       "      <td>0</td>\n",
       "      <td>0</td>\n",
       "      <td>0</td>\n",
       "      <td>8</td>\n",
       "    </tr>\n",
       "    <tr>\n",
       "      <th>3</th>\n",
       "      <td>0</td>\n",
       "      <td>0</td>\n",
       "      <td>0</td>\n",
       "      <td>0</td>\n",
       "      <td>0</td>\n",
       "      <td>0</td>\n",
       "      <td>0</td>\n",
       "      <td>0</td>\n",
       "      <td>0</td>\n",
       "      <td>0</td>\n",
       "      <td>...</td>\n",
       "      <td>0</td>\n",
       "      <td>0</td>\n",
       "      <td>0</td>\n",
       "      <td>0</td>\n",
       "      <td>0</td>\n",
       "      <td>0</td>\n",
       "      <td>0</td>\n",
       "      <td>0</td>\n",
       "      <td>0</td>\n",
       "      <td>7</td>\n",
       "    </tr>\n",
       "    <tr>\n",
       "      <th>4</th>\n",
       "      <td>0</td>\n",
       "      <td>0</td>\n",
       "      <td>0</td>\n",
       "      <td>0</td>\n",
       "      <td>0</td>\n",
       "      <td>0</td>\n",
       "      <td>0</td>\n",
       "      <td>0</td>\n",
       "      <td>0</td>\n",
       "      <td>0</td>\n",
       "      <td>...</td>\n",
       "      <td>0</td>\n",
       "      <td>0</td>\n",
       "      <td>0</td>\n",
       "      <td>0</td>\n",
       "      <td>0</td>\n",
       "      <td>0</td>\n",
       "      <td>0</td>\n",
       "      <td>0</td>\n",
       "      <td>0</td>\n",
       "      <td>5</td>\n",
       "    </tr>\n",
       "  </tbody>\n",
       "</table>\n",
       "<p>5 rows × 785 columns</p>\n",
       "</div>"
      ],
      "text/plain": [
       "   0  1  2  3  4  5  6  7  8  9  ...  775  776  777  778  779  780  781  782  \\\n",
       "0  0  0  0  0  0  0  0  0  0  0  ...    0    0    0    0    0    0    0    0   \n",
       "1  0  0  0  0  0  0  0  0  0  0  ...    0    0    0    0    0    0    0    0   \n",
       "2  0  0  0  0  0  0  0  0  0  0  ...    0    0    0    0    0    0    0    0   \n",
       "3  0  0  0  0  0  0  0  0  0  0  ...    0    0    0    0    0    0    0    0   \n",
       "4  0  0  0  0  0  0  0  0  0  0  ...    0    0    0    0    0    0    0    0   \n",
       "\n",
       "   783  label  \n",
       "0    0      1  \n",
       "1    0      3  \n",
       "2    0      8  \n",
       "3    0      7  \n",
       "4    0      5  \n",
       "\n",
       "[5 rows x 785 columns]"
      ]
     },
     "execution_count": 3,
     "metadata": {},
     "output_type": "execute_result"
    }
   ],
   "source": [
    "train.head()"
   ]
  },
  {
   "cell_type": "code",
   "execution_count": 4,
   "metadata": {},
   "outputs": [
    {
     "data": {
      "text/plain": [
       "10"
      ]
     },
     "execution_count": 4,
     "metadata": {},
     "output_type": "execute_result"
    }
   ],
   "source": [
    "train['label'].nunique()"
   ]
  },
  {
   "cell_type": "code",
   "execution_count": 5,
   "metadata": {},
   "outputs": [
    {
     "data": {
      "text/html": [
       "<div>\n",
       "<style scoped>\n",
       "    .dataframe tbody tr th:only-of-type {\n",
       "        vertical-align: middle;\n",
       "    }\n",
       "\n",
       "    .dataframe tbody tr th {\n",
       "        vertical-align: top;\n",
       "    }\n",
       "\n",
       "    .dataframe thead th {\n",
       "        text-align: right;\n",
       "    }\n",
       "</style>\n",
       "<table border=\"1\" class=\"dataframe\">\n",
       "  <thead>\n",
       "    <tr style=\"text-align: right;\">\n",
       "      <th></th>\n",
       "      <th>0</th>\n",
       "      <th>1</th>\n",
       "      <th>2</th>\n",
       "      <th>3</th>\n",
       "      <th>4</th>\n",
       "      <th>5</th>\n",
       "      <th>6</th>\n",
       "      <th>7</th>\n",
       "      <th>8</th>\n",
       "      <th>9</th>\n",
       "      <th>...</th>\n",
       "      <th>774</th>\n",
       "      <th>775</th>\n",
       "      <th>776</th>\n",
       "      <th>777</th>\n",
       "      <th>778</th>\n",
       "      <th>779</th>\n",
       "      <th>780</th>\n",
       "      <th>781</th>\n",
       "      <th>782</th>\n",
       "      <th>783</th>\n",
       "    </tr>\n",
       "  </thead>\n",
       "  <tbody>\n",
       "    <tr>\n",
       "      <th>0</th>\n",
       "      <td>0</td>\n",
       "      <td>0</td>\n",
       "      <td>0</td>\n",
       "      <td>0</td>\n",
       "      <td>0</td>\n",
       "      <td>0</td>\n",
       "      <td>0</td>\n",
       "      <td>0</td>\n",
       "      <td>0</td>\n",
       "      <td>0</td>\n",
       "      <td>...</td>\n",
       "      <td>67</td>\n",
       "      <td>0</td>\n",
       "      <td>0</td>\n",
       "      <td>0</td>\n",
       "      <td>0</td>\n",
       "      <td>0</td>\n",
       "      <td>0</td>\n",
       "      <td>0</td>\n",
       "      <td>0</td>\n",
       "      <td>0</td>\n",
       "    </tr>\n",
       "    <tr>\n",
       "      <th>1</th>\n",
       "      <td>0</td>\n",
       "      <td>0</td>\n",
       "      <td>0</td>\n",
       "      <td>0</td>\n",
       "      <td>0</td>\n",
       "      <td>0</td>\n",
       "      <td>0</td>\n",
       "      <td>1</td>\n",
       "      <td>2</td>\n",
       "      <td>0</td>\n",
       "      <td>...</td>\n",
       "      <td>0</td>\n",
       "      <td>0</td>\n",
       "      <td>1</td>\n",
       "      <td>0</td>\n",
       "      <td>0</td>\n",
       "      <td>0</td>\n",
       "      <td>0</td>\n",
       "      <td>0</td>\n",
       "      <td>0</td>\n",
       "      <td>0</td>\n",
       "    </tr>\n",
       "    <tr>\n",
       "      <th>2</th>\n",
       "      <td>0</td>\n",
       "      <td>0</td>\n",
       "      <td>0</td>\n",
       "      <td>0</td>\n",
       "      <td>0</td>\n",
       "      <td>0</td>\n",
       "      <td>0</td>\n",
       "      <td>0</td>\n",
       "      <td>0</td>\n",
       "      <td>0</td>\n",
       "      <td>...</td>\n",
       "      <td>93</td>\n",
       "      <td>58</td>\n",
       "      <td>78</td>\n",
       "      <td>45</td>\n",
       "      <td>0</td>\n",
       "      <td>0</td>\n",
       "      <td>0</td>\n",
       "      <td>0</td>\n",
       "      <td>0</td>\n",
       "      <td>0</td>\n",
       "    </tr>\n",
       "    <tr>\n",
       "      <th>3</th>\n",
       "      <td>0</td>\n",
       "      <td>0</td>\n",
       "      <td>0</td>\n",
       "      <td>0</td>\n",
       "      <td>0</td>\n",
       "      <td>0</td>\n",
       "      <td>0</td>\n",
       "      <td>0</td>\n",
       "      <td>0</td>\n",
       "      <td>0</td>\n",
       "      <td>...</td>\n",
       "      <td>71</td>\n",
       "      <td>0</td>\n",
       "      <td>0</td>\n",
       "      <td>0</td>\n",
       "      <td>0</td>\n",
       "      <td>0</td>\n",
       "      <td>0</td>\n",
       "      <td>0</td>\n",
       "      <td>0</td>\n",
       "      <td>0</td>\n",
       "    </tr>\n",
       "    <tr>\n",
       "      <th>4</th>\n",
       "      <td>0</td>\n",
       "      <td>0</td>\n",
       "      <td>0</td>\n",
       "      <td>0</td>\n",
       "      <td>0</td>\n",
       "      <td>0</td>\n",
       "      <td>0</td>\n",
       "      <td>0</td>\n",
       "      <td>0</td>\n",
       "      <td>0</td>\n",
       "      <td>...</td>\n",
       "      <td>0</td>\n",
       "      <td>0</td>\n",
       "      <td>63</td>\n",
       "      <td>0</td>\n",
       "      <td>0</td>\n",
       "      <td>0</td>\n",
       "      <td>0</td>\n",
       "      <td>0</td>\n",
       "      <td>0</td>\n",
       "      <td>0</td>\n",
       "    </tr>\n",
       "  </tbody>\n",
       "</table>\n",
       "<p>5 rows × 784 columns</p>\n",
       "</div>"
      ],
      "text/plain": [
       "   0  1  2  3  4  5  6  7  8  9  ...  774  775  776  777  778  779  780  781  \\\n",
       "0  0  0  0  0  0  0  0  0  0  0  ...   67    0    0    0    0    0    0    0   \n",
       "1  0  0  0  0  0  0  0  1  2  0  ...    0    0    1    0    0    0    0    0   \n",
       "2  0  0  0  0  0  0  0  0  0  0  ...   93   58   78   45    0    0    0    0   \n",
       "3  0  0  0  0  0  0  0  0  0  0  ...   71    0    0    0    0    0    0    0   \n",
       "4  0  0  0  0  0  0  0  0  0  0  ...    0    0   63    0    0    0    0    0   \n",
       "\n",
       "   782  783  \n",
       "0    0    0  \n",
       "1    0    0  \n",
       "2    0    0  \n",
       "3    0    0  \n",
       "4    0    0  \n",
       "\n",
       "[5 rows x 784 columns]"
      ]
     },
     "execution_count": 5,
     "metadata": {},
     "output_type": "execute_result"
    }
   ],
   "source": [
    "test.head()"
   ]
  },
  {
   "cell_type": "code",
   "execution_count": 6,
   "metadata": {},
   "outputs": [],
   "source": [
    "X = train.iloc[:, :-1].values\n",
    "X = X.reshape(-1, 28, 28, 1)\n",
    "y = train.iloc[:, -1].values"
   ]
  },
  {
   "cell_type": "code",
   "execution_count": 7,
   "metadata": {},
   "outputs": [
    {
     "data": {
      "image/png": "[encoded data removed]",
      "text/plain": [
       "<Figure size 1440x72 with 20 Axes>"
      ]
     },
     "metadata": {
      "needs_background": "light"
     },
     "output_type": "display_data"
    }
   ],
   "source": [
    "pltsize = 1\n",
    "plt.figure(figsize=(20 * pltsize, pltsize))\n",
    "for idx in range(0, 20):\n",
    "    plt.subplot(1, 20, idx + 1)\n",
    "    plt.axis('off')\n",
    "    plt.imshow(X[idx].reshape(28, 28), cmap='gray_r')\n",
    "    plt.title(f'Class : {y[idx]}')"
   ]
  },
  {
   "cell_type": "code",
   "execution_count": 8,
   "metadata": {},
   "outputs": [],
   "source": [
    "X_test = test.values"
   ]
  },
  {
   "cell_type": "code",
   "execution_count": 9,
   "metadata": {},
   "outputs": [
    {
     "data": {
      "image/png": "[encoded data removed]",
      "text/plain": [
       "<Figure size 1440x72 with 20 Axes>"
      ]
     },
     "metadata": {
      "needs_background": "light"
     },
     "output_type": "display_data"
    }
   ],
   "source": [
    "pltsize = 1\n",
    "plt.figure(figsize=(20 * pltsize, pltsize))\n",
    "for idx in range(0, 20):\n",
    "    plt.subplot(1, 20, idx + 1)\n",
    "    plt.axis('off')\n",
    "    plt.imshow(X_test[idx].reshape(28, 28), cmap='gray_r')"
   ]
  },
  {
   "cell_type": "markdown",
   "metadata": {},
   "source": [
    "### Train-Test Split"
   ]
  },
  {
   "cell_type": "code",
   "execution_count": 10,
   "metadata": {},
   "outputs": [],
   "source": [
    "from sklearn.model_selection import train_test_split\n",
    "\n",
    "X_train, X_val, y_train, y_val = train_test_split(X, y, test_size = 0.2, random_state = 16, stratify = y, shuffle = True)\n",
    "\n",
    "# 정규화\n",
    "X_train = X_train / 255.0\n",
    "X_val = X_val / 255.0\n",
    "X_test = X_test / 255.0"
   ]
  },
  {
   "cell_type": "markdown",
   "metadata": {},
   "source": [
    "# 파라미터 수정"
   ]
  },
  {
   "cell_type": "code",
   "execution_count": 11,
   "metadata": {},
   "outputs": [],
   "source": [
    "BATCH_SIZE = 128\n",
    "EPOCHS = 50"
   ]
  },
  {
   "cell_type": "markdown",
   "metadata": {},
   "source": [
    "#### activation function 변경 - relu"
   ]
  },
  {
   "cell_type": "code",
   "execution_count": 12,
   "metadata": {
    "scrolled": true
   },
   "outputs": [
    {
     "name": "stdout",
     "output_type": "stream",
     "text": [
      "Model: \"sequential\"\n",
      "_________________________________________________________________\n",
      " Layer (type)                Output Shape              Param #   \n",
      "=================================================================\n",
      " flatten (Flatten)           (None, 784)               0         \n",
      "                                                                 \n",
      " dense (Dense)               (None, 512)               401920    \n",
      "                                                                 \n",
      " dense_1 (Dense)             (None, 256)               131328    \n",
      "                                                                 \n",
      " dense_2 (Dense)             (None, 128)               32896     \n",
      "                                                                 \n",
      " dense_3 (Dense)             (None, 10)                1290      \n",
      "                                                                 \n",
      "=================================================================\n",
      "Total params: 567,434\n",
      "Trainable params: 567,434\n",
      "Non-trainable params: 0\n",
      "_________________________________________________________________\n",
      "None\n"
     ]
    }
   ],
   "source": [
    "model = keras.Sequential([\n",
    "    keras.layers.Flatten(input_shape=(28, 28)),\n",
    "    keras.layers.Dense(512, activation='relu'),\n",
    "    keras.layers.Dense(256, activation='relu'),\n",
    "    keras.layers.Dense(128, activation='relu'),\n",
    "    keras.layers.Dense(10, activation='softmax')\n",
    "])\n",
    "\n",
    "print(model.summary())"
   ]
  },
  {
   "cell_type": "code",
   "execution_count": 13,
   "metadata": {},
   "outputs": [
    {
     "name": "stderr",
     "output_type": "stream",
     "text": [
      "WARNING:absl:`lr` is deprecated, please use `learning_rate` instead, or use the legacy optimizer, e.g.,tf.keras.optimizers.legacy.SGD.\n"
     ]
    }
   ],
   "source": [
    "optimizer = keras.optimizers.SGD(lr=0.01, momentum=0.5)\n",
    "model.compile(optimizer=optimizer,\n",
    "              loss=tf.keras.losses.SparseCategoricalCrossentropy(from_logits=True),\n",
    "              metrics=['accuracy'])"
   ]
  },
  {
   "cell_type": "code",
   "execution_count": 14,
   "metadata": {},
   "outputs": [
    {
     "name": "stdout",
     "output_type": "stream",
     "text": [
      "Epoch 1/10\n",
      "1488/1488 [==============================] - 22s 14ms/step - loss: 0.6429 - accuracy: 0.7784 - val_loss: 0.4690 - val_accuracy: 0.8336\n",
      "Epoch 2/10\n",
      "1488/1488 [==============================] - 19s 13ms/step - loss: 0.4455 - accuracy: 0.8423 - val_loss: 0.4107 - val_accuracy: 0.8555\n",
      "Epoch 3/10\n",
      "1488/1488 [==============================] - 19s 13ms/step - loss: 0.3983 - accuracy: 0.8563 - val_loss: 0.4100 - val_accuracy: 0.8530\n",
      "Epoch 4/10\n",
      "1488/1488 [==============================] - 22s 15ms/step - loss: 0.3695 - accuracy: 0.8671 - val_loss: 0.3480 - val_accuracy: 0.8782\n",
      "Epoch 5/10\n",
      "1488/1488 [==============================] - 25s 17ms/step - loss: 0.3465 - accuracy: 0.8744 - val_loss: 0.3650 - val_accuracy: 0.8702\n",
      "Epoch 6/10\n",
      "1488/1488 [==============================] - 22s 15ms/step - loss: 0.3304 - accuracy: 0.8796 - val_loss: 0.3406 - val_accuracy: 0.8784\n",
      "Epoch 7/10\n",
      "1488/1488 [==============================] - 19s 13ms/step - loss: 0.3127 - accuracy: 0.8843 - val_loss: 0.3366 - val_accuracy: 0.8797\n",
      "Epoch 8/10\n",
      "1488/1488 [==============================] - 19s 13ms/step - loss: 0.2984 - accuracy: 0.8902 - val_loss: 0.3324 - val_accuracy: 0.8820\n",
      "Epoch 9/10\n",
      "1488/1488 [==============================] - 19s 13ms/step - loss: 0.2874 - accuracy: 0.8937 - val_loss: 0.3297 - val_accuracy: 0.8806\n",
      "Epoch 10/10\n",
      "1488/1488 [==============================] - 20s 13ms/step - loss: 0.2765 - accuracy: 0.8974 - val_loss: 0.3129 - val_accuracy: 0.8872\n"
     ]
    }
   ],
   "source": [
    "result = model.fit(X_train, y_train, epochs=10, validation_data = (X_val, y_val))"
   ]
  },
  {
   "cell_type": "markdown",
   "metadata": {},
   "source": [
    "epoch 늘려서 학습"
   ]
  },
  {
   "cell_type": "code",
   "execution_count": 15,
   "metadata": {},
   "outputs": [
    {
     "name": "stdout",
     "output_type": "stream",
     "text": [
      "Epoch 1/50\n",
      "1488/1488 [==============================] - 20s 13ms/step - loss: 0.2666 - accuracy: 0.9015 - val_loss: 0.3450 - val_accuracy: 0.8738\n",
      "Epoch 2/50\n",
      "1488/1488 [==============================] - 20s 14ms/step - loss: 0.2566 - accuracy: 0.9050 - val_loss: 0.3005 - val_accuracy: 0.8896\n",
      "Epoch 3/50\n",
      "1488/1488 [==============================] - 20s 14ms/step - loss: 0.2482 - accuracy: 0.9082 - val_loss: 0.3004 - val_accuracy: 0.8882\n",
      "Epoch 4/50\n",
      "1488/1488 [==============================] - 23s 16ms/step - loss: 0.2403 - accuracy: 0.9108 - val_loss: 0.3084 - val_accuracy: 0.8893\n",
      "Epoch 5/50\n",
      "1488/1488 [==============================] - 20s 13ms/step - loss: 0.2317 - accuracy: 0.9142 - val_loss: 0.3151 - val_accuracy: 0.8851\n",
      "Epoch 6/50\n",
      "1488/1488 [==============================] - 24s 16ms/step - loss: 0.2244 - accuracy: 0.9168 - val_loss: 0.2872 - val_accuracy: 0.8976\n",
      "Epoch 7/50\n",
      "1488/1488 [==============================] - 26s 17ms/step - loss: 0.2155 - accuracy: 0.9204 - val_loss: 0.2873 - val_accuracy: 0.8963\n",
      "Epoch 8/50\n",
      "1488/1488 [==============================] - 20s 13ms/step - loss: 0.2090 - accuracy: 0.9220 - val_loss: 0.3338 - val_accuracy: 0.8873\n",
      "Epoch 9/50\n",
      "1488/1488 [==============================] - 19s 13ms/step - loss: 0.2028 - accuracy: 0.9252 - val_loss: 0.2889 - val_accuracy: 0.8976\n",
      "Epoch 10/50\n",
      "1488/1488 [==============================] - 20s 13ms/step - loss: 0.1962 - accuracy: 0.9276 - val_loss: 0.2876 - val_accuracy: 0.8967\n",
      "Epoch 11/50\n",
      "1488/1488 [==============================] - 19s 13ms/step - loss: 0.1912 - accuracy: 0.9297 - val_loss: 0.3507 - val_accuracy: 0.8846\n",
      "Epoch 12/50\n",
      "1488/1488 [==============================] - 20s 14ms/step - loss: 0.1859 - accuracy: 0.9302 - val_loss: 0.3121 - val_accuracy: 0.8899\n",
      "Epoch 13/50\n",
      "1488/1488 [==============================] - 19s 13ms/step - loss: 0.1788 - accuracy: 0.9347 - val_loss: 0.2923 - val_accuracy: 0.8987\n",
      "Epoch 14/50\n",
      "1488/1488 [==============================] - 19s 13ms/step - loss: 0.1737 - accuracy: 0.9349 - val_loss: 0.2981 - val_accuracy: 0.8976\n",
      "Epoch 15/50\n",
      "1488/1488 [==============================] - 21s 14ms/step - loss: 0.1676 - accuracy: 0.9379 - val_loss: 0.2951 - val_accuracy: 0.9018\n",
      "Epoch 16/50\n",
      "1488/1488 [==============================] - 24s 16ms/step - loss: 0.1627 - accuracy: 0.9391 - val_loss: 0.2932 - val_accuracy: 0.9009\n",
      "Epoch 17/50\n",
      "1488/1488 [==============================] - 20s 13ms/step - loss: 0.1591 - accuracy: 0.9411 - val_loss: 0.2901 - val_accuracy: 0.9014\n",
      "Epoch 18/50\n",
      "1488/1488 [==============================] - 20s 13ms/step - loss: 0.1513 - accuracy: 0.9446 - val_loss: 0.3014 - val_accuracy: 0.8995\n",
      "Epoch 19/50\n",
      "1488/1488 [==============================] - 21s 14ms/step - loss: 0.1477 - accuracy: 0.9467 - val_loss: 0.3759 - val_accuracy: 0.8717\n",
      "Epoch 20/50\n",
      "1488/1488 [==============================] - 19s 13ms/step - loss: 0.1429 - accuracy: 0.9461 - val_loss: 0.3194 - val_accuracy: 0.8965\n",
      "Epoch 21/50\n",
      "1488/1488 [==============================] - 21s 14ms/step - loss: 0.1392 - accuracy: 0.9488 - val_loss: 0.3011 - val_accuracy: 0.9008\n",
      "Epoch 22/50\n",
      "1488/1488 [==============================] - 21s 14ms/step - loss: 0.1332 - accuracy: 0.9499 - val_loss: 0.2997 - val_accuracy: 0.9035\n",
      "Epoch 23/50\n",
      "1488/1488 [==============================] - 19s 13ms/step - loss: 0.1286 - accuracy: 0.9524 - val_loss: 0.3152 - val_accuracy: 0.8976\n",
      "Epoch 24/50\n",
      "1488/1488 [==============================] - 20s 14ms/step - loss: 0.1260 - accuracy: 0.9534 - val_loss: 0.3282 - val_accuracy: 0.8945\n",
      "Epoch 25/50\n",
      "1488/1488 [==============================] - 22s 15ms/step - loss: 0.1227 - accuracy: 0.9551 - val_loss: 0.3416 - val_accuracy: 0.8954\n",
      "Epoch 26/50\n",
      "1488/1488 [==============================] - 19s 13ms/step - loss: 0.1200 - accuracy: 0.9555 - val_loss: 0.3171 - val_accuracy: 0.9024\n",
      "Epoch 27/50\n",
      "1488/1488 [==============================] - 20s 13ms/step - loss: 0.1148 - accuracy: 0.9578 - val_loss: 0.3480 - val_accuracy: 0.8917\n",
      "Epoch 28/50\n",
      "1488/1488 [==============================] - 19s 13ms/step - loss: 0.1107 - accuracy: 0.9588 - val_loss: 0.3246 - val_accuracy: 0.9012\n",
      "Epoch 29/50\n",
      "1488/1488 [==============================] - 21s 14ms/step - loss: 0.1036 - accuracy: 0.9615 - val_loss: 0.3380 - val_accuracy: 0.9007\n",
      "Epoch 30/50\n",
      "1488/1488 [==============================] - 19s 13ms/step - loss: 0.1035 - accuracy: 0.9614 - val_loss: 0.3354 - val_accuracy: 0.8976\n",
      "Epoch 31/50\n",
      "1488/1488 [==============================] - 20s 13ms/step - loss: 0.0998 - accuracy: 0.9633 - val_loss: 0.3328 - val_accuracy: 0.9010\n",
      "Epoch 32/50\n",
      "1488/1488 [==============================] - 20s 13ms/step - loss: 0.0962 - accuracy: 0.9650 - val_loss: 0.3385 - val_accuracy: 0.8965\n",
      "Epoch 33/50\n",
      "1488/1488 [==============================] - 20s 14ms/step - loss: 0.0922 - accuracy: 0.9656 - val_loss: 0.3792 - val_accuracy: 0.8961\n",
      "Epoch 34/50\n",
      "1488/1488 [==============================] - 24s 16ms/step - loss: 0.0926 - accuracy: 0.9653 - val_loss: 0.3784 - val_accuracy: 0.8934\n",
      "Epoch 35/50\n",
      "1488/1488 [==============================] - 22s 15ms/step - loss: 0.0874 - accuracy: 0.9681 - val_loss: 0.4073 - val_accuracy: 0.8887\n",
      "Epoch 36/50\n",
      "1488/1488 [==============================] - 22s 15ms/step - loss: 0.0847 - accuracy: 0.9699 - val_loss: 0.3751 - val_accuracy: 0.8980\n",
      "Epoch 37/50\n",
      "1488/1488 [==============================] - 23s 15ms/step - loss: 0.0836 - accuracy: 0.9690 - val_loss: 0.3602 - val_accuracy: 0.8978\n",
      "Epoch 38/50\n",
      "1488/1488 [==============================] - 23s 16ms/step - loss: 0.0812 - accuracy: 0.9702 - val_loss: 0.3674 - val_accuracy: 0.8990\n",
      "Epoch 39/50\n",
      "1488/1488 [==============================] - 20s 14ms/step - loss: 0.0785 - accuracy: 0.9715 - val_loss: 0.3593 - val_accuracy: 0.9019\n",
      "Epoch 40/50\n",
      "1488/1488 [==============================] - 19s 13ms/step - loss: 0.0728 - accuracy: 0.9732 - val_loss: 0.3886 - val_accuracy: 0.8978\n",
      "Epoch 41/50\n",
      "1488/1488 [==============================] - 20s 13ms/step - loss: 0.0725 - accuracy: 0.9736 - val_loss: 0.3829 - val_accuracy: 0.8961\n",
      "Epoch 42/50\n",
      "1488/1488 [==============================] - 20s 13ms/step - loss: 0.0671 - accuracy: 0.9763 - val_loss: 0.4256 - val_accuracy: 0.8935\n",
      "Epoch 43/50\n",
      "1488/1488 [==============================] - 21s 14ms/step - loss: 0.0698 - accuracy: 0.9740 - val_loss: 0.3874 - val_accuracy: 0.8977\n",
      "Epoch 44/50\n",
      "1488/1488 [==============================] - 15s 10ms/step - loss: 0.0688 - accuracy: 0.9742 - val_loss: 0.3987 - val_accuracy: 0.9005\n",
      "Epoch 45/50\n",
      "1488/1488 [==============================] - 12s 8ms/step - loss: 0.0639 - accuracy: 0.9766 - val_loss: 0.4200 - val_accuracy: 0.8969\n",
      "Epoch 46/50\n",
      "1488/1488 [==============================] - 11s 7ms/step - loss: 0.0597 - accuracy: 0.9785 - val_loss: 0.3978 - val_accuracy: 0.9025\n",
      "Epoch 47/50\n",
      "1488/1488 [==============================] - 11s 7ms/step - loss: 0.0605 - accuracy: 0.9781 - val_loss: 0.3951 - val_accuracy: 0.9003\n",
      "Epoch 48/50\n",
      "1488/1488 [==============================] - 11s 7ms/step - loss: 0.0556 - accuracy: 0.9804 - val_loss: 0.4426 - val_accuracy: 0.8946\n",
      "Epoch 49/50\n",
      "1488/1488 [==============================] - 11s 7ms/step - loss: 0.0569 - accuracy: 0.9790 - val_loss: 0.4120 - val_accuracy: 0.8986\n",
      "Epoch 50/50\n",
      "1488/1488 [==============================] - 11s 7ms/step - loss: 0.0582 - accuracy: 0.9784 - val_loss: 0.4386 - val_accuracy: 0.8928\n"
     ]
    }
   ],
   "source": [
    "result = model.fit(X_train, y_train, epochs=50, validation_data = (X_val, y_val))"
   ]
  },
  {
   "cell_type": "markdown",
   "metadata": {},
   "source": [
    "#### activation function linear + relu 로 변경해서 학습"
   ]
  },
  {
   "cell_type": "code",
   "execution_count": 16,
   "metadata": {
    "scrolled": true
   },
   "outputs": [
    {
     "name": "stdout",
     "output_type": "stream",
     "text": [
      "Model: \"sequential_1\"\n",
      "_________________________________________________________________\n",
      " Layer (type)                Output Shape              Param #   \n",
      "=================================================================\n",
      " flatten_1 (Flatten)         (None, 784)               0         \n",
      "                                                                 \n",
      " dense_4 (Dense)             (None, 512)               401920    \n",
      "                                                                 \n",
      " dense_5 (Dense)             (None, 256)               131328    \n",
      "                                                                 \n",
      " dense_6 (Dense)             (None, 128)               32896     \n",
      "                                                                 \n",
      " dense_7 (Dense)             (None, 10)                1290      \n",
      "                                                                 \n",
      "=================================================================\n",
      "Total params: 567,434\n",
      "Trainable params: 567,434\n",
      "Non-trainable params: 0\n",
      "_________________________________________________________________\n",
      "None\n"
     ]
    }
   ],
   "source": [
    "model = keras.Sequential([\n",
    "    keras.layers.Flatten(input_shape=(28, 28)),\n",
    "    keras.layers.Dense(512, activation='linear'),\n",
    "    keras.layers.Dense(256, activation='linear'),\n",
    "    keras.layers.Dense(128, activation='relu'),\n",
    "    keras.layers.Dense(10, activation='softmax')\n",
    "])\n",
    "\n",
    "print(model.summary())"
   ]
  },
  {
   "cell_type": "code",
   "execution_count": 17,
   "metadata": {},
   "outputs": [
    {
     "name": "stderr",
     "output_type": "stream",
     "text": [
      "WARNING:absl:`lr` is deprecated, please use `learning_rate` instead, or use the legacy optimizer, e.g.,tf.keras.optimizers.legacy.SGD.\n"
     ]
    }
   ],
   "source": [
    "optimizer = keras.optimizers.SGD(lr=0.01, momentum=0.5)\n",
    "model.compile(optimizer=optimizer,\n",
    "              loss=tf.keras.losses.SparseCategoricalCrossentropy(from_logits=True),\n",
    "              metrics=['accuracy'])"
   ]
  },
  {
   "cell_type": "code",
   "execution_count": 18,
   "metadata": {},
   "outputs": [
    {
     "name": "stdout",
     "output_type": "stream",
     "text": [
      "Epoch 1/10\n",
      "1488/1488 [==============================] - 11s 7ms/step - loss: 0.5747 - accuracy: 0.7985 - val_loss: 0.4567 - val_accuracy: 0.8371\n",
      "Epoch 2/10\n",
      "1488/1488 [==============================] - 11s 7ms/step - loss: 0.4306 - accuracy: 0.8460 - val_loss: 0.4066 - val_accuracy: 0.8546\n",
      "Epoch 3/10\n",
      "1488/1488 [==============================] - 11s 7ms/step - loss: 0.3931 - accuracy: 0.8575 - val_loss: 0.4038 - val_accuracy: 0.8513\n",
      "Epoch 4/10\n",
      "1488/1488 [==============================] - 11s 7ms/step - loss: 0.3684 - accuracy: 0.8669 - val_loss: 0.4008 - val_accuracy: 0.8580\n",
      "Epoch 5/10\n",
      "1488/1488 [==============================] - 11s 7ms/step - loss: 0.3492 - accuracy: 0.8733 - val_loss: 0.3560 - val_accuracy: 0.8736\n",
      "Epoch 6/10\n",
      "1488/1488 [==============================] - 10s 7ms/step - loss: 0.3319 - accuracy: 0.8777 - val_loss: 0.3347 - val_accuracy: 0.8808\n",
      "Epoch 7/10\n",
      "1488/1488 [==============================] - 11s 7ms/step - loss: 0.3205 - accuracy: 0.8816 - val_loss: 0.3307 - val_accuracy: 0.8851\n",
      "Epoch 8/10\n",
      "1488/1488 [==============================] - 11s 7ms/step - loss: 0.3077 - accuracy: 0.8867 - val_loss: 0.3300 - val_accuracy: 0.8830\n",
      "Epoch 9/10\n",
      "1488/1488 [==============================] - 11s 7ms/step - loss: 0.2984 - accuracy: 0.8899 - val_loss: 0.3202 - val_accuracy: 0.8874\n",
      "Epoch 10/10\n",
      "1488/1488 [==============================] - 11s 7ms/step - loss: 0.2896 - accuracy: 0.8932 - val_loss: 0.3251 - val_accuracy: 0.8843\n"
     ]
    }
   ],
   "source": [
    "result = model.fit(X_train, y_train, epochs=10, validation_data = (X_val, y_val))"
   ]
  },
  {
   "cell_type": "markdown",
   "metadata": {},
   "source": [
    "#### learning rate 변경"
   ]
  },
  {
   "cell_type": "code",
   "execution_count": 19,
   "metadata": {},
   "outputs": [
    {
     "name": "stdout",
     "output_type": "stream",
     "text": [
      "Model: \"sequential_2\"\n",
      "_________________________________________________________________\n",
      " Layer (type)                Output Shape              Param #   \n",
      "=================================================================\n",
      " flatten_2 (Flatten)         (None, 784)               0         \n",
      "                                                                 \n",
      " dense_8 (Dense)             (None, 512)               401920    \n",
      "                                                                 \n",
      " dense_9 (Dense)             (None, 256)               131328    \n",
      "                                                                 \n",
      " dense_10 (Dense)            (None, 128)               32896     \n",
      "                                                                 \n",
      " dense_11 (Dense)            (None, 10)                1290      \n",
      "                                                                 \n",
      "=================================================================\n",
      "Total params: 567,434\n",
      "Trainable params: 567,434\n",
      "Non-trainable params: 0\n",
      "_________________________________________________________________\n",
      "None\n"
     ]
    }
   ],
   "source": [
    "model = keras.Sequential([\n",
    "    keras.layers.Flatten(input_shape=(28, 28)),\n",
    "    keras.layers.Dense(512, activation='linear'),\n",
    "    keras.layers.Dense(256, activation='linear'),\n",
    "    keras.layers.Dense(128, activation='relu'),\n",
    "    keras.layers.Dense(10, activation='softmax')\n",
    "])\n",
    "\n",
    "print(model.summary())"
   ]
  },
  {
   "cell_type": "code",
   "execution_count": 20,
   "metadata": {},
   "outputs": [
    {
     "name": "stderr",
     "output_type": "stream",
     "text": [
      "WARNING:absl:`lr` is deprecated, please use `learning_rate` instead, or use the legacy optimizer, e.g.,tf.keras.optimizers.legacy.SGD.\n"
     ]
    }
   ],
   "source": [
    "optimizer = keras.optimizers.SGD(lr=0.05, momentum=0.5)\n",
    "model.compile(optimizer=optimizer,\n",
    "              loss=tf.keras.losses.SparseCategoricalCrossentropy(from_logits=True),\n",
    "              metrics=['accuracy'])"
   ]
  },
  {
   "cell_type": "code",
   "execution_count": 21,
   "metadata": {},
   "outputs": [
    {
     "name": "stdout",
     "output_type": "stream",
     "text": [
      "Epoch 1/10\n",
      "1488/1488 [==============================] - 11s 7ms/step - loss: 0.5779 - accuracy: 0.7988 - val_loss: 0.4385 - val_accuracy: 0.8463\n",
      "Epoch 2/10\n",
      "1488/1488 [==============================] - 10s 7ms/step - loss: 0.4370 - accuracy: 0.8457 - val_loss: 0.4142 - val_accuracy: 0.8499\n",
      "Epoch 3/10\n",
      "1488/1488 [==============================] - 11s 7ms/step - loss: 0.3965 - accuracy: 0.8568 - val_loss: 0.3899 - val_accuracy: 0.8608\n",
      "Epoch 4/10\n",
      "1488/1488 [==============================] - 11s 7ms/step - loss: 0.3698 - accuracy: 0.8656 - val_loss: 0.3467 - val_accuracy: 0.8759\n",
      "Epoch 5/10\n",
      "1488/1488 [==============================] - 11s 7ms/step - loss: 0.3493 - accuracy: 0.8726 - val_loss: 0.3416 - val_accuracy: 0.8747\n",
      "Epoch 6/10\n",
      "1488/1488 [==============================] - 10s 7ms/step - loss: 0.3353 - accuracy: 0.8792 - val_loss: 0.3411 - val_accuracy: 0.8824\n",
      "Epoch 7/10\n",
      "1488/1488 [==============================] - 10s 7ms/step - loss: 0.3239 - accuracy: 0.8826 - val_loss: 0.3382 - val_accuracy: 0.8782\n",
      "Epoch 8/10\n",
      "1488/1488 [==============================] - 10s 7ms/step - loss: 0.3124 - accuracy: 0.8857 - val_loss: 0.3257 - val_accuracy: 0.8813\n",
      "Epoch 9/10\n",
      "1488/1488 [==============================] - 10s 7ms/step - loss: 0.3022 - accuracy: 0.8896 - val_loss: 0.3452 - val_accuracy: 0.8729\n",
      "Epoch 10/10\n",
      "1488/1488 [==============================] - 10s 7ms/step - loss: 0.2933 - accuracy: 0.8918 - val_loss: 0.3112 - val_accuracy: 0.8886\n"
     ]
    }
   ],
   "source": [
    "result = model.fit(X_train, y_train, epochs=10, validation_data = (X_val, y_val))"
   ]
  },
  {
   "cell_type": "code",
   "execution_count": 22,
   "metadata": {},
   "outputs": [
    {
     "name": "stdout",
     "output_type": "stream",
     "text": [
      "Epoch 1/50\n",
      "1488/1488 [==============================] - 11s 7ms/step - loss: 0.2859 - accuracy: 0.8954 - val_loss: 0.3307 - val_accuracy: 0.8821\n",
      "Epoch 2/50\n",
      "1488/1488 [==============================] - 11s 7ms/step - loss: 0.2773 - accuracy: 0.8987 - val_loss: 0.3454 - val_accuracy: 0.8736\n",
      "Epoch 3/50\n",
      "1488/1488 [==============================] - 11s 8ms/step - loss: 0.2717 - accuracy: 0.8995 - val_loss: 0.3126 - val_accuracy: 0.8882\n",
      "Epoch 4/50\n",
      "1488/1488 [==============================] - 11s 7ms/step - loss: 0.2643 - accuracy: 0.9033 - val_loss: 0.3081 - val_accuracy: 0.8921\n",
      "Epoch 5/50\n",
      "1488/1488 [==============================] - 11s 7ms/step - loss: 0.2596 - accuracy: 0.9046 - val_loss: 0.3191 - val_accuracy: 0.8830\n",
      "Epoch 6/50\n",
      "1488/1488 [==============================] - 11s 7ms/step - loss: 0.2535 - accuracy: 0.9073 - val_loss: 0.3111 - val_accuracy: 0.8902\n",
      "Epoch 7/50\n",
      "1488/1488 [==============================] - 10s 7ms/step - loss: 0.2485 - accuracy: 0.9084 - val_loss: 0.3048 - val_accuracy: 0.8901\n",
      "Epoch 8/50\n",
      "1488/1488 [==============================] - 11s 7ms/step - loss: 0.2428 - accuracy: 0.9104 - val_loss: 0.3011 - val_accuracy: 0.8945\n",
      "Epoch 9/50\n",
      "1488/1488 [==============================] - 11s 7ms/step - loss: 0.2366 - accuracy: 0.9125 - val_loss: 0.3245 - val_accuracy: 0.8894\n",
      "Epoch 10/50\n",
      "1488/1488 [==============================] - 11s 7ms/step - loss: 0.2314 - accuracy: 0.9153 - val_loss: 0.3101 - val_accuracy: 0.8913\n",
      "Epoch 11/50\n",
      "1488/1488 [==============================] - 11s 7ms/step - loss: 0.2269 - accuracy: 0.9172 - val_loss: 0.3237 - val_accuracy: 0.8890\n",
      "Epoch 12/50\n",
      "1488/1488 [==============================] - 11s 7ms/step - loss: 0.2237 - accuracy: 0.9168 - val_loss: 0.3109 - val_accuracy: 0.8939\n",
      "Epoch 13/50\n",
      "1488/1488 [==============================] - 11s 7ms/step - loss: 0.2178 - accuracy: 0.9213 - val_loss: 0.3181 - val_accuracy: 0.8880\n",
      "Epoch 14/50\n",
      "1488/1488 [==============================] - 11s 7ms/step - loss: 0.2154 - accuracy: 0.9209 - val_loss: 0.3047 - val_accuracy: 0.8927\n",
      "Epoch 15/50\n",
      "1488/1488 [==============================] - 11s 7ms/step - loss: 0.2092 - accuracy: 0.9222 - val_loss: 0.3204 - val_accuracy: 0.8918\n",
      "Epoch 16/50\n",
      "1488/1488 [==============================] - 10s 7ms/step - loss: 0.2055 - accuracy: 0.9245 - val_loss: 0.3156 - val_accuracy: 0.8892\n",
      "Epoch 17/50\n",
      "1488/1488 [==============================] - 11s 7ms/step - loss: 0.2020 - accuracy: 0.9258 - val_loss: 0.3075 - val_accuracy: 0.8972\n",
      "Epoch 18/50\n",
      "1488/1488 [==============================] - 11s 7ms/step - loss: 0.1978 - accuracy: 0.9275 - val_loss: 0.3065 - val_accuracy: 0.8955\n",
      "Epoch 19/50\n",
      "1488/1488 [==============================] - 11s 7ms/step - loss: 0.1948 - accuracy: 0.9289 - val_loss: 0.3143 - val_accuracy: 0.8926\n",
      "Epoch 20/50\n",
      "1488/1488 [==============================] - 11s 7ms/step - loss: 0.1923 - accuracy: 0.9287 - val_loss: 0.3019 - val_accuracy: 0.8970\n",
      "Epoch 21/50\n",
      "1488/1488 [==============================] - 11s 7ms/step - loss: 0.1873 - accuracy: 0.9318 - val_loss: 0.3228 - val_accuracy: 0.8896\n",
      "Epoch 22/50\n",
      "1488/1488 [==============================] - 11s 7ms/step - loss: 0.1827 - accuracy: 0.9325 - val_loss: 0.3396 - val_accuracy: 0.8850\n",
      "Epoch 23/50\n",
      "1488/1488 [==============================] - 11s 7ms/step - loss: 0.1806 - accuracy: 0.9342 - val_loss: 0.3270 - val_accuracy: 0.8937\n",
      "Epoch 24/50\n",
      "1488/1488 [==============================] - 11s 7ms/step - loss: 0.1779 - accuracy: 0.9327 - val_loss: 0.3088 - val_accuracy: 0.8978\n",
      "Epoch 25/50\n",
      "1488/1488 [==============================] - 11s 7ms/step - loss: 0.1745 - accuracy: 0.9362 - val_loss: 0.3191 - val_accuracy: 0.8986\n",
      "Epoch 26/50\n",
      "1488/1488 [==============================] - 11s 8ms/step - loss: 0.1712 - accuracy: 0.9376 - val_loss: 0.3026 - val_accuracy: 0.9002\n",
      "Epoch 27/50\n",
      "1488/1488 [==============================] - 11s 7ms/step - loss: 0.1674 - accuracy: 0.9400 - val_loss: 0.3089 - val_accuracy: 0.8982\n",
      "Epoch 28/50\n",
      "1488/1488 [==============================] - 11s 7ms/step - loss: 0.1658 - accuracy: 0.9402 - val_loss: 0.3222 - val_accuracy: 0.8980\n",
      "Epoch 29/50\n",
      "1488/1488 [==============================] - 11s 7ms/step - loss: 0.1627 - accuracy: 0.9404 - val_loss: 0.3287 - val_accuracy: 0.8935\n",
      "Epoch 30/50\n",
      "1488/1488 [==============================] - 11s 7ms/step - loss: 0.1601 - accuracy: 0.9422 - val_loss: 0.3238 - val_accuracy: 0.8949\n",
      "Epoch 31/50\n",
      "1488/1488 [==============================] - 11s 7ms/step - loss: 0.1566 - accuracy: 0.9437 - val_loss: 0.3253 - val_accuracy: 0.8975\n",
      "Epoch 32/50\n",
      "1488/1488 [==============================] - 11s 8ms/step - loss: 0.1548 - accuracy: 0.9442 - val_loss: 0.3291 - val_accuracy: 0.8935\n",
      "Epoch 33/50\n",
      "1488/1488 [==============================] - 10s 7ms/step - loss: 0.1510 - accuracy: 0.9455 - val_loss: 0.3391 - val_accuracy: 0.8915\n",
      "Epoch 34/50\n",
      "1488/1488 [==============================] - 10s 7ms/step - loss: 0.1486 - accuracy: 0.9467 - val_loss: 0.3457 - val_accuracy: 0.8945\n",
      "Epoch 35/50\n",
      "1488/1488 [==============================] - 11s 7ms/step - loss: 0.1477 - accuracy: 0.9471 - val_loss: 0.3458 - val_accuracy: 0.8911\n",
      "Epoch 36/50\n",
      "1488/1488 [==============================] - 12s 8ms/step - loss: 0.1453 - accuracy: 0.9459 - val_loss: 0.3532 - val_accuracy: 0.8910\n",
      "Epoch 37/50\n",
      "1488/1488 [==============================] - 11s 8ms/step - loss: 0.1427 - accuracy: 0.9493 - val_loss: 0.3301 - val_accuracy: 0.8962\n",
      "Epoch 38/50\n",
      "1488/1488 [==============================] - 11s 7ms/step - loss: 0.1402 - accuracy: 0.9495 - val_loss: 0.3426 - val_accuracy: 0.8960\n",
      "Epoch 39/50\n",
      "1488/1488 [==============================] - 11s 7ms/step - loss: 0.1373 - accuracy: 0.9504 - val_loss: 0.3603 - val_accuracy: 0.8938\n",
      "Epoch 40/50\n",
      "1488/1488 [==============================] - 11s 7ms/step - loss: 0.1361 - accuracy: 0.9511 - val_loss: 0.3538 - val_accuracy: 0.8944\n",
      "Epoch 41/50\n",
      "1488/1488 [==============================] - 11s 7ms/step - loss: 0.1317 - accuracy: 0.9533 - val_loss: 0.3639 - val_accuracy: 0.8903\n",
      "Epoch 42/50\n",
      "1488/1488 [==============================] - 11s 8ms/step - loss: 0.1311 - accuracy: 0.9526 - val_loss: 0.3773 - val_accuracy: 0.8868\n",
      "Epoch 43/50\n",
      "1488/1488 [==============================] - 11s 8ms/step - loss: 0.1289 - accuracy: 0.9521 - val_loss: 0.3600 - val_accuracy: 0.8939\n",
      "Epoch 44/50\n",
      "1488/1488 [==============================] - 11s 7ms/step - loss: 0.1278 - accuracy: 0.9531 - val_loss: 0.3696 - val_accuracy: 0.8885\n",
      "Epoch 45/50\n",
      "1488/1488 [==============================] - 11s 7ms/step - loss: 0.1231 - accuracy: 0.9558 - val_loss: 0.3489 - val_accuracy: 0.8971\n",
      "Epoch 46/50\n",
      "1488/1488 [==============================] - 11s 7ms/step - loss: 0.1242 - accuracy: 0.9553 - val_loss: 0.3898 - val_accuracy: 0.8867\n",
      "Epoch 47/50\n",
      "1488/1488 [==============================] - 11s 8ms/step - loss: 0.1220 - accuracy: 0.9564 - val_loss: 0.3860 - val_accuracy: 0.8850\n",
      "Epoch 48/50\n",
      "1488/1488 [==============================] - 11s 8ms/step - loss: 0.1186 - accuracy: 0.9570 - val_loss: 0.3898 - val_accuracy: 0.8887\n",
      "Epoch 49/50\n",
      "1488/1488 [==============================] - 11s 7ms/step - loss: 0.1176 - accuracy: 0.9578 - val_loss: 0.3841 - val_accuracy: 0.8903\n",
      "Epoch 50/50\n",
      "1488/1488 [==============================] - 11s 7ms/step - loss: 0.1133 - accuracy: 0.9578 - val_loss: 0.3969 - val_accuracy: 0.8886\n"
     ]
    }
   ],
   "source": [
    "result = model.fit(X_train, y_train, epochs=50, validation_data = (X_val, y_val))"
   ]
  },
  {
   "cell_type": "markdown",
   "metadata": {},
   "source": [
    "가장 accuracy가 높은 경우는 activation function으로 relu 로 하고 learning rate를 0.01로 한 모델이었다."
   ]
  },
  {
   "cell_type": "code",
   "execution_count": null,
   "metadata": {},
   "outputs": [],
   "source": []
  }
 ],
 "metadata": {
  "kernelspec": {
   "display_name": "Python 3",
   "language": "python",
   "name": "python3"
  },
  "language_info": {
   "codemirror_mode": {
    "name": "ipython",
    "version": 3
   },
   "file_extension": ".py",
   "mimetype": "text/x-python",
   "name": "python",
   "nbconvert_exporter": "python",
   "pygments_lexer": "ipython3",
   "version": "3.7.3"
  }
 },
 "nbformat": 4,
 "nbformat_minor": 5
}
